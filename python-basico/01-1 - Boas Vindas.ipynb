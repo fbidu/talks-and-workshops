{
 "cells": [
  {
   "cell_type": "markdown",
   "metadata": {},
   "source": [
    "# Olá\n",
    "\n",
    "Esse curso rápido de Python tem como público alvo pessoas que não possuem experiência prévia em programação. Ele foi montado pensando em um cronograma relativamente apertado para esse objetivo - 6 horas totais - e inclui exercícios e referências para possíveis aprofundamentos.\n",
    "\n",
    "Como plataforma, ele utiliza do projeto [Jupyter](https://jupyter.org/). Isso significa que todas essas \"células\" podem ser executadas! Clique na célula de baixo, com o código `10 * 3` e aperte CTRL+Enter"
   ]
  },
  {
   "cell_type": "code",
   "execution_count": null,
   "metadata": {},
   "outputs": [],
   "source": [
    "10 * 3"
   ]
  }
 ],
 "metadata": {
  "kernelspec": {
   "display_name": "Python 3",
   "language": "python",
   "name": "python3"
  },
  "language_info": {
   "codemirror_mode": {
    "name": "ipython",
    "version": 3
   },
   "file_extension": ".py",
   "mimetype": "text/x-python",
   "name": "python",
   "nbconvert_exporter": "python",
   "pygments_lexer": "ipython3",
   "version": "3.8.5"
  }
 },
 "nbformat": 4,
 "nbformat_minor": 4
}

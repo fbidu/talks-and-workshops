{
 "cells": [
  {
   "cell_type": "markdown",
   "metadata": {},
   "source": [
    "# Funções\n",
    "\n",
    "A definição de funções em nossos códigos é uma ferramenta importante para reaproveitarmos operações que executamos diversas vezes. Em python, a sintaxe para definir uma função é a que segue:\n",
    "\n",
    "```python\n",
    "\n",
    "def nome_da_função(argumento_um, argumento_dois):\n",
    "    \"\"\"\n",
    "    bloco de código da função\n",
    "    \"\"\"\n",
    "    return # resultado da função, caso exista\n",
    "```"
   ]
  },
  {
   "cell_type": "code",
   "execution_count": 3,
   "metadata": {},
   "outputs": [
    {
     "name": "stdout",
     "output_type": "stream",
     "text": [
      "10\n",
      "12\n",
      "14\n",
      "16\n",
      "18\n",
      "20\n",
      "22\n",
      "24\n",
      "26\n",
      "28\n",
      "30\n",
      "32\n",
      "34\n",
      "36\n",
      "38\n",
      "40\n",
      "42\n",
      "44\n",
      "46\n",
      "48\n"
     ]
    }
   ],
   "source": [
    "def imprime_pares(mínimo, máximo):\n",
    "    for i in range(mínimo, máximo):\n",
    "        if not i % 2:\n",
    "            print(i)\n",
    "imprime_pares(10, 50)"
   ]
  },
  {
   "cell_type": "markdown",
   "metadata": {},
   "source": [
    "Podemos também oferecer valores padrão para nossos argumentos, nesse caso eles se tornarão opcionais:"
   ]
  },
  {
   "cell_type": "code",
   "execution_count": 4,
   "metadata": {},
   "outputs": [
    {
     "name": "stdout",
     "output_type": "stream",
     "text": [
      "5\n",
      "7\n",
      "9\n",
      "11\n",
      "13\n",
      "15\n",
      "17\n",
      "19\n"
     ]
    }
   ],
   "source": [
    "def imprime_ímpares(mínimo, máximo=20):\n",
    "    for i in range(mínimo, máximo):\n",
    "        if i % 2:\n",
    "            print(i)\n",
    "imprime_ímpares(5)"
   ]
  },
  {
   "cell_type": "code",
   "execution_count": 7,
   "metadata": {},
   "outputs": [
    {
     "name": "stdout",
     "output_type": "stream",
     "text": [
      "11\n",
      "13\n",
      "15\n",
      "17\n",
      "19\n",
      "21\n",
      "23\n",
      "25\n",
      "27\n",
      "29\n"
     ]
    }
   ],
   "source": [
    "# Argumentos podem ser referenciado por nome ou por posição\n",
    "imprime_ímpares(mínimo=10, máximo=30)"
   ]
  },
  {
   "cell_type": "code",
   "execution_count": 8,
   "metadata": {},
   "outputs": [
    {
     "ename": "SyntaxError",
     "evalue": "positional argument follows keyword argument (<ipython-input-8-21eac4a27605>, line 2)",
     "output_type": "error",
     "traceback": [
      "\u001b[1;36m  File \u001b[1;32m\"<ipython-input-8-21eac4a27605>\"\u001b[1;36m, line \u001b[1;32m2\u001b[0m\n\u001b[1;33m    imprime_ímpares(mínimo=10, 50)\u001b[0m\n\u001b[1;37m                                ^\u001b[0m\n\u001b[1;31mSyntaxError\u001b[0m\u001b[1;31m:\u001b[0m positional argument follows keyword argument\n"
     ]
    }
   ],
   "source": [
    "# Mas todo argumento referenciado por nome deve vir depois de todos os referenciados por posição\n",
    "imprime_ímpares(mínimo=10, 50)"
   ]
  },
  {
   "cell_type": "markdown",
   "metadata": {},
   "source": [
    "Observe que nesse caso, é impossível chamarmos _apenas_ o argumento \"mínimo\" pelo nome pois ele foi definido como posicional"
   ]
  },
  {
   "cell_type": "code",
   "execution_count": 9,
   "metadata": {},
   "outputs": [
    {
     "ename": "TypeError",
     "evalue": "imprime_ímpares() got multiple values for argument 'mínimo'",
     "output_type": "error",
     "traceback": [
      "\u001b[1;31m---------------------------------------------------------------------------\u001b[0m",
      "\u001b[1;31mTypeError\u001b[0m                                 Traceback (most recent call last)",
      "\u001b[1;32m<ipython-input-9-3257928e667d>\u001b[0m in \u001b[0;36m<module>\u001b[1;34m()\u001b[0m\n\u001b[1;32m----> 1\u001b[1;33m \u001b[0mimprime_ímpares\u001b[0m\u001b[1;33m(\u001b[0m\u001b[1;36m50\u001b[0m\u001b[1;33m,\u001b[0m \u001b[0mmínimo\u001b[0m\u001b[1;33m=\u001b[0m\u001b[1;36m10\u001b[0m\u001b[1;33m)\u001b[0m\u001b[1;33m\u001b[0m\u001b[0m\n\u001b[0m",
      "\u001b[1;31mTypeError\u001b[0m: imprime_ímpares() got multiple values for argument 'mínimo'"
     ]
    }
   ],
   "source": [
    "imprime_ímpares(50, mínimo=10)"
   ]
  },
  {
   "cell_type": "markdown",
   "metadata": {},
   "source": [
    "## Quantidade arbitrária de argumentos\n",
    "\n",
    "[Referência](https://docs.python.org/3/tutorial/controlflow.html#arbitrary-argument-lists)\n",
    "\n",
    "As vezes não sabemos quanto argumentos teremos, por exemplo:"
   ]
  },
  {
   "cell_type": "code",
   "execution_count": 12,
   "metadata": {},
   "outputs": [
    {
     "data": {
      "text/plain": [
       "15"
      ]
     },
     "execution_count": 12,
     "metadata": {},
     "output_type": "execute_result"
    }
   ],
   "source": [
    "def somatório(*args):\n",
    "    resultado = 0\n",
    "    for arg in args:\n",
    "        resultado += arg\n",
    "    return resultado\n",
    "\n",
    "somatório(1, 2, 3, 4, 5)"
   ]
  },
  {
   "cell_type": "markdown",
   "metadata": {},
   "source": [
    "_(Observe a construção `for arg in args`. `args` é uma lista e essa sintaxe de loop é bastante interessante. Vamos ver mais sobre ela adiante)_\n",
    "\n",
    "Podemos também receber argumentos arbitrários nomeados:"
   ]
  },
  {
   "cell_type": "code",
   "execution_count": 13,
   "metadata": {},
   "outputs": [
    {
     "name": "stdout",
     "output_type": "stream",
     "text": [
      "Olá Felipe!\n"
     ]
    }
   ],
   "source": [
    "def cumprimentar(**kwargs):\n",
    "    print(\"Olá {}!\".format(kwargs[\"nome\"]))\n",
    "    \n",
    "cumprimentar(nome='Felipe')"
   ]
  },
  {
   "cell_type": "markdown",
   "metadata": {},
   "source": [
    "## Funções de checagem\n",
    "\n",
    "É relativamente comum criarmos funções que simplesmente retornam se uma condição é verdadeira ou falsa, por exemplo:"
   ]
  },
  {
   "cell_type": "code",
   "execution_count": 15,
   "metadata": {},
   "outputs": [
    {
     "data": {
      "text/plain": [
       "True"
      ]
     },
     "execution_count": 15,
     "metadata": {},
     "output_type": "execute_result"
    }
   ],
   "source": [
    "def checa_maioridade(idade):\n",
    "    if idade < 18:\n",
    "        return False\n",
    "    else:\n",
    "        return True\n",
    "    \n",
    "checa_maioridade(20)"
   ]
  },
  {
   "cell_type": "markdown",
   "metadata": {},
   "source": [
    "Você provavelmente vai se deparar com situações assim muitas vezes. Nesses casos, algumas otimizações de estilo de código podem ser aplicadas e também podemos utilizar de expressões booleanas.\n",
    "\n",
    "Uma otimização simples seria simplesmente nos livramos do `else`. Se a expressão booleana for verdadeira, paramos logo no `if`. O fluxo natural do código vai garantir o funcionamento:"
   ]
  },
  {
   "cell_type": "code",
   "execution_count": 16,
   "metadata": {},
   "outputs": [
    {
     "data": {
      "text/plain": [
       "True"
      ]
     },
     "execution_count": 16,
     "metadata": {},
     "output_type": "execute_result"
    }
   ],
   "source": [
    "def checa_maioridade(idade):\n",
    "    if idade < 18:\n",
    "        return False\n",
    "    \n",
    "    return True\n",
    "    \n",
    "checa_maioridade(20)"
   ]
  },
  {
   "cell_type": "markdown",
   "metadata": {},
   "source": [
    "Outra otimização usual em funções assim é fazer com que a checagem da condicional cause o retorno `True` e o caso excepcional fique do lado de fora. Basta invertermos:"
   ]
  },
  {
   "cell_type": "code",
   "execution_count": 17,
   "metadata": {},
   "outputs": [
    {
     "data": {
      "text/plain": [
       "True"
      ]
     },
     "execution_count": 17,
     "metadata": {},
     "output_type": "execute_result"
    }
   ],
   "source": [
    "def checa_maioridade(idade):\n",
    "    if idade >= 18:\n",
    "        return True\n",
    "    \n",
    "    return False\n",
    "    \n",
    "checa_maioridade(20)"
   ]
  },
  {
   "cell_type": "markdown",
   "metadata": {},
   "source": [
    "Observe que a gente chegou numa construção interessante. Se a expressão booleana do if é verdadeira, retornamos verdadeiro. Ou seja, **nossa função retorna exatamente o mesmo valor que a expressão usada no if!**\n",
    "\n",
    "Nesse caso, Python permite que a gente simplesmente arranque o `if` inteiro e **retornemos diretamente o valor da expressão:**"
   ]
  },
  {
   "cell_type": "code",
   "execution_count": 19,
   "metadata": {},
   "outputs": [
    {
     "data": {
      "text/plain": [
       "True"
      ]
     },
     "execution_count": 19,
     "metadata": {},
     "output_type": "execute_result"
    }
   ],
   "source": [
    "def checa_maioridade(idade):\n",
    "    return idade >= 18\n",
    "    \n",
    "checa_maioridade(20)"
   ]
  },
  {
   "cell_type": "markdown",
   "metadata": {},
   "source": [
    "Nem sempre criar funções de uma linha — mais conhecidas pelo nome em inglês, _one-liner_ — é o ideal. O código pode ficar muito denso e mais difícil de ser lido e compreendido. Lembre-se do Zen do Python, legibilidade conta!"
   ]
  },
  {
   "cell_type": "markdown",
   "metadata": {},
   "source": [
    "## Funções recursivas\n",
    "\n",
    "Também usuais e não possuem uma sintaxe especial, basta realizar a chamada e tomar cuidado com loops infinitos!. O clássico exemplo de Fibonacci:"
   ]
  },
  {
   "cell_type": "code",
   "execution_count": 49,
   "metadata": {},
   "outputs": [
    {
     "name": "stdout",
     "output_type": "stream",
     "text": [
      "1\n",
      "1\n",
      "2\n",
      "3\n",
      "5\n",
      "8\n",
      "13\n",
      "21\n",
      "34\n",
      "55\n"
     ]
    }
   ],
   "source": [
    "def fibonacci(n):\n",
    "    if n <= 2:\n",
    "        return 1\n",
    "    return fibonacci(n - 1) + fibonacci(n - 2)\n",
    "\n",
    "for i in range(1, 11):\n",
    "    print(fibonacci(i))"
   ]
  },
  {
   "cell_type": "markdown",
   "metadata": {},
   "source": [
    "No entanto, CPython possui um limite de [quão profunda uma recursão ](https://docs.python.org/3/library/exceptions.html#RecursionError)."
   ]
  },
  {
   "cell_type": "markdown",
   "metadata": {},
   "source": [
    "## Usando `assert` para validar argumentos\n",
    "\n",
    "Na parte sobre booleanos aprendemos sobre a instrução `assert` e como ela é útil para mostrar um erro caso alguma expressão booleana tenha valor falso. Um uso bastante comum é utilizar o `assert` para validar as entradas de uma função!\n",
    "\n",
    "Veja esse exemplo de uma função que aluga livros. O número de livros a ser alugado deve ser um inteiro, maior do que 0 e menor do que 10:"
   ]
  },
  {
   "cell_type": "code",
   "execution_count": 44,
   "metadata": {},
   "outputs": [],
   "source": [
    "def alugar_livros(quantidade):\n",
    "    assert type(quantidade) == int, \"Forneça um numero inteiro\"\n",
    "    assert quantidade > 0, \"Você precisa alugar ao menos um livro!\"\n",
    "    assert quantidade < 10, \"Você não pode alugar mais que 10 livros!\"\n",
    "    \n",
    "    return \"Livros alugados com sucesso!\""
   ]
  },
  {
   "cell_type": "code",
   "execution_count": 45,
   "metadata": {},
   "outputs": [
    {
     "ename": "AssertionError",
     "evalue": "Você precisa alugar ao menos um livro!",
     "output_type": "error",
     "traceback": [
      "\u001b[1;31m---------------------------------------------------------------------------\u001b[0m",
      "\u001b[1;31mAssertionError\u001b[0m                            Traceback (most recent call last)",
      "\u001b[1;32m<ipython-input-45-1af06bd7349b>\u001b[0m in \u001b[0;36m<module>\u001b[1;34m()\u001b[0m\n\u001b[1;32m----> 1\u001b[1;33m \u001b[0malugar_livros\u001b[0m\u001b[1;33m(\u001b[0m\u001b[1;36m0\u001b[0m\u001b[1;33m)\u001b[0m\u001b[1;33m\u001b[0m\u001b[0m\n\u001b[0m",
      "\u001b[1;32m<ipython-input-44-924315f3cb7d>\u001b[0m in \u001b[0;36malugar_livros\u001b[1;34m(quantidade)\u001b[0m\n\u001b[0;32m      1\u001b[0m \u001b[1;32mdef\u001b[0m \u001b[0malugar_livros\u001b[0m\u001b[1;33m(\u001b[0m\u001b[0mquantidade\u001b[0m\u001b[1;33m)\u001b[0m\u001b[1;33m:\u001b[0m\u001b[1;33m\u001b[0m\u001b[0m\n\u001b[0;32m      2\u001b[0m     \u001b[1;32massert\u001b[0m \u001b[0mtype\u001b[0m\u001b[1;33m(\u001b[0m\u001b[0mquantidade\u001b[0m\u001b[1;33m)\u001b[0m \u001b[1;33m==\u001b[0m \u001b[0mint\u001b[0m\u001b[1;33m,\u001b[0m \u001b[1;34m\"Forneça um numero inteiro\"\u001b[0m\u001b[1;33m\u001b[0m\u001b[0m\n\u001b[1;32m----> 3\u001b[1;33m     \u001b[1;32massert\u001b[0m \u001b[0mquantidade\u001b[0m \u001b[1;33m>\u001b[0m \u001b[1;36m0\u001b[0m\u001b[1;33m,\u001b[0m \u001b[1;34m\"Você precisa alugar ao menos um livro!\"\u001b[0m\u001b[1;33m\u001b[0m\u001b[0m\n\u001b[0m\u001b[0;32m      4\u001b[0m     \u001b[1;32massert\u001b[0m \u001b[0mquantidade\u001b[0m \u001b[1;33m<\u001b[0m \u001b[1;36m10\u001b[0m\u001b[1;33m,\u001b[0m \u001b[1;34m\"Você não pode alugar mais que 10 livros!\"\u001b[0m\u001b[1;33m\u001b[0m\u001b[0m\n\u001b[0;32m      5\u001b[0m \u001b[1;33m\u001b[0m\u001b[0m\n",
      "\u001b[1;31mAssertionError\u001b[0m: Você precisa alugar ao menos um livro!"
     ]
    }
   ],
   "source": [
    "alugar_livros(0)"
   ]
  },
  {
   "cell_type": "code",
   "execution_count": 46,
   "metadata": {},
   "outputs": [
    {
     "ename": "AssertionError",
     "evalue": "Você não pode alugar mais que 10 livros!",
     "output_type": "error",
     "traceback": [
      "\u001b[1;31m---------------------------------------------------------------------------\u001b[0m",
      "\u001b[1;31mAssertionError\u001b[0m                            Traceback (most recent call last)",
      "\u001b[1;32m<ipython-input-46-04c69689b43b>\u001b[0m in \u001b[0;36m<module>\u001b[1;34m()\u001b[0m\n\u001b[1;32m----> 1\u001b[1;33m \u001b[0malugar_livros\u001b[0m\u001b[1;33m(\u001b[0m\u001b[1;36m20\u001b[0m\u001b[1;33m)\u001b[0m\u001b[1;33m\u001b[0m\u001b[0m\n\u001b[0m",
      "\u001b[1;32m<ipython-input-44-924315f3cb7d>\u001b[0m in \u001b[0;36malugar_livros\u001b[1;34m(quantidade)\u001b[0m\n\u001b[0;32m      2\u001b[0m     \u001b[1;32massert\u001b[0m \u001b[0mtype\u001b[0m\u001b[1;33m(\u001b[0m\u001b[0mquantidade\u001b[0m\u001b[1;33m)\u001b[0m \u001b[1;33m==\u001b[0m \u001b[0mint\u001b[0m\u001b[1;33m,\u001b[0m \u001b[1;34m\"Forneça um numero inteiro\"\u001b[0m\u001b[1;33m\u001b[0m\u001b[0m\n\u001b[0;32m      3\u001b[0m     \u001b[1;32massert\u001b[0m \u001b[0mquantidade\u001b[0m \u001b[1;33m>\u001b[0m \u001b[1;36m0\u001b[0m\u001b[1;33m,\u001b[0m \u001b[1;34m\"Você precisa alugar ao menos um livro!\"\u001b[0m\u001b[1;33m\u001b[0m\u001b[0m\n\u001b[1;32m----> 4\u001b[1;33m     \u001b[1;32massert\u001b[0m \u001b[0mquantidade\u001b[0m \u001b[1;33m<\u001b[0m \u001b[1;36m10\u001b[0m\u001b[1;33m,\u001b[0m \u001b[1;34m\"Você não pode alugar mais que 10 livros!\"\u001b[0m\u001b[1;33m\u001b[0m\u001b[0m\n\u001b[0m\u001b[0;32m      5\u001b[0m \u001b[1;33m\u001b[0m\u001b[0m\n\u001b[0;32m      6\u001b[0m     \u001b[1;32mreturn\u001b[0m \u001b[1;34m\"Livros alugados com sucesso!\"\u001b[0m\u001b[1;33m\u001b[0m\u001b[0m\n",
      "\u001b[1;31mAssertionError\u001b[0m: Você não pode alugar mais que 10 livros!"
     ]
    }
   ],
   "source": [
    "alugar_livros(20)"
   ]
  },
  {
   "cell_type": "code",
   "execution_count": 50,
   "metadata": {},
   "outputs": [
    {
     "ename": "AssertionError",
     "evalue": "Forneça um numero inteiro",
     "output_type": "error",
     "traceback": [
      "\u001b[1;31m---------------------------------------------------------------------------\u001b[0m",
      "\u001b[1;31mAssertionError\u001b[0m                            Traceback (most recent call last)",
      "\u001b[1;32m<ipython-input-50-a1d2bf2332a3>\u001b[0m in \u001b[0;36m<module>\u001b[1;34m()\u001b[0m\n\u001b[1;32m----> 1\u001b[1;33m \u001b[0malugar_livros\u001b[0m\u001b[1;33m(\u001b[0m\u001b[1;36m0.5\u001b[0m\u001b[1;33m)\u001b[0m\u001b[1;33m\u001b[0m\u001b[0m\n\u001b[0m",
      "\u001b[1;32m<ipython-input-44-924315f3cb7d>\u001b[0m in \u001b[0;36malugar_livros\u001b[1;34m(quantidade)\u001b[0m\n\u001b[0;32m      1\u001b[0m \u001b[1;32mdef\u001b[0m \u001b[0malugar_livros\u001b[0m\u001b[1;33m(\u001b[0m\u001b[0mquantidade\u001b[0m\u001b[1;33m)\u001b[0m\u001b[1;33m:\u001b[0m\u001b[1;33m\u001b[0m\u001b[0m\n\u001b[1;32m----> 2\u001b[1;33m     \u001b[1;32massert\u001b[0m \u001b[0mtype\u001b[0m\u001b[1;33m(\u001b[0m\u001b[0mquantidade\u001b[0m\u001b[1;33m)\u001b[0m \u001b[1;33m==\u001b[0m \u001b[0mint\u001b[0m\u001b[1;33m,\u001b[0m \u001b[1;34m\"Forneça um numero inteiro\"\u001b[0m\u001b[1;33m\u001b[0m\u001b[0m\n\u001b[0m\u001b[0;32m      3\u001b[0m     \u001b[1;32massert\u001b[0m \u001b[0mquantidade\u001b[0m \u001b[1;33m>\u001b[0m \u001b[1;36m0\u001b[0m\u001b[1;33m,\u001b[0m \u001b[1;34m\"Você precisa alugar ao menos um livro!\"\u001b[0m\u001b[1;33m\u001b[0m\u001b[0m\n\u001b[0;32m      4\u001b[0m     \u001b[1;32massert\u001b[0m \u001b[0mquantidade\u001b[0m \u001b[1;33m<\u001b[0m \u001b[1;36m10\u001b[0m\u001b[1;33m,\u001b[0m \u001b[1;34m\"Você não pode alugar mais que 10 livros!\"\u001b[0m\u001b[1;33m\u001b[0m\u001b[0m\n\u001b[0;32m      5\u001b[0m \u001b[1;33m\u001b[0m\u001b[0m\n",
      "\u001b[1;31mAssertionError\u001b[0m: Forneça um numero inteiro"
     ]
    }
   ],
   "source": [
    "alugar_livros(0.5)"
   ]
  },
  {
   "cell_type": "markdown",
   "metadata": {},
   "source": [
    "**Exercício**: implemente uma função que retorna verdadeiro caso um triângulo seja retângulo, aceitando como parâmetro os dois catetos, a hipotenusa:"
   ]
  },
  {
   "cell_type": "code",
   "execution_count": null,
   "metadata": {
    "scrolled": true
   },
   "outputs": [],
   "source": [
    "def é_triângulo_retângulo(cateto_1, cateto_2, hipotenusa):\n",
    "    pass\n",
    "\n",
    "assert é_triângulo_retângulo(3, 4, 5)\n",
    "assert é_triângulo_retângulo(5, 12, 13)\n",
    "assert not é_triângulo_retângulo(5, 5, 5)\n",
    "assert not é_triângulo_retângulo(5, 0, 5)"
   ]
  },
  {
   "cell_type": "markdown",
   "metadata": {},
   "source": [
    "## Lambdas\n",
    "\n",
    "Python permite a criação de lambdas, um conceito herdado do Lisp. Lambdas são pequenas expressões anônimas. Veja esse exemplo:"
   ]
  },
  {
   "cell_type": "code",
   "execution_count": null,
   "metadata": {},
   "outputs": [],
   "source": [
    "n = lambda a, b: a + b"
   ]
  },
  {
   "cell_type": "code",
   "execution_count": 3,
   "metadata": {},
   "outputs": [
    {
     "data": {
      "text/plain": [
       "11"
      ]
     },
     "execution_count": 3,
     "metadata": {},
     "output_type": "execute_result"
    }
   ],
   "source": [
    "n(1, 10)"
   ]
  },
  {
   "cell_type": "markdown",
   "metadata": {},
   "source": [
    "Observe como a sintaxe é mais simples. No entanto, lambdas também são bem mais limitadas. Elas executam apenas uma operação e retornam seu valor. Posteriormente, vamos ver como utilizar lambdas juntamente de listas para criar estruturas mais poderosas. Em resumo, **lambdas são usadas onde uma função é necessária mas se trata de um contexto tão pequeno e específico que não faz sentido criar uma função nomeada completa.**"
   ]
  }
 ],
 "metadata": {
  "kernelspec": {
   "display_name": "Python 3",
   "language": "python",
   "name": "python3"
  },
  "language_info": {
   "codemirror_mode": {
    "name": "ipython",
    "version": 3
   },
   "file_extension": ".py",
   "mimetype": "text/x-python",
   "name": "python",
   "nbconvert_exporter": "python",
   "pygments_lexer": "ipython3",
   "version": "3.7.2"
  }
 },
 "nbformat": 4,
 "nbformat_minor": 2
}


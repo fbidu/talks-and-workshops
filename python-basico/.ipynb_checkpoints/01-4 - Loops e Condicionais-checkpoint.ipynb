{
 "cells": [
  {
   "cell_type": "markdown",
   "metadata": {},
   "source": [
    "# Controles de Fluxo\n",
    "\n",
    "## Introdução\n",
    "\n",
    "Até agora escrevemos códigos que são executados uma linha após a outra:"
   ]
  },
  {
   "cell_type": "code",
   "execution_count": 10,
   "metadata": {},
   "outputs": [
    {
     "name": "stdout",
     "output_type": "stream",
     "text": [
      "O valor de x*y é 300\n"
     ]
    }
   ],
   "source": [
    "x = 10\n",
    "y = 30\n",
    "z = x * y\n",
    "\n",
    "print(f\"O valor de x*y é {z}\")"
   ]
  },
  {
   "cell_type": "markdown",
   "metadata": {},
   "source": [
    "Porém, nós as vezes precisamos de mais controle além de só 'executar tudo, uma linha depois da outra'. Muitas vezes, precisamos executar um pedaço de código **apenas se alguma condição for verdadeira**. Outras vezes, precisamos **repetir um pedaço de código** e assim vai.\n",
    "\n",
    "Em programação, tudo isso é conhecido como 'controle de fluxo'. São técnicas e construções que permitem que a gente extrapole o fluxo comum 'uma-linha-após-a-outra'."
   ]
  },
  {
   "cell_type": "markdown",
   "metadata": {},
   "source": [
    "A primeira forma que vamos ver é a **estrutura condicional**. Basicamente, ela nos permite determinar se queremos ou não executar um bloco de código.\n",
    "\n",
    "A estrutura geral dela é assim:\n",
    "\n",
    "```python\n",
    "if <expressão booleana>:\n",
    "    <bloco de código caso a expressão seja verdadeira>\n",
    "else:\n",
    "    <bloco de código caso a expressão seja falsa>\n",
    "```\n",
    "\n",
    "Essa sintaxe possui dois pontos importantes:\n",
    "\n",
    "1. A abertura de cada bloco de código é dada pelo caractere `:`\n",
    "2. O que está dentro de cada bloco é dado pela presença de 4 espaços\n",
    "\n",
    "Observe a seguinte construção:\n",
    "\n",
    "```python\n",
    "lado de fora antes do if\n",
    "lado de fora antes do if\n",
    "lado de fora antes do if\n",
    "\n",
    "if <condicional>:\n",
    "    bloco do if parte 1\n",
    "    bloco do if parte 2\n",
    "    ...\n",
    "    bloco do if parte n\n",
    "    \n",
    "lado de fora depois do if\n",
    "lado de fora depois do if\n",
    "lado de fora depois do if\n",
    "```"
   ]
  },
  {
   "cell_type": "code",
   "execution_count": 11,
   "metadata": {},
   "outputs": [
    {
     "name": "stdout",
     "output_type": "stream",
     "text": [
      "N é maior que 10 :D\n"
     ]
    }
   ],
   "source": [
    "n = 20\n",
    "\n",
    "if n > 10:\n",
    "    print(\"N é maior que 10 :D\")\n",
    "else:\n",
    "    print(\"N é menor que 10 :(\")"
   ]
  },
  {
   "cell_type": "markdown",
   "metadata": {},
   "source": [
    "**Exercício**: Modifique o valor de n e veja cada bloco sendo executado!"
   ]
  },
  {
   "cell_type": "markdown",
   "metadata": {},
   "source": [
    "**Exercício**: Vamos fazer um pequeno bloco de código para controlar a entrada de uma festa\n",
    "\n",
    "1. Declare uma variável 'idade' e coloque algum valor numérico dela\n",
    "2. Caso a `idade` seja maior ou igual à 18, imprima uma mensagem de boas vindas à festa\n",
    "3. Caso a `idade` seja menor que 18, imprima uma mensagem proibindo a entrada\n",
    "4. Modifique a variável idade e veja o funcionamento do if"
   ]
  },
  {
   "cell_type": "code",
   "execution_count": null,
   "metadata": {},
   "outputs": [],
   "source": []
  },
  {
   "cell_type": "markdown",
   "metadata": {},
   "source": [
    "Podemos fazer checagem de sub strings usando o operador `in`:"
   ]
  },
  {
   "cell_type": "code",
   "execution_count": 3,
   "metadata": {},
   "outputs": [
    {
     "name": "stdout",
     "output_type": "stream",
     "text": [
      "José está contido no nome!\n"
     ]
    }
   ],
   "source": [
    "nome = \"Joaquim José da Silva\"\n",
    "\n",
    "if \"José\" in nome:\n",
    "    print(\"José está contido no nome!\")"
   ]
  },
  {
   "cell_type": "markdown",
   "metadata": {},
   "source": [
    "\n",
    "## Exceções\n",
    "\n",
    "[Referência](https://docs.python.org/3/tutorial/errors.html)\n",
    "\n",
    "Quando alguma coisa dá errado em Python, ele nos joga uma exceção. Essas exceções podem — e devem! — ser capturadas e tratadas. Antes de fazermos esse tratamento, vamos dar uma olhada em como elas são:"
   ]
  },
  {
   "cell_type": "code",
   "execution_count": 5,
   "metadata": {},
   "outputs": [
    {
     "ename": "TypeError",
     "evalue": "can't multiply sequence by non-int of type 'str'",
     "output_type": "error",
     "traceback": [
      "\u001b[1;31m---------------------------------------------------------------------------\u001b[0m",
      "\u001b[1;31mTypeError\u001b[0m                                 Traceback (most recent call last)",
      "\u001b[1;32m<ipython-input-5-472b00a81c00>\u001b[0m in \u001b[0;36m<module>\u001b[1;34m()\u001b[0m\n\u001b[0;32m      2\u001b[0m \u001b[0mtchau\u001b[0m \u001b[1;33m=\u001b[0m \u001b[1;34m\"tchau\"\u001b[0m\u001b[1;33m\u001b[0m\u001b[0m\n\u001b[0;32m      3\u001b[0m \u001b[1;33m\u001b[0m\u001b[0m\n\u001b[1;32m----> 4\u001b[1;33m \u001b[0molá\u001b[0m \u001b[1;33m*\u001b[0m \u001b[0mtchau\u001b[0m\u001b[1;33m\u001b[0m\u001b[0m\n\u001b[0m",
      "\u001b[1;31mTypeError\u001b[0m: can't multiply sequence by non-int of type 'str'"
     ]
    }
   ],
   "source": [
    "olá = \"olá\"\n",
    "tchau = \"tchau\"\n",
    "\n",
    "olá * tchau"
   ]
  },
  {
   "cell_type": "markdown",
   "metadata": {},
   "source": [
    "Como Python não permite que a gente multiplique strings, ele nos deu um erro. No caso o tipo de erro é dado pelo nome `TypeError`. As exceções são acompanhadas de um texto que explica o que aconteceu — não podemos multiplicar sequências por alguma coisa que não é um número inteiro!\n",
    "\n",
    "**Não tenha medo de erros!**\n",
    "\n",
    "Muitas vezes quando estamos programando, nos deparamos com erros. Quando isso acontece, vale a pena parar, ler com calma o que a mensagem está dizendo, pensar um pouco, pesquisar, revisar o código... Por mais que possa ser um pouco desanimador termos a nossa tela avermelhada por uma mensagem de erro grande, muitas vezes essa mensagem nos dá pistas sobre o que está acontecendo, o que nos permite entendermos, corrigirmos e aprendermos. Abrace seus erros e faça as pazes com eles :D\n",
    "\n",
    "Outros exemplos de possíveis erros:"
   ]
  },
  {
   "cell_type": "code",
   "execution_count": 6,
   "metadata": {},
   "outputs": [
    {
     "ename": "ZeroDivisionError",
     "evalue": "division by zero",
     "output_type": "error",
     "traceback": [
      "\u001b[1;31m---------------------------------------------------------------------------\u001b[0m",
      "\u001b[1;31mZeroDivisionError\u001b[0m                         Traceback (most recent call last)",
      "\u001b[1;32m<ipython-input-6-cd759d3fcf39>\u001b[0m in \u001b[0;36m<module>\u001b[1;34m()\u001b[0m\n\u001b[1;32m----> 1\u001b[1;33m \u001b[1;36m10\u001b[0m \u001b[1;33m/\u001b[0m \u001b[1;36m0\u001b[0m\u001b[1;33m\u001b[0m\u001b[0m\n\u001b[0m",
      "\u001b[1;31mZeroDivisionError\u001b[0m: division by zero"
     ]
    }
   ],
   "source": [
    "10 / 0"
   ]
  },
  {
   "cell_type": "code",
   "execution_count": 7,
   "metadata": {},
   "outputs": [
    {
     "ename": "IndexError",
     "evalue": "string index out of range",
     "output_type": "error",
     "traceback": [
      "\u001b[1;31m---------------------------------------------------------------------------\u001b[0m",
      "\u001b[1;31mIndexError\u001b[0m                                Traceback (most recent call last)",
      "\u001b[1;32m<ipython-input-7-2342acfca396>\u001b[0m in \u001b[0;36m<module>\u001b[1;34m()\u001b[0m\n\u001b[0;32m      1\u001b[0m \u001b[0mnome\u001b[0m \u001b[1;33m=\u001b[0m \u001b[1;34m\"Felipe\"\u001b[0m\u001b[1;33m\u001b[0m\u001b[0m\n\u001b[1;32m----> 2\u001b[1;33m \u001b[0mnome\u001b[0m\u001b[1;33m[\u001b[0m\u001b[1;36m10\u001b[0m\u001b[1;33m]\u001b[0m\u001b[1;33m\u001b[0m\u001b[0m\n\u001b[0m",
      "\u001b[1;31mIndexError\u001b[0m: string index out of range"
     ]
    }
   ],
   "source": [
    "nome = \"Felipe\"\n",
    "nome[10]"
   ]
  },
  {
   "cell_type": "code",
   "execution_count": 8,
   "metadata": {},
   "outputs": [
    {
     "ename": "ValueError",
     "evalue": "invalid literal for int() with base 10: 'batata'",
     "output_type": "error",
     "traceback": [
      "\u001b[1;31m---------------------------------------------------------------------------\u001b[0m",
      "\u001b[1;31mValueError\u001b[0m                                Traceback (most recent call last)",
      "\u001b[1;32m<ipython-input-8-71a230d929a0>\u001b[0m in \u001b[0;36m<module>\u001b[1;34m()\u001b[0m\n\u001b[1;32m----> 1\u001b[1;33m \u001b[0mint\u001b[0m\u001b[1;33m(\u001b[0m\u001b[1;34m\"batata\"\u001b[0m\u001b[1;33m)\u001b[0m\u001b[1;33m\u001b[0m\u001b[0m\n\u001b[0m",
      "\u001b[1;31mValueError\u001b[0m: invalid literal for int() with base 10: 'batata'"
     ]
    }
   ],
   "source": [
    "int(\"batata\")"
   ]
  },
  {
   "cell_type": "markdown",
   "metadata": {},
   "source": [
    "`TypeError` significa que a operação que você quer usar existe, mas você está usando tipos de dados errados. `ZeroDivisionError` acontece em divisões por zero. `IndexError`, quando você tenta ir além dos limites de uma string ou lista. `ValueError` quando a variável é apropriada mas tem um valor incompatível. Uma lista completa dos erros que são definidos por padrão pode ser encontrada [aqui](https://docs.python.org/3/library/exceptions.html#bltin-exceptions)\n",
    "\n"
   ]
  },
  {
   "cell_type": "markdown",
   "metadata": {},
   "source": [
    "# Loops\n",
    "\n",
    "Além de executar um bloco *caso* uma condição seja válida, útil também podermos **repetir** um pedaço de código várias vezes.\n",
    "\n",
    "Em python temos duas instruções que nos permite fazer algo do tipo. A primeira que vamos ver é a expressão `for`\n",
    "\n",
    "```python\n",
    "for <expressão de interação>:\n",
    "    <bloco de código\n",
    "```\n",
    "\n",
    "Que nos permite \"passear\" por uma sequência de itens. E temos também o loop `while`, que é como o `if` mas ao invés de executar um bloco **caso** uma condição seja verdadeira, ele vai executar o bloco **enquanto** uma condição for verdadeita\n",
    "\n",
    "```python\n",
    "while <expressão booleana>:\n",
    "    <bloco de código\n",
    "```\n",
    "\n",
    "Vamos começar contando de 0 à 9 em Python, com a função `range`:"
   ]
  },
  {
   "cell_type": "code",
   "execution_count": 6,
   "metadata": {},
   "outputs": [
    {
     "name": "stdout",
     "output_type": "stream",
     "text": [
      "0\n",
      "1\n",
      "2\n",
      "3\n",
      "4\n",
      "5\n",
      "6\n",
      "7\n",
      "8\n",
      "9\n"
     ]
    }
   ],
   "source": [
    "for i in range(10):\n",
    "    print(i)"
   ]
  },
  {
   "cell_type": "markdown",
   "metadata": {},
   "source": [
    "A função [`range`](https://docs.python.org/3/library/stdtypes.html#range) permite a realização de iterações entre faixas de valores. Ela pode assumir argumentos opcionais que definem o início e o passo da iteração:"
   ]
  },
  {
   "cell_type": "code",
   "execution_count": 7,
   "metadata": {},
   "outputs": [
    {
     "name": "stdout",
     "output_type": "stream",
     "text": [
      "2\n",
      "3\n",
      "4\n",
      "5\n",
      "6\n",
      "7\n",
      "8\n",
      "9\n"
     ]
    }
   ],
   "source": [
    "for i in range(2, 10):\n",
    "    print(i)"
   ]
  },
  {
   "cell_type": "code",
   "execution_count": 8,
   "metadata": {},
   "outputs": [
    {
     "name": "stdout",
     "output_type": "stream",
     "text": [
      "2\n",
      "4\n",
      "6\n",
      "8\n"
     ]
    }
   ],
   "source": [
    "for i in range(2, 10, 2):\n",
    "    print(i)"
   ]
  },
  {
   "cell_type": "code",
   "execution_count": 9,
   "metadata": {},
   "outputs": [
    {
     "name": "stdout",
     "output_type": "stream",
     "text": [
      "10\n",
      "9\n",
      "8\n",
      "7\n",
      "6\n",
      "5\n",
      "4\n",
      "3\n",
      "2\n",
      "1\n"
     ]
    }
   ],
   "source": [
    "for i in range(10, 0, -1):\n",
    "    print(i)"
   ]
  },
  {
   "cell_type": "markdown",
   "metadata": {},
   "source": [
    "**Exercício** Faça um loop que imprima todos os números pares de 0 a 100"
   ]
  },
  {
   "cell_type": "markdown",
   "metadata": {},
   "source": [
    "**Exercício** Faça um loop que imprima todos os números ímpares entre 100 e 0 em ordem decrescente"
   ]
  },
  {
   "cell_type": "markdown",
   "metadata": {},
   "source": [
    "**Exercício** Faça um loop que imprima todos os números múltiplos de 7 entre 0 e 100. Tente resolver por dois caminhos diferentes"
   ]
  },
  {
   "cell_type": "markdown",
   "metadata": {},
   "source": [
    "Enquanto o loop `for` permite iterações entre valores — posteriormente veremos como iterar entre listas — o loop `while` verifica se uma expressão booleana é verdadeira entre as iterações do loop:"
   ]
  },
  {
   "cell_type": "code",
   "execution_count": 31,
   "metadata": {},
   "outputs": [
    {
     "name": "stdout",
     "output_type": "stream",
     "text": [
      "Vou sortear inteiros de 0 a 100 até encontrar algum maior que 20!\n",
      "x ainda é menor que 20!\n",
      "x ainda é menor que 20!\n",
      "Encontrei um x maior que 20: 27\n",
      "Demorei 2 iteração(ões) para encontrar\n"
     ]
    }
   ],
   "source": [
    "from random import randint\n",
    "\n",
    "x = 0\n",
    "iterações = 0\n",
    "\n",
    "print(\"Vou sortear inteiros de 0 a 100 até encontrar algum maior que 20!\")\n",
    "while x <= 20:\n",
    "    print(\"x ainda é menor que 20!\")\n",
    "    x = randint(0, 30)\n",
    "    iterações += 1\n",
    "\n",
    "print(\"Encontrei um x maior que 20: {}\".format(x))\n",
    "print(\"Demorei {} iteração(ões) para encontrar\".format(iterações))"
   ]
  },
  {
   "cell_type": "code",
   "execution_count": null,
   "metadata": {},
   "outputs": [],
   "source": []
  }
 ],
 "metadata": {
  "kernelspec": {
   "display_name": "Python 3",
   "language": "python",
   "name": "python3"
  },
  "language_info": {
   "codemirror_mode": {
    "name": "ipython",
    "version": 3
   },
   "file_extension": ".py",
   "mimetype": "text/x-python",
   "name": "python",
   "nbconvert_exporter": "python",
   "pygments_lexer": "ipython3",
   "version": "3.8.5"
  }
 },
 "nbformat": 4,
 "nbformat_minor": 4
}

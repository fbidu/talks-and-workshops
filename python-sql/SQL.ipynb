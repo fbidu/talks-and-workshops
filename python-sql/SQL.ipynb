{
 "cells": [
  {
   "cell_type": "code",
   "execution_count": null,
   "metadata": {},
   "outputs": [],
   "source": [
    "%pip install sqlalchemy==1.4.7"
   ]
  },
  {
   "cell_type": "markdown",
   "metadata": {},
   "source": [
    "# Python & SQL"
   ]
  },
  {
   "cell_type": "markdown",
   "metadata": {},
   "source": [
    "## Conectando de Maneira \"Crua\""
   ]
  },
  {
   "cell_type": "code",
   "execution_count": 1,
   "metadata": {},
   "outputs": [],
   "source": [
    "import sqlite3\n",
    "con = sqlite3.connect('chinook.db')"
   ]
  },
  {
   "cell_type": "code",
   "execution_count": 2,
   "metadata": {},
   "outputs": [
    {
     "name": "stdout",
     "output_type": "stream",
     "text": [
      "(1, 'For Those About To Rock (We Salute You)', 1, 1, 1, 'Angus Young, Malcolm Young, Brian Johnson', 343719, 11170334, 0.99)\n",
      "(2, 'Balls to the Wall', 2, 2, 1, None, 342562, 5510424, 0.99)\n",
      "(3, 'Fast As a Shark', 3, 2, 1, 'F. Baltes, S. Kaufman, U. Dirkscneider & W. Hoffman', 230619, 3990994, 0.99)\n",
      "(4, 'Restless and Wild', 3, 2, 1, 'F. Baltes, R.A. Smith-Diesel, S. Kaufman, U. Dirkscneider & W. Hoffman', 252051, 4331779, 0.99)\n",
      "(5, 'Princess of the Dawn', 3, 2, 1, 'Deaffy & R.A. Smith-Diesel', 375418, 6290521, 0.99)\n",
      "(6, 'Put The Finger On You', 1, 1, 1, 'Angus Young, Malcolm Young, Brian Johnson', 205662, 6713451, 0.99)\n",
      "(7, \"Let's Get It Up\", 1, 1, 1, 'Angus Young, Malcolm Young, Brian Johnson', 233926, 7636561, 0.99)\n",
      "(8, 'Inject The Venom', 1, 1, 1, 'Angus Young, Malcolm Young, Brian Johnson', 210834, 6852860, 0.99)\n",
      "(9, 'Snowballed', 1, 1, 1, 'Angus Young, Malcolm Young, Brian Johnson', 203102, 6599424, 0.99)\n",
      "(10, 'Evil Walks', 1, 1, 1, 'Angus Young, Malcolm Young, Brian Johnson', 263497, 8611245, 0.99)\n"
     ]
    }
   ],
   "source": [
    "cur = con.cursor()\n",
    "\n",
    "result = cur.execute(\"SELECT * FROM Track LIMIT 10\")\n",
    "\n",
    "for row in result:\n",
    "    print(row)"
   ]
  },
  {
   "cell_type": "markdown",
   "metadata": {},
   "source": [
    "O que _é_ uma row?"
   ]
  },
  {
   "cell_type": "code",
   "execution_count": 3,
   "metadata": {},
   "outputs": [
    {
     "data": {
      "text/plain": [
       "tuple"
      ]
     },
     "execution_count": 3,
     "metadata": {},
     "output_type": "execute_result"
    }
   ],
   "source": [
    "type(row)"
   ]
  },
  {
   "cell_type": "code",
   "execution_count": 4,
   "metadata": {},
   "outputs": [
    {
     "data": {
      "text/plain": [
       "(10,\n",
       " 'Evil Walks',\n",
       " 1,\n",
       " 1,\n",
       " 1,\n",
       " 'Angus Young, Malcolm Young, Brian Johnson',\n",
       " 263497,\n",
       " 8611245,\n",
       " 0.99)"
      ]
     },
     "execution_count": 4,
     "metadata": {},
     "output_type": "execute_result"
    }
   ],
   "source": [
    "row"
   ]
  },
  {
   "cell_type": "markdown",
   "metadata": {},
   "source": [
    "Uma tupla! Ou seja, ela possui só um comportamento básico de guardar um conjunto de informações"
   ]
  },
  {
   "cell_type": "code",
   "execution_count": 5,
   "metadata": {},
   "outputs": [
    {
     "name": "stdout",
     "output_type": "stream",
     "text": [
      "('For Those About To Rock (We Salute You)', 'Angus Young, Malcolm Young, Brian Johnson', 'Rock')\n",
      "('Balls to the Wall', None, 'Rock')\n",
      "('Fast As a Shark', 'F. Baltes, S. Kaufman, U. Dirkscneider & W. Hoffman', 'Rock')\n",
      "('Restless and Wild', 'F. Baltes, R.A. Smith-Diesel, S. Kaufman, U. Dirkscneider & W. Hoffman', 'Rock')\n",
      "('Princess of the Dawn', 'Deaffy & R.A. Smith-Diesel', 'Rock')\n",
      "('Put The Finger On You', 'Angus Young, Malcolm Young, Brian Johnson', 'Rock')\n",
      "(\"Let's Get It Up\", 'Angus Young, Malcolm Young, Brian Johnson', 'Rock')\n",
      "('Inject The Venom', 'Angus Young, Malcolm Young, Brian Johnson', 'Rock')\n",
      "('Snowballed', 'Angus Young, Malcolm Young, Brian Johnson', 'Rock')\n",
      "('Evil Walks', 'Angus Young, Malcolm Young, Brian Johnson', 'Rock')\n"
     ]
    }
   ],
   "source": [
    "result = cur.execute(\"\"\"\n",
    "SELECT\n",
    "    t.name, t.composer, g.name\n",
    "FROM\n",
    "    Track AS t\n",
    "INNER JOIN\n",
    "    Genre AS g\n",
    "        ON t.genreid = g.genreid\n",
    "LIMIT 10;\"\"\")\n",
    "\n",
    "for row in result:\n",
    "    print(row)\n"
   ]
  },
  {
   "cell_type": "code",
   "execution_count": 6,
   "metadata": {},
   "outputs": [
    {
     "name": "stdout",
     "output_type": "stream",
     "text": [
      "(3504,)\n"
     ]
    },
    {
     "data": {
      "text/plain": [
       "3504"
      ]
     },
     "execution_count": 6,
     "metadata": {},
     "output_type": "execute_result"
    }
   ],
   "source": [
    "result = cur.execute(\"SELECT COUNT(*) FROM Track;\")\n",
    "\n",
    "for row in result:\n",
    "    print(row)\n",
    "\n",
    "row[0]"
   ]
  },
  {
   "cell_type": "markdown",
   "metadata": {},
   "source": [
    "Em algumas situações, o uso de conexões diretas assim pode ser útil. Porém, ele possui algumas desvantagens - muita coisa a gente acaba tendo que fazer \"na mão\". Além disso, se a gente quiser ler um certo valor dado pelo usuário e utilizar isso para construir nossa query, nós precisamos ter muito cuidado em _validar_ os dados que o usuário envia, para não sofrermos com [SQL Injection](https://www.w3schools.com/sql/sql_injection.asp)"
   ]
  },
  {
   "cell_type": "markdown",
   "metadata": {},
   "source": [
    "## Usando o SQL Alchemy Core"
   ]
  },
  {
   "cell_type": "markdown",
   "metadata": {},
   "source": [
    "O SQL Alchemy tem dois modos de operação Core e ORM. O \"Core\" é um 'embrulho' fino sobre as funções do SQL puro - ou seja, nosso código vai ser feito em _python_, mas utilizando termos e construções como as que vimos em SQL. [Tutorial Oficial do SQL Alchemy Core](https://docs.sqlalchemy.org/en/14/core/tutorial.html)"
   ]
  },
  {
   "cell_type": "code",
   "execution_count": 7,
   "metadata": {},
   "outputs": [],
   "source": [
    "from sqlalchemy import create_engine, MetaData, Table, insert"
   ]
  },
  {
   "cell_type": "code",
   "execution_count": 8,
   "metadata": {},
   "outputs": [],
   "source": [
    "database = \"sqlite:///chinook.db\"\n",
    "meta = MetaData()\n",
    "engine = create_engine(database)\n",
    "conn = engine.connect()\n",
    "\n",
    "\n",
    "customer = Table('Customer', meta, autoload_with=engine) # Carrega 'customer' automaticamente\n",
    "track = Table('Track', meta, autoload_with=engine)\n",
    "invoice = Table('Invoice', meta, autoload_with=engine)\n",
    "artist = Table('Artist', meta, autoload_with=engine)"
   ]
  },
  {
   "cell_type": "code",
   "execution_count": 9,
   "metadata": {},
   "outputs": [
    {
     "data": {
      "text/plain": [
       "Table('Artist', MetaData(), Column('ArtistId', INTEGER(), table=<Artist>, primary_key=True, nullable=False), Column('Name', NVARCHAR(length=120), table=<Artist>), schema=None)"
      ]
     },
     "execution_count": 9,
     "metadata": {},
     "output_type": "execute_result"
    }
   ],
   "source": [
    "artist"
   ]
  },
  {
   "cell_type": "code",
   "execution_count": 10,
   "metadata": {},
   "outputs": [],
   "source": [
    "instruction = insert(artist).values(Name=\"teste pelo SQLA Core 1\")"
   ]
  },
  {
   "cell_type": "code",
   "execution_count": 11,
   "metadata": {},
   "outputs": [
    {
     "name": "stdout",
     "output_type": "stream",
     "text": [
      "INSERT INTO \"Artist\" (\"Name\") VALUES (:Name)\n"
     ]
    }
   ],
   "source": [
    "print(instruction)"
   ]
  },
  {
   "cell_type": "code",
   "execution_count": 12,
   "metadata": {},
   "outputs": [],
   "source": [
    "res = conn.execute(instruction)"
   ]
  },
  {
   "cell_type": "markdown",
   "metadata": {},
   "source": [
    "(Mais informações sobre carregar tabelas já existentes [aqui](https://docs.sqlalchemy.org/en/14/core/reflection.html))"
   ]
  },
  {
   "cell_type": "markdown",
   "metadata": {},
   "source": [
    "### Um Select Básico"
   ]
  },
  {
   "cell_type": "code",
   "execution_count": 13,
   "metadata": {},
   "outputs": [
    {
     "data": {
      "text/plain": [
       "sqlalchemy.sql.schema.Table"
      ]
     },
     "execution_count": 13,
     "metadata": {},
     "output_type": "execute_result"
    }
   ],
   "source": [
    "type(customer)"
   ]
  },
  {
   "cell_type": "code",
   "execution_count": 14,
   "metadata": {},
   "outputs": [],
   "source": [
    "select = customer.select().limit(10)"
   ]
  },
  {
   "cell_type": "code",
   "execution_count": 15,
   "metadata": {},
   "outputs": [
    {
     "name": "stdout",
     "output_type": "stream",
     "text": [
      "SELECT \"Customer\".\"CustomerId\", \"Customer\".\"FirstName\", \"Customer\".\"LastName\", \"Customer\".\"Company\", \"Customer\".\"Address\", \"Customer\".\"City\", \"Customer\".\"State\", \"Customer\".\"Country\", \"Customer\".\"PostalCode\", \"Customer\".\"Phone\", \"Customer\".\"Fax\", \"Customer\".\"Email\", \"Customer\".\"SupportRepId\" \n",
      "FROM \"Customer\"\n",
      " LIMIT :param_1\n"
     ]
    }
   ],
   "source": [
    "print(select)"
   ]
  },
  {
   "cell_type": "markdown",
   "metadata": {},
   "source": [
    "Note que aqui utilizamos uma função chamada `select()`. Essa é uma função **do Python** que 'embrulha' uma chamada para `SELECT` no SQL. Essa linha toda é igual à `SELECT * FROM Customer LIMIT 10`, porém utilizando funções do Python, e não do SQL"
   ]
  },
  {
   "cell_type": "code",
   "execution_count": 16,
   "metadata": {},
   "outputs": [],
   "source": [
    "result = conn.execute(select)"
   ]
  },
  {
   "cell_type": "code",
   "execution_count": 17,
   "metadata": {
    "scrolled": false
   },
   "outputs": [
    {
     "name": "stdout",
     "output_type": "stream",
     "text": [
      "(1, 'Luís', 'Gonçalves', 'Embraer - Empresa Brasileira de Aeronáutica S.A.', 'Av. Brigadeiro Faria Lima, 2170', 'São José dos Campos', 'SP', 'Brazil', '12227-000', '+55 (12) 3923-5555', '+55 (12) 3923-5566', 'luisg@embraer.com.br', 3)\n",
      "(2, 'Leonie', 'Köhler', None, 'Theodor-Heuss-Straße 34', 'Stuttgart', None, 'Germany', '70174', '+49 0711 2842222', None, 'leonekohler@surfeu.de', 5)\n",
      "(3, 'François', 'Tremblay', None, '1498 rue Bélanger', 'Montréal', 'QC', 'Canada', 'H2G 1A7', '+1 (514) 721-4711', None, 'ftremblay@gmail.com', 3)\n",
      "(4, 'Bjørn', 'Hansen', None, 'Ullevålsveien 14', 'Oslo', None, 'Norway', '0171', '+47 22 44 22 22', None, 'bjorn.hansen@yahoo.no', 4)\n",
      "(5, 'František', 'Wichterlová', 'JetBrains s.r.o.', 'Klanova 9/506', 'Prague', None, 'Czech Republic', '14700', '+420 2 4172 5555', '+420 2 4172 5555', 'frantisekw@jetbrains.com', 4)\n",
      "(6, 'Helena', 'Holý', None, 'Rilská 3174/6', 'Prague', None, 'Czech Republic', '14300', '+420 2 4177 0449', None, 'hholy@gmail.com', 5)\n",
      "(7, 'Astrid', 'Gruber', None, 'Rotenturmstraße 4, 1010 Innere Stadt', 'Vienne', None, 'Austria', '1010', '+43 01 5134505', None, 'astrid.gruber@apple.at', 5)\n",
      "(8, 'Daan', 'Peeters', None, 'Grétrystraat 63', 'Brussels', None, 'Belgium', '1000', '+32 02 219 03 03', None, 'daan_peeters@apple.be', 4)\n",
      "(9, 'Kara', 'Nielsen', None, 'Sønder Boulevard 51', 'Copenhagen', None, 'Denmark', '1720', '+453 3331 9991', None, 'kara.nielsen@jubii.dk', 4)\n",
      "(10, 'Eduardo', 'Martins', 'Woodstock Discos', 'Rua Dr. Falcão Filho, 155', 'São Paulo', 'SP', 'Brazil', '01007-010', '+55 (11) 3033-5446', '+55 (11) 3033-4564', 'eduardo@woodstock.com.br', 4)\n"
     ]
    }
   ],
   "source": [
    "for row in result:\n",
    "    print(row)"
   ]
  },
  {
   "cell_type": "markdown",
   "metadata": {},
   "source": [
    "O que _é_ essa row?"
   ]
  },
  {
   "cell_type": "code",
   "execution_count": 18,
   "metadata": {},
   "outputs": [
    {
     "data": {
      "text/plain": [
       "sqlalchemy.engine.row.LegacyRow"
      ]
     },
     "execution_count": 18,
     "metadata": {},
     "output_type": "execute_result"
    }
   ],
   "source": [
    "type(row)"
   ]
  },
  {
   "cell_type": "markdown",
   "metadata": {},
   "source": [
    "A `row` retornada pelo SQL Alchemy aqui é um objeto mais rico que uma tupla! [documentação](https://docs.sqlalchemy.org/en/14/core/connections.html?highlight=sqlalchemy%20engine%20row%20legacyrow#sqlalchemy.engine.LegacyRow)\n",
    "\n",
    "Nós podemos fazer mais coisas, como por exemplo listar os campos:"
   ]
  },
  {
   "cell_type": "code",
   "execution_count": 19,
   "metadata": {},
   "outputs": [
    {
     "data": {
      "text/plain": [
       "'1.4.7'"
      ]
     },
     "execution_count": 19,
     "metadata": {},
     "output_type": "execute_result"
    }
   ],
   "source": [
    "import sqlalchemy\n",
    "sqlalchemy.__version__"
   ]
  },
  {
   "cell_type": "code",
   "execution_count": 20,
   "metadata": {},
   "outputs": [
    {
     "data": {
      "text/plain": [
       "['__abstractmethods__',\n",
       " '__class__',\n",
       " '__contains__',\n",
       " '__delattr__',\n",
       " '__dir__',\n",
       " '__doc__',\n",
       " '__eq__',\n",
       " '__format__',\n",
       " '__ge__',\n",
       " '__getattribute__',\n",
       " '__getitem__',\n",
       " '__getstate__',\n",
       " '__gt__',\n",
       " '__hash__',\n",
       " '__init__',\n",
       " '__init_subclass__',\n",
       " '__iter__',\n",
       " '__le__',\n",
       " '__len__',\n",
       " '__lt__',\n",
       " '__module__',\n",
       " '__ne__',\n",
       " '__new__',\n",
       " '__reduce__',\n",
       " '__reduce_ex__',\n",
       " '__repr__',\n",
       " '__reversed__',\n",
       " '__setattr__',\n",
       " '__setstate__',\n",
       " '__sizeof__',\n",
       " '__slots__',\n",
       " '__str__',\n",
       " '__subclasshook__',\n",
       " '_abc_impl',\n",
       " '_asdict',\n",
       " '_data',\n",
       " '_default_key_style',\n",
       " '_field_defaults',\n",
       " '_fields',\n",
       " '_filter_on_values',\n",
       " '_get_by_key_impl',\n",
       " '_get_by_key_impl_mapping',\n",
       " '_key_style',\n",
       " '_keymap',\n",
       " '_mapping',\n",
       " '_op',\n",
       " '_parent',\n",
       " '_replace',\n",
       " '_special_name_accessor',\n",
       " '_values_impl',\n",
       " 'count',\n",
       " 'has_key',\n",
       " 'index',\n",
       " 'items',\n",
       " 'iterkeys',\n",
       " 'itervalues',\n",
       " 'keys',\n",
       " 'values']"
      ]
     },
     "execution_count": 20,
     "metadata": {},
     "output_type": "execute_result"
    }
   ],
   "source": [
    "dir(row)"
   ]
  },
  {
   "cell_type": "code",
   "execution_count": 22,
   "metadata": {},
   "outputs": [
    {
     "data": {
      "text/plain": [
       "('CustomerId',\n",
       " 'FirstName',\n",
       " 'LastName',\n",
       " 'Company',\n",
       " 'Address',\n",
       " 'City',\n",
       " 'State',\n",
       " 'Country',\n",
       " 'PostalCode',\n",
       " 'Phone',\n",
       " 'Fax',\n",
       " 'Email',\n",
       " 'SupportRepId')"
      ]
     },
     "execution_count": 22,
     "metadata": {},
     "output_type": "execute_result"
    }
   ],
   "source": [
    "row._fields"
   ]
  },
  {
   "cell_type": "markdown",
   "metadata": {},
   "source": [
    "Podemos também listar os dados com os campos anexos:"
   ]
  },
  {
   "cell_type": "code",
   "execution_count": 23,
   "metadata": {},
   "outputs": [
    {
     "data": {
      "text/plain": [
       "{'CustomerId': 10, 'FirstName': 'Eduardo', 'LastName': 'Martins', 'Company': 'Woodstock Discos', 'Address': 'Rua Dr. Falcão Filho, 155', 'City': 'São Paulo', 'State': 'SP', 'Country': 'Brazil', 'PostalCode': '01007-010', 'Phone': '+55 (11) 3033-5446', 'Fax': '+55 (11) 3033-4564', 'Email': 'eduardo@woodstock.com.br', 'SupportRepId': 4}"
      ]
     },
     "execution_count": 23,
     "metadata": {},
     "output_type": "execute_result"
    }
   ],
   "source": [
    "row._mapping"
   ]
  },
  {
   "cell_type": "code",
   "execution_count": 24,
   "metadata": {},
   "outputs": [],
   "source": [
    "result = conn.execute(select)"
   ]
  },
  {
   "cell_type": "code",
   "execution_count": 25,
   "metadata": {},
   "outputs": [
    {
     "name": "stdout",
     "output_type": "stream",
     "text": [
      "Nome: Luís\n",
      "Nome: Leonie\n",
      "Nome: François\n",
      "Nome: Bjørn\n",
      "Nome: František\n",
      "Nome: Helena\n",
      "Nome: Astrid\n",
      "Nome: Daan\n",
      "Nome: Kara\n",
      "Nome: Eduardo\n"
     ]
    }
   ],
   "source": [
    "for row in result:\n",
    "    print(f\"Nome: {row._mapping['FirstName']}\")"
   ]
  },
  {
   "cell_type": "markdown",
   "metadata": {},
   "source": [
    "**ALERTA**: o `result` é um \"cursor\" isso significa que quando você itera sobre ele todo uma vez, ele esvazia. Rodar aquele mesmo código de novo, sem computar o resultado mais uma vez, não faz nada:"
   ]
  },
  {
   "cell_type": "code",
   "execution_count": 26,
   "metadata": {},
   "outputs": [],
   "source": [
    "for row in result:\n",
    "    print(f\"Nome: {row._mapping['FirstName']}\")"
   ]
  },
  {
   "cell_type": "markdown",
   "metadata": {},
   "source": [
    "Uma possibilidade quanto a isso é salvar o resultado em uma lista:"
   ]
  },
  {
   "cell_type": "code",
   "execution_count": 27,
   "metadata": {},
   "outputs": [
    {
     "name": "stdout",
     "output_type": "stream",
     "text": [
      "Nome: Luís\n",
      "Nome: Leonie\n",
      "Nome: François\n",
      "Nome: Bjørn\n",
      "Nome: František\n",
      "Nome: Helena\n",
      "Nome: Astrid\n",
      "Nome: Daan\n",
      "Nome: Kara\n",
      "Nome: Eduardo\n",
      "**** imprimindo de novo! ****\n",
      "Nome: Luís\n",
      "Nome: Leonie\n",
      "Nome: François\n",
      "Nome: Bjørn\n",
      "Nome: František\n",
      "Nome: Helena\n",
      "Nome: Astrid\n",
      "Nome: Daan\n",
      "Nome: Kara\n",
      "Nome: Eduardo\n"
     ]
    }
   ],
   "source": [
    "result = list(conn.execute(select))\n",
    "for row in result:\n",
    "    print(f\"Nome: {row._mapping['FirstName']}\")\n",
    "    \n",
    "print(\"**** imprimindo de novo! ****\")\n",
    "\n",
    "for row in result:\n",
    "    print(f\"Nome: {row._mapping['FirstName']}\")"
   ]
  },
  {
   "cell_type": "markdown",
   "metadata": {},
   "source": [
    "Note que isso tem um _custo_. Quando você tem um cursor 'puro', Python vai guardar na memória poucas informações. Quando você converte numa lista, você grava em memória **tudo**. Com um cursor, você consegue fazer uma iteração por uma quantidade arbitrária de dados, com uma lista não."
   ]
  },
  {
   "cell_type": "markdown",
   "metadata": {},
   "source": [
    "### Selecionando Agregações"
   ]
  },
  {
   "cell_type": "markdown",
   "metadata": {},
   "source": [
    "Dentro de [`sqlalchemy.sql.functions`](https://docs.sqlalchemy.org/en/14/core/functions.html?highlight=max#sql-and-generic-functions) existe a implementação de várias funções do SQL, inclusive as de agregação"
   ]
  },
  {
   "cell_type": "code",
   "execution_count": 28,
   "metadata": {},
   "outputs": [],
   "source": [
    "from sqlalchemy import select, func\n",
    "count = select(\n",
    "    func.count()\n",
    ").select_from(track)"
   ]
  },
  {
   "cell_type": "code",
   "execution_count": 29,
   "metadata": {},
   "outputs": [
    {
     "name": "stdout",
     "output_type": "stream",
     "text": [
      "SELECT count(*) AS count_1 \n",
      "FROM \"Track\"\n"
     ]
    }
   ],
   "source": [
    "print(count)  # podemos ver o SQL gerado"
   ]
  },
  {
   "cell_type": "code",
   "execution_count": 30,
   "metadata": {},
   "outputs": [
    {
     "data": {
      "text/plain": [
       "3504"
      ]
     },
     "execution_count": 30,
     "metadata": {},
     "output_type": "execute_result"
    }
   ],
   "source": [
    "conn.execute(count).scalar()"
   ]
  },
  {
   "cell_type": "code",
   "execution_count": 31,
   "metadata": {},
   "outputs": [],
   "source": [
    "stats = select(\n",
    "    func.count(),\n",
    "    func.avg(track.columns[\"Milliseconds\"]),\n",
    "    func.min(track.columns[\"Milliseconds\"]),\n",
    "    func.max(track.columns[\"Milliseconds\"]),\n",
    "    func.sum(track.columns[\"Milliseconds\"])\n",
    ")"
   ]
  },
  {
   "cell_type": "code",
   "execution_count": 32,
   "metadata": {},
   "outputs": [
    {
     "name": "stdout",
     "output_type": "stream",
     "text": [
      "SELECT count(*) AS count_1, avg(\"Track\".\"Milliseconds\") AS avg_1, min(\"Track\".\"Milliseconds\") AS min_1, max(\"Track\".\"Milliseconds\") AS max_1, sum(\"Track\".\"Milliseconds\") AS sum_1 \n",
      "FROM \"Track\"\n"
     ]
    }
   ],
   "source": [
    "print(stats)"
   ]
  },
  {
   "cell_type": "code",
   "execution_count": 33,
   "metadata": {},
   "outputs": [
    {
     "data": {
      "text/plain": [
       "{'count_1': 3504, 'avg_1': 396340.7645547945, 'min_1': 1071, 'max_1': 9999999, 'sum_1': 1388778039}"
      ]
     },
     "execution_count": 33,
     "metadata": {},
     "output_type": "execute_result"
    }
   ],
   "source": [
    "res = conn.execute(stats)\n",
    "res.first()._mapping"
   ]
  },
  {
   "cell_type": "markdown",
   "metadata": {},
   "source": [
    "### Buscas com WHERE"
   ]
  },
  {
   "cell_type": "code",
   "execution_count": 34,
   "metadata": {},
   "outputs": [],
   "source": [
    "from sqlalchemy import and_"
   ]
  },
  {
   "cell_type": "code",
   "execution_count": 35,
   "metadata": {},
   "outputs": [],
   "source": [
    "milliseconds = track.columns[\"Milliseconds\"]\n",
    "query = select(track).where(milliseconds > 60*1000*10)"
   ]
  },
  {
   "cell_type": "code",
   "execution_count": 36,
   "metadata": {},
   "outputs": [
    {
     "name": "stdout",
     "output_type": "stream",
     "text": [
      "SELECT \"Track\".\"TrackId\", \"Track\".\"Name\", \"Track\".\"AlbumId\", \"Track\".\"MediaTypeId\", \"Track\".\"GenreId\", \"Track\".\"Composer\", \"Track\".\"Milliseconds\", \"Track\".\"Bytes\", \"Track\".\"UnitPrice\" \n",
      "FROM \"Track\" \n",
      "WHERE \"Track\".\"Milliseconds\" > :Milliseconds_1\n"
     ]
    }
   ],
   "source": [
    "print(query)"
   ]
  },
  {
   "cell_type": "code",
   "execution_count": 37,
   "metadata": {},
   "outputs": [
    {
     "name": "stderr",
     "output_type": "stream",
     "text": [
      "/home/fbidu/.pyenv/versions/3.8.12/lib/python3.8/site-packages/sqlalchemy/sql/sqltypes.py:727: SAWarning: Dialect sqlite+pysqlite does *not* support Decimal objects natively, and SQLAlchemy must convert from floating point - rounding errors and other issues may occur. Please consider storing Decimal numbers as strings or integers on this platform for lossless storage.\n",
      "  util.warn(\n"
     ]
    },
    {
     "data": {
      "text/plain": [
       "{'TrackId': 154, 'Name': 'Sleeping Village', 'AlbumId': 16, 'MediaTypeId': 1, 'GenreId': 3, 'Composer': None, 'Milliseconds': 644571, 'Bytes': 21128525, 'UnitPrice': Decimal('0.99')}"
      ]
     },
     "execution_count": 37,
     "metadata": {},
     "output_type": "execute_result"
    }
   ],
   "source": [
    "res = conn.execute(query)\n",
    "res.first()._mapping"
   ]
  },
  {
   "cell_type": "code",
   "execution_count": 38,
   "metadata": {},
   "outputs": [],
   "source": [
    "query = select(func.count()).where(milliseconds > 60*1000*10).select_from(track)"
   ]
  },
  {
   "cell_type": "code",
   "execution_count": 39,
   "metadata": {},
   "outputs": [
    {
     "name": "stdout",
     "output_type": "stream",
     "text": [
      "SELECT count(*) AS count_1 \n",
      "FROM \"Track\" \n",
      "WHERE \"Track\".\"Milliseconds\" > :Milliseconds_1\n"
     ]
    }
   ],
   "source": [
    "print(query)"
   ]
  },
  {
   "cell_type": "code",
   "execution_count": 40,
   "metadata": {},
   "outputs": [
    {
     "data": {
      "text/plain": [
       "261"
      ]
     },
     "execution_count": 40,
     "metadata": {},
     "output_type": "execute_result"
    }
   ],
   "source": [
    "res = conn.execute(query)\n",
    "res.scalar()"
   ]
  },
  {
   "cell_type": "code",
   "execution_count": 41,
   "metadata": {},
   "outputs": [],
   "source": [
    "query = select(\n",
    "    func.count()\n",
    ").where(\n",
    "    and_(\n",
    "        milliseconds > 60*1000*10,\n",
    "        milliseconds < 60*1000*11\n",
    "    )\n",
    ").select_from(track)"
   ]
  },
  {
   "cell_type": "code",
   "execution_count": 42,
   "metadata": {},
   "outputs": [
    {
     "name": "stdout",
     "output_type": "stream",
     "text": [
      "SELECT count(*) AS count_1 \n",
      "FROM \"Track\" \n",
      "WHERE \"Track\".\"Milliseconds\" > :Milliseconds_1 AND \"Track\".\"Milliseconds\" < :Milliseconds_2\n"
     ]
    }
   ],
   "source": [
    "print(query)"
   ]
  },
  {
   "cell_type": "code",
   "execution_count": 43,
   "metadata": {},
   "outputs": [
    {
     "data": {
      "text/plain": [
       "15"
      ]
     },
     "execution_count": 43,
     "metadata": {},
     "output_type": "execute_result"
    }
   ],
   "source": [
    "res = conn.execute(query)\n",
    "res.scalar()"
   ]
  },
  {
   "cell_type": "markdown",
   "metadata": {},
   "source": [
    "## SQLAlchemy ORM"
   ]
  },
  {
   "cell_type": "code",
   "execution_count": 44,
   "metadata": {},
   "outputs": [],
   "source": [
    "from sqlalchemy.ext.automap import automap_base\n",
    "from sqlalchemy.orm import sessionmaker"
   ]
  },
  {
   "cell_type": "code",
   "execution_count": 45,
   "metadata": {},
   "outputs": [],
   "source": [
    "Session = sessionmaker(bind=engine)\n",
    "session = Session()\n",
    "Base = automap_base()\n",
    "Base.prepare(engine, reflect=True)\n"
   ]
  },
  {
   "cell_type": "code",
   "execution_count": 46,
   "metadata": {},
   "outputs": [],
   "source": [
    "Track = Base.classes.Track\n",
    "Genre = Base.classes.Genre"
   ]
  },
  {
   "cell_type": "code",
   "execution_count": 47,
   "metadata": {},
   "outputs": [
    {
     "data": {
      "text/plain": [
       "Table('Track', MetaData(), Column('TrackId', INTEGER(), table=<Track>, primary_key=True, nullable=False), Column('Name', NVARCHAR(length=200), table=<Track>, nullable=False), Column('AlbumId', INTEGER(), ForeignKey('Album.AlbumId'), table=<Track>), Column('MediaTypeId', INTEGER(), ForeignKey('MediaType.MediaTypeId'), table=<Track>, nullable=False), Column('GenreId', INTEGER(), ForeignKey('Genre.GenreId'), table=<Track>), Column('Composer', NVARCHAR(length=220), table=<Track>), Column('Milliseconds', INTEGER(), table=<Track>, nullable=False), Column('Bytes', INTEGER(), table=<Track>), Column('UnitPrice', NUMERIC(precision=10, scale=2), table=<Track>, nullable=False), schema=None)"
      ]
     },
     "execution_count": 47,
     "metadata": {},
     "output_type": "execute_result"
    }
   ],
   "source": [
    "Track.__table__"
   ]
  },
  {
   "cell_type": "code",
   "execution_count": 48,
   "metadata": {},
   "outputs": [
    {
     "name": "stdout",
     "output_type": "stream",
     "text": [
      "For Those About To Rock (We Salute You)\n",
      "Balls to the Wall\n",
      "Fast As a Shark\n",
      "Restless and Wild\n",
      "Princess of the Dawn\n",
      "Put The Finger On You\n",
      "Let's Get It Up\n",
      "Inject The Venom\n",
      "Snowballed\n",
      "Evil Walks\n"
     ]
    }
   ],
   "source": [
    "for item in session.query(Track).limit(10):\n",
    "    print(item.Name)"
   ]
  },
  {
   "cell_type": "code",
   "execution_count": 49,
   "metadata": {},
   "outputs": [
    {
     "data": {
      "text/plain": [
       "sqlalchemy.ext.automap.Track"
      ]
     },
     "execution_count": 49,
     "metadata": {},
     "output_type": "execute_result"
    }
   ],
   "source": [
    "type(item)"
   ]
  },
  {
   "cell_type": "code",
   "execution_count": 50,
   "metadata": {},
   "outputs": [
    {
     "data": {
      "text/plain": [
       "'Evil Walks'"
      ]
     },
     "execution_count": 50,
     "metadata": {},
     "output_type": "execute_result"
    }
   ],
   "source": [
    "item.Name"
   ]
  },
  {
   "cell_type": "code",
   "execution_count": 51,
   "metadata": {},
   "outputs": [
    {
     "data": {
      "text/plain": [
       "263497"
      ]
     },
     "execution_count": 51,
     "metadata": {},
     "output_type": "execute_result"
    }
   ],
   "source": [
    "item.Milliseconds"
   ]
  },
  {
   "cell_type": "code",
   "execution_count": 52,
   "metadata": {},
   "outputs": [],
   "source": [
    "new_item = Track()\n"
   ]
  },
  {
   "cell_type": "code",
   "execution_count": 53,
   "metadata": {},
   "outputs": [],
   "source": [
    "new_item.Name = \"test\""
   ]
  },
  {
   "cell_type": "code",
   "execution_count": 54,
   "metadata": {},
   "outputs": [
    {
     "name": "stdout",
     "output_type": "stream",
     "text": [
      "('For Those About To Rock (We Salute You)', 'Angus Young, Malcolm Young, Brian Johnson', 'Rock')\n",
      "('Balls to the Wall', None, 'Rock')\n",
      "('Fast As a Shark', 'F. Baltes, S. Kaufman, U. Dirkscneider & W. Hoffman', 'Rock')\n",
      "('Restless and Wild', 'F. Baltes, R.A. Smith-Diesel, S. Kaufman, U. Dirkscneider & W. Hoffman', 'Rock')\n",
      "('Princess of the Dawn', 'Deaffy & R.A. Smith-Diesel', 'Rock')\n",
      "('Put The Finger On You', 'Angus Young, Malcolm Young, Brian Johnson', 'Rock')\n",
      "(\"Let's Get It Up\", 'Angus Young, Malcolm Young, Brian Johnson', 'Rock')\n",
      "('Inject The Venom', 'Angus Young, Malcolm Young, Brian Johnson', 'Rock')\n",
      "('Snowballed', 'Angus Young, Malcolm Young, Brian Johnson', 'Rock')\n",
      "('Evil Walks', 'Angus Young, Malcolm Young, Brian Johnson', 'Rock')\n"
     ]
    }
   ],
   "source": [
    "result = cur.execute(\"\"\"\n",
    "SELECT\n",
    "    t.name, t.composer, g.name\n",
    "FROM\n",
    "    Track AS t\n",
    "INNER JOIN\n",
    "    Genre AS g\n",
    "        ON t.genreid = g.genreid\n",
    "LIMIT 10;\"\"\")\n",
    "\n",
    "for row in result:\n",
    "    print(row)\n"
   ]
  },
  {
   "cell_type": "code",
   "execution_count": 55,
   "metadata": {},
   "outputs": [
    {
     "data": {
      "text/plain": [
       "['AlbumId',\n",
       " 'Bytes',\n",
       " 'Composer',\n",
       " 'GenreId',\n",
       " 'MediaTypeId',\n",
       " 'Milliseconds',\n",
       " 'Name',\n",
       " 'TrackId',\n",
       " 'UnitPrice',\n",
       " '__abstract__',\n",
       " '__class__',\n",
       " '__delattr__',\n",
       " '__dict__',\n",
       " '__dir__',\n",
       " '__doc__',\n",
       " '__eq__',\n",
       " '__format__',\n",
       " '__ge__',\n",
       " '__getattribute__',\n",
       " '__gt__',\n",
       " '__hash__',\n",
       " '__init__',\n",
       " '__init_subclass__',\n",
       " '__le__',\n",
       " '__lt__',\n",
       " '__mapper__',\n",
       " '__module__',\n",
       " '__ne__',\n",
       " '__new__',\n",
       " '__reduce__',\n",
       " '__reduce_ex__',\n",
       " '__repr__',\n",
       " '__setattr__',\n",
       " '__sizeof__',\n",
       " '__str__',\n",
       " '__subclasshook__',\n",
       " '__table__',\n",
       " '__weakref__',\n",
       " '_sa_class_manager',\n",
       " '_sa_decl_prepare',\n",
       " '_sa_instance_state',\n",
       " '_sa_raise_deferred_config',\n",
       " '_sa_registry',\n",
       " 'album',\n",
       " 'classes',\n",
       " 'genre',\n",
       " 'invoiceline_collection',\n",
       " 'mediatype',\n",
       " 'metadata',\n",
       " 'playlist_collection',\n",
       " 'prepare',\n",
       " 'registry']"
      ]
     },
     "execution_count": 55,
     "metadata": {},
     "output_type": "execute_result"
    }
   ],
   "source": [
    "dir(item)"
   ]
  },
  {
   "cell_type": "code",
   "execution_count": 56,
   "metadata": {},
   "outputs": [
    {
     "data": {
      "text/plain": [
       "'Evil Walks'"
      ]
     },
     "execution_count": 56,
     "metadata": {},
     "output_type": "execute_result"
    }
   ],
   "source": [
    "item.Name"
   ]
  },
  {
   "cell_type": "code",
   "execution_count": 57,
   "metadata": {},
   "outputs": [
    {
     "data": {
      "text/plain": [
       "10"
      ]
     },
     "execution_count": 57,
     "metadata": {},
     "output_type": "execute_result"
    }
   ],
   "source": [
    "item.TrackId"
   ]
  },
  {
   "cell_type": "code",
   "execution_count": 58,
   "metadata": {},
   "outputs": [
    {
     "data": {
      "text/plain": [
       "263497"
      ]
     },
     "execution_count": 58,
     "metadata": {},
     "output_type": "execute_result"
    }
   ],
   "source": [
    "item.Milliseconds"
   ]
  },
  {
   "cell_type": "markdown",
   "metadata": {},
   "source": [
    "## Performance"
   ]
  },
  {
   "cell_type": "markdown",
   "metadata": {},
   "source": [
    "Vamos considerar a tarefa de somar o tempo - em milisegundos - de todas as faixas no nosso banco de dados. O nosso objetivo com esse experimento é comparar se é mais rápido fazer isso através de uma instrução SQL ou por meio de iterar por todos os resultados, somando cada um."
   ]
  },
  {
   "cell_type": "code",
   "execution_count": 143,
   "metadata": {},
   "outputs": [
    {
     "name": "stdout",
     "output_type": "stream",
     "text": [
      "Requirement already satisfied: tqdm in /home/fbidu/.pyenv/versions/3.8.12/lib/python3.8/site-packages (4.31.1)\n",
      "Requirement already satisfied: plotly in /home/fbidu/.pyenv/versions/3.8.12/lib/python3.8/site-packages (5.5.0)\n",
      "Collecting pandas\n",
      "  Downloading pandas-1.4.0-cp38-cp38-manylinux_2_17_x86_64.manylinux2014_x86_64.whl (11.7 MB)\n",
      "     |████████████████████████████████| 11.7 MB 8.2 MB/s            \n",
      "\u001b[?25hRequirement already satisfied: six in /home/fbidu/.pyenv/versions/3.8.12/lib/python3.8/site-packages (from plotly) (1.15.0)\n",
      "Requirement already satisfied: tenacity>=6.2.0 in /home/fbidu/.pyenv/versions/3.8.12/lib/python3.8/site-packages (from plotly) (6.2.0)\n",
      "Requirement already satisfied: pytz>=2020.1 in /home/fbidu/.pyenv/versions/3.8.12/lib/python3.8/site-packages (from pandas) (2020.1)\n",
      "Requirement already satisfied: python-dateutil>=2.8.1 in /home/fbidu/.pyenv/versions/3.8.12/lib/python3.8/site-packages (from pandas) (2.8.2)\n",
      "Collecting numpy>=1.18.5\n",
      "  Downloading numpy-1.22.1-cp38-cp38-manylinux_2_17_x86_64.manylinux2014_x86_64.whl (16.8 MB)\n",
      "     |████████████████████████████████| 16.8 MB 136.0 MB/s            \n",
      "\u001b[?25hInstalling collected packages: numpy, pandas\n",
      "Successfully installed numpy-1.22.1 pandas-1.4.0\n",
      "\u001b[33mWARNING: You are using pip version 21.3.1; however, version 22.0.1 is available.\n",
      "You should consider upgrading via the '/home/fbidu/.pyenv/versions/3.8.12/bin/python3.8 -m pip install --upgrade pip' command.\u001b[0m\n",
      "Note: you may need to restart the kernel to use updated packages.\n"
     ]
    }
   ],
   "source": [
    "%pip install tqdm plotly pandas"
   ]
  },
  {
   "cell_type": "code",
   "execution_count": 100,
   "metadata": {},
   "outputs": [],
   "source": [
    "from tqdm import tqdm\n",
    "from random import randint\n",
    "database = \"sqlite:///chinook_big.db\"\n",
    "meta = MetaData()\n",
    "engine = create_engine(database)\n",
    "conn = engine.connect()\n"
   ]
  },
  {
   "cell_type": "code",
   "execution_count": 102,
   "metadata": {},
   "outputs": [],
   "source": [
    "def insert_random_tracks(count=1_000_000):\n",
    "    buffer_size = 1000\n",
    "    with conn.begin() as t:\n",
    "        for i in tqdm(range(count)):\n",
    "            stmt = insert(track).values(\n",
    "                Name=f'rando {i}',\n",
    "                MediaTypeId=1,\n",
    "                Milliseconds=randint(100_000, 900_000),\n",
    "                UnitPrice=10\n",
    "            )\n",
    "            conn.execute(stmt)\n",
    "            \n",
    "            "
   ]
  },
  {
   "cell_type": "code",
   "execution_count": 103,
   "metadata": {},
   "outputs": [
    {
     "name": "stderr",
     "output_type": "stream",
     "text": [
      "100%|████████████████████████████████████████████████████████████████████████████████████████████████████████████████████████████████████| 1000000/1000000 [01:45<00:00, 9478.31it/s]\n"
     ]
    }
   ],
   "source": [
    "insert_random_tracks()"
   ]
  },
  {
   "cell_type": "code",
   "execution_count": 104,
   "metadata": {},
   "outputs": [],
   "source": [
    "def sum_manual():\n",
    "    query = select(track)\n",
    "    result = engine.execute(query)\n",
    "\n",
    "    sum_ = 0\n",
    "    for row in result:\n",
    "        sum_ += row.Milliseconds\n",
    "    return sum_"
   ]
  },
  {
   "cell_type": "code",
   "execution_count": 105,
   "metadata": {},
   "outputs": [],
   "source": [
    "from sqlalchemy.sql import func\n",
    "\n",
    "def sum_sql():\n",
    "    query = select(func.sum(track.columns[\"Milliseconds\"]))\n",
    "    result = engine.execute(query)\n",
    "    return result.scalar()\n",
    "\n"
   ]
  },
  {
   "cell_type": "code",
   "execution_count": 106,
   "metadata": {},
   "outputs": [
    {
     "name": "stderr",
     "output_type": "stream",
     "text": [
      "/home/fbidu/.pyenv/versions/3.8.12/lib/python3.8/site-packages/sqlalchemy/sql/sqltypes.py:727: SAWarning: Dialect sqlite+pysqlite does *not* support Decimal objects natively, and SQLAlchemy must convert from floating point - rounding errors and other issues may occur. Please consider storing Decimal numbers as strings or integers on this platform for lossless storage.\n",
      "  util.warn(\n"
     ]
    },
    {
     "name": "stdout",
     "output_type": "stream",
     "text": [
      "2.07 s ± 13.1 ms per loop (mean ± std. dev. of 7 runs, 1 loop each)\n"
     ]
    }
   ],
   "source": [
    "%timeit sum_manual()"
   ]
  },
  {
   "cell_type": "code",
   "execution_count": 107,
   "metadata": {},
   "outputs": [
    {
     "name": "stdout",
     "output_type": "stream",
     "text": [
      "39.1 ms ± 418 µs per loop (mean ± std. dev. of 7 runs, 10 loops each)\n"
     ]
    }
   ],
   "source": [
    "%timeit sum_sql()"
   ]
  },
  {
   "cell_type": "code",
   "execution_count": 114,
   "metadata": {},
   "outputs": [],
   "source": [
    "def sum_sql(limit=10):\n",
    "    select_limit = select(track.columns[\"Milliseconds\"]).limit(limit)\n",
    "    select_count = select(func.sum(select_limit.columns[\"Milliseconds\"]))\n",
    "    count = conn.execute(select_count)\n",
    "    return count.scalar()\n",
    "\n",
    "def sum_manual(limit=10):\n",
    "    query = select(track).limit(limit)\n",
    "    result = engine.execute(query)\n",
    "\n",
    "    sum_ = 0\n",
    "    for row in result:\n",
    "        sum_ += row.Milliseconds\n",
    "    return sum_"
   ]
  },
  {
   "cell_type": "code",
   "execution_count": 140,
   "metadata": {},
   "outputs": [
    {
     "name": "stderr",
     "output_type": "stream",
     "text": [
      "\n",
      "\n",
      "  0%|                                                                                                                                                        | 0/101 [00:00<?, ?it/s]\u001b[A\u001b[A\n",
      "\n",
      "  4%|█████▋                                                                                                                                          | 4/101 [00:00<00:03, 28.16it/s]\u001b[A\u001b[A"
     ]
    },
    {
     "name": "stdout",
     "output_type": "stream",
     "text": [
      "849 µs ± 0 ns per loop (mean ± std. dev. of 1 run, 1 loop each)\n",
      "1.14 ms ± 0 ns per loop (mean ± std. dev. of 1 run, 1 loop each)\n",
      "891 µs ± 0 ns per loop (mean ± std. dev. of 1 run, 1 loop each)\n",
      "23.3 ms ± 0 ns per loop (mean ± std. dev. of 1 run, 1 loop each)\n",
      "1.6 ms ± 0 ns per loop (mean ± std. dev. of 1 run, 1 loop each)\n",
      "44.2 ms ± 0 ns per loop (mean ± std. dev. of 1 run, 1 loop each)\n",
      "1.88 ms ± 0 ns per loop (mean ± std. dev. of 1 run, 1 loop each)\n",
      "62.9 ms ± 0 ns per loop (mean ± std. dev. of 1 run, 1 loop each)\n",
      "2.1 ms ± 0 ns per loop (mean ± std. dev. of 1 run, 1 loop each)\n"
     ]
    },
    {
     "name": "stderr",
     "output_type": "stream",
     "text": [
      "\n",
      "\n",
      "  6%|████████▌                                                                                                                                       | 6/101 [00:00<00:05, 18.40it/s]\u001b[A\u001b[A"
     ]
    },
    {
     "name": "stdout",
     "output_type": "stream",
     "text": [
      "84.1 ms ± 0 ns per loop (mean ± std. dev. of 1 run, 1 loop each)\n",
      "2.97 ms ± 0 ns per loop (mean ± std. dev. of 1 run, 1 loop each)\n",
      "105 ms ± 0 ns per loop (mean ± std. dev. of 1 run, 1 loop each)\n",
      "3.17 ms ± 0 ns per loop (mean ± std. dev. of 1 run, 1 loop each)\n"
     ]
    },
    {
     "name": "stderr",
     "output_type": "stream",
     "text": [
      "\n",
      "\n",
      "  7%|█████████▉                                                                                                                                      | 7/101 [00:00<00:07, 12.96it/s]\u001b[A\u001b[A\n",
      "\n",
      "  8%|███████████▍                                                                                                                                    | 8/101 [00:00<00:09, 10.07it/s]\u001b[A\u001b[A"
     ]
    },
    {
     "name": "stdout",
     "output_type": "stream",
     "text": [
      "125 ms ± 0 ns per loop (mean ± std. dev. of 1 run, 1 loop each)\n",
      "4.08 ms ± 0 ns per loop (mean ± std. dev. of 1 run, 1 loop each)\n",
      "145 ms ± 0 ns per loop (mean ± std. dev. of 1 run, 1 loop each)\n",
      "4.4 ms ± 0 ns per loop (mean ± std. dev. of 1 run, 1 loop each)\n"
     ]
    },
    {
     "name": "stderr",
     "output_type": "stream",
     "text": [
      "\n",
      "\n",
      "  9%|████████████▊                                                                                                                                   | 9/101 [00:00<00:11,  8.15it/s]\u001b[A\u001b[A\n",
      "\n",
      " 10%|██████████████▏                                                                                                                                | 10/101 [00:00<00:13,  6.95it/s]\u001b[A\u001b[A"
     ]
    },
    {
     "name": "stdout",
     "output_type": "stream",
     "text": [
      "171 ms ± 0 ns per loop (mean ± std. dev. of 1 run, 1 loop each)\n",
      "4.81 ms ± 0 ns per loop (mean ± std. dev. of 1 run, 1 loop each)\n",
      "186 ms ± 0 ns per loop (mean ± std. dev. of 1 run, 1 loop each)\n",
      "5.5 ms ± 0 ns per loop (mean ± std. dev. of 1 run, 1 loop each)\n"
     ]
    },
    {
     "name": "stderr",
     "output_type": "stream",
     "text": [
      "\n",
      "\n",
      " 11%|███████████████▌                                                                                                                               | 11/101 [00:01<00:14,  6.05it/s]\u001b[A\u001b[A"
     ]
    },
    {
     "name": "stdout",
     "output_type": "stream",
     "text": [
      "208 ms ± 0 ns per loop (mean ± std. dev. of 1 run, 1 loop each)\n",
      "6.01 ms ± 0 ns per loop (mean ± std. dev. of 1 run, 1 loop each)\n"
     ]
    },
    {
     "name": "stderr",
     "output_type": "stream",
     "text": [
      "\n",
      "\n",
      " 12%|████████████████▉                                                                                                                              | 12/101 [00:01<00:16,  5.37it/s]\u001b[A\u001b[A"
     ]
    },
    {
     "name": "stdout",
     "output_type": "stream",
     "text": [
      "228 ms ± 0 ns per loop (mean ± std. dev. of 1 run, 1 loop each)\n",
      "6.67 ms ± 0 ns per loop (mean ± std. dev. of 1 run, 1 loop each)\n"
     ]
    },
    {
     "name": "stderr",
     "output_type": "stream",
     "text": [
      "\n",
      "\n",
      " 13%|██████████████████▍                                                                                                                            | 13/101 [00:01<00:18,  4.82it/s]\u001b[A\u001b[A"
     ]
    },
    {
     "name": "stdout",
     "output_type": "stream",
     "text": [
      "248 ms ± 0 ns per loop (mean ± std. dev. of 1 run, 1 loop each)\n",
      "6.94 ms ± 0 ns per loop (mean ± std. dev. of 1 run, 1 loop each)\n"
     ]
    },
    {
     "name": "stderr",
     "output_type": "stream",
     "text": [
      "\n",
      "\n",
      " 14%|███████████████████▊                                                                                                                           | 14/101 [00:01<00:19,  4.37it/s]\u001b[A\u001b[A"
     ]
    },
    {
     "name": "stdout",
     "output_type": "stream",
     "text": [
      "269 ms ± 0 ns per loop (mean ± std. dev. of 1 run, 1 loop each)\n",
      "7.7 ms ± 0 ns per loop (mean ± std. dev. of 1 run, 1 loop each)\n"
     ]
    },
    {
     "name": "stderr",
     "output_type": "stream",
     "text": [
      "\n",
      "\n",
      " 15%|█████████████████████▏                                                                                                                         | 15/101 [00:02<00:21,  4.00it/s]\u001b[A\u001b[A"
     ]
    },
    {
     "name": "stdout",
     "output_type": "stream",
     "text": [
      "289 ms ± 0 ns per loop (mean ± std. dev. of 1 run, 1 loop each)\n",
      "8.05 ms ± 0 ns per loop (mean ± std. dev. of 1 run, 1 loop each)\n"
     ]
    },
    {
     "name": "stderr",
     "output_type": "stream",
     "text": [
      "\n",
      "\n",
      " 16%|██████████████████████▋                                                                                                                        | 16/101 [00:02<00:23,  3.69it/s]\u001b[A\u001b[A"
     ]
    },
    {
     "name": "stdout",
     "output_type": "stream",
     "text": [
      "310 ms ± 0 ns per loop (mean ± std. dev. of 1 run, 1 loop each)\n",
      "8.58 ms ± 0 ns per loop (mean ± std. dev. of 1 run, 1 loop each)\n"
     ]
    },
    {
     "name": "stderr",
     "output_type": "stream",
     "text": [
      "\n",
      "\n",
      " 17%|████████████████████████                                                                                                                       | 17/101 [00:02<00:24,  3.43it/s]\u001b[A\u001b[A"
     ]
    },
    {
     "name": "stdout",
     "output_type": "stream",
     "text": [
      "329 ms ± 0 ns per loop (mean ± std. dev. of 1 run, 1 loop each)\n",
      "9.02 ms ± 0 ns per loop (mean ± std. dev. of 1 run, 1 loop each)\n"
     ]
    },
    {
     "name": "stderr",
     "output_type": "stream",
     "text": [
      "\n",
      "\n",
      " 18%|█████████████████████████▍                                                                                                                     | 18/101 [00:03<00:25,  3.20it/s]\u001b[A\u001b[A"
     ]
    },
    {
     "name": "stdout",
     "output_type": "stream",
     "text": [
      "351 ms ± 0 ns per loop (mean ± std. dev. of 1 run, 1 loop each)\n",
      "9.65 ms ± 0 ns per loop (mean ± std. dev. of 1 run, 1 loop each)\n"
     ]
    },
    {
     "name": "stderr",
     "output_type": "stream",
     "text": [
      "\n",
      "\n",
      " 19%|██████████████████████████▉                                                                                                                    | 19/101 [00:03<00:27,  2.98it/s]\u001b[A\u001b[A"
     ]
    },
    {
     "name": "stdout",
     "output_type": "stream",
     "text": [
      "377 ms ± 0 ns per loop (mean ± std. dev. of 1 run, 1 loop each)\n",
      "9.69 ms ± 0 ns per loop (mean ± std. dev. of 1 run, 1 loop each)\n"
     ]
    },
    {
     "name": "stderr",
     "output_type": "stream",
     "text": [
      "\n",
      "\n",
      " 20%|████████████████████████████▎                                                                                                                  | 20/101 [00:04<00:28,  2.81it/s]\u001b[A\u001b[A"
     ]
    },
    {
     "name": "stdout",
     "output_type": "stream",
     "text": [
      "392 ms ± 0 ns per loop (mean ± std. dev. of 1 run, 1 loop each)\n",
      "10.2 ms ± 0 ns per loop (mean ± std. dev. of 1 run, 1 loop each)\n"
     ]
    },
    {
     "name": "stderr",
     "output_type": "stream",
     "text": [
      "\n",
      "\n",
      " 21%|█████████████████████████████▋                                                                                                                 | 21/101 [00:04<00:30,  2.65it/s]\u001b[A\u001b[A"
     ]
    },
    {
     "name": "stdout",
     "output_type": "stream",
     "text": [
      "414 ms ± 0 ns per loop (mean ± std. dev. of 1 run, 1 loop each)\n",
      "10.3 ms ± 0 ns per loop (mean ± std. dev. of 1 run, 1 loop each)\n"
     ]
    },
    {
     "name": "stderr",
     "output_type": "stream",
     "text": [
      "\n",
      "\n",
      " 22%|███████████████████████████████▏                                                                                                               | 22/101 [00:04<00:31,  2.51it/s]\u001b[A\u001b[A"
     ]
    },
    {
     "name": "stdout",
     "output_type": "stream",
     "text": [
      "437 ms ± 0 ns per loop (mean ± std. dev. of 1 run, 1 loop each)\n",
      "11 ms ± 0 ns per loop (mean ± std. dev. of 1 run, 1 loop each)\n"
     ]
    },
    {
     "name": "stderr",
     "output_type": "stream",
     "text": [
      "\n",
      "\n",
      " 23%|████████████████████████████████▌                                                                                                              | 23/101 [00:05<00:32,  2.39it/s]\u001b[A\u001b[A"
     ]
    },
    {
     "name": "stdout",
     "output_type": "stream",
     "text": [
      "453 ms ± 0 ns per loop (mean ± std. dev. of 1 run, 1 loop each)\n",
      "11.7 ms ± 0 ns per loop (mean ± std. dev. of 1 run, 1 loop each)\n"
     ]
    },
    {
     "name": "stderr",
     "output_type": "stream",
     "text": [
      "\n",
      "\n",
      " 24%|█████████████████████████████████▉                                                                                                             | 24/101 [00:05<00:33,  2.28it/s]\u001b[A\u001b[A"
     ]
    },
    {
     "name": "stdout",
     "output_type": "stream",
     "text": [
      "473 ms ± 0 ns per loop (mean ± std. dev. of 1 run, 1 loop each)\n",
      "11.9 ms ± 0 ns per loop (mean ± std. dev. of 1 run, 1 loop each)\n"
     ]
    },
    {
     "name": "stderr",
     "output_type": "stream",
     "text": [
      "\n",
      "\n",
      " 25%|███████████████████████████████████▍                                                                                                           | 25/101 [00:06<00:34,  2.18it/s]\u001b[A\u001b[A"
     ]
    },
    {
     "name": "stdout",
     "output_type": "stream",
     "text": [
      "492 ms ± 0 ns per loop (mean ± std. dev. of 1 run, 1 loop each)\n",
      "12.4 ms ± 0 ns per loop (mean ± std. dev. of 1 run, 1 loop each)\n"
     ]
    },
    {
     "name": "stderr",
     "output_type": "stream",
     "text": [
      "\n",
      "\n",
      " 26%|████████████████████████████████████▊                                                                                                          | 26/101 [00:06<00:35,  2.08it/s]\u001b[A\u001b[A"
     ]
    },
    {
     "name": "stdout",
     "output_type": "stream",
     "text": [
      "513 ms ± 0 ns per loop (mean ± std. dev. of 1 run, 1 loop each)\n",
      "13.1 ms ± 0 ns per loop (mean ± std. dev. of 1 run, 1 loop each)\n"
     ]
    },
    {
     "name": "stderr",
     "output_type": "stream",
     "text": [
      "\n",
      "\n",
      " 27%|██████████████████████████████████████▏                                                                                                        | 27/101 [00:07<00:37,  2.00it/s]\u001b[A\u001b[A"
     ]
    },
    {
     "name": "stdout",
     "output_type": "stream",
     "text": [
      "535 ms ± 0 ns per loop (mean ± std. dev. of 1 run, 1 loop each)\n",
      "13.5 ms ± 0 ns per loop (mean ± std. dev. of 1 run, 1 loop each)\n"
     ]
    },
    {
     "name": "stderr",
     "output_type": "stream",
     "text": [
      "\n",
      "\n",
      " 28%|███████████████████████████████████████▋                                                                                                       | 28/101 [00:08<00:38,  1.92it/s]\u001b[A\u001b[A"
     ]
    },
    {
     "name": "stdout",
     "output_type": "stream",
     "text": [
      "555 ms ± 0 ns per loop (mean ± std. dev. of 1 run, 1 loop each)\n",
      "13.8 ms ± 0 ns per loop (mean ± std. dev. of 1 run, 1 loop each)\n"
     ]
    },
    {
     "name": "stderr",
     "output_type": "stream",
     "text": [
      "\n",
      "\n",
      " 29%|█████████████████████████████████████████                                                                                                      | 29/101 [00:08<00:39,  1.84it/s]\u001b[A\u001b[A"
     ]
    },
    {
     "name": "stdout",
     "output_type": "stream",
     "text": [
      "575 ms ± 0 ns per loop (mean ± std. dev. of 1 run, 1 loop each)\n",
      "14.2 ms ± 0 ns per loop (mean ± std. dev. of 1 run, 1 loop each)\n"
     ]
    },
    {
     "name": "stderr",
     "output_type": "stream",
     "text": [
      "\n",
      "\n",
      " 30%|██████████████████████████████████████████▍                                                                                                    | 30/101 [00:09<00:40,  1.77it/s]\u001b[A\u001b[A"
     ]
    },
    {
     "name": "stdout",
     "output_type": "stream",
     "text": [
      "601 ms ± 0 ns per loop (mean ± std. dev. of 1 run, 1 loop each)\n",
      "14.9 ms ± 0 ns per loop (mean ± std. dev. of 1 run, 1 loop each)\n"
     ]
    },
    {
     "name": "stderr",
     "output_type": "stream",
     "text": [
      "\n",
      "\n",
      " 31%|███████████████████████████████████████████▉                                                                                                   | 31/101 [00:09<00:41,  1.71it/s]\u001b[A\u001b[A"
     ]
    },
    {
     "name": "stdout",
     "output_type": "stream",
     "text": [
      "618 ms ± 0 ns per loop (mean ± std. dev. of 1 run, 1 loop each)\n",
      "15.3 ms ± 0 ns per loop (mean ± std. dev. of 1 run, 1 loop each)\n"
     ]
    },
    {
     "name": "stderr",
     "output_type": "stream",
     "text": [
      "\n",
      "\n",
      " 32%|█████████████████████████████████████████████▎                                                                                                 | 32/101 [00:10<00:41,  1.65it/s]\u001b[A\u001b[A"
     ]
    },
    {
     "name": "stdout",
     "output_type": "stream",
     "text": [
      "639 ms ± 0 ns per loop (mean ± std. dev. of 1 run, 1 loop each)\n",
      "16.1 ms ± 0 ns per loop (mean ± std. dev. of 1 run, 1 loop each)\n"
     ]
    },
    {
     "name": "stderr",
     "output_type": "stream",
     "text": [
      "\n",
      "\n",
      " 33%|██████████████████████████████████████████████▋                                                                                                | 33/101 [00:11<00:42,  1.59it/s]\u001b[A\u001b[A"
     ]
    },
    {
     "name": "stdout",
     "output_type": "stream",
     "text": [
      "659 ms ± 0 ns per loop (mean ± std. dev. of 1 run, 1 loop each)\n",
      "16.5 ms ± 0 ns per loop (mean ± std. dev. of 1 run, 1 loop each)\n"
     ]
    },
    {
     "name": "stderr",
     "output_type": "stream",
     "text": [
      "\n",
      "\n",
      " 34%|████████████████████████████████████████████████▏                                                                                              | 34/101 [00:11<00:43,  1.54it/s]\u001b[A\u001b[A"
     ]
    },
    {
     "name": "stdout",
     "output_type": "stream",
     "text": [
      "676 ms ± 0 ns per loop (mean ± std. dev. of 1 run, 1 loop each)\n",
      "16.7 ms ± 0 ns per loop (mean ± std. dev. of 1 run, 1 loop each)\n"
     ]
    },
    {
     "name": "stderr",
     "output_type": "stream",
     "text": [
      "\n",
      "\n",
      " 35%|█████████████████████████████████████████████████▌                                                                                             | 35/101 [00:12<00:44,  1.49it/s]\u001b[A\u001b[A"
     ]
    },
    {
     "name": "stdout",
     "output_type": "stream",
     "text": [
      "698 ms ± 0 ns per loop (mean ± std. dev. of 1 run, 1 loop each)\n",
      "17.3 ms ± 0 ns per loop (mean ± std. dev. of 1 run, 1 loop each)\n"
     ]
    },
    {
     "name": "stderr",
     "output_type": "stream",
     "text": [
      "\n",
      "\n",
      " 36%|██████████████████████████████████████████████████▉                                                                                            | 36/101 [00:13<00:44,  1.45it/s]\u001b[A\u001b[A"
     ]
    },
    {
     "name": "stdout",
     "output_type": "stream",
     "text": [
      "718 ms ± 0 ns per loop (mean ± std. dev. of 1 run, 1 loop each)\n",
      "17.5 ms ± 0 ns per loop (mean ± std. dev. of 1 run, 1 loop each)\n"
     ]
    },
    {
     "name": "stderr",
     "output_type": "stream",
     "text": [
      "\n",
      "\n",
      " 37%|████████████████████████████████████████████████████▍                                                                                          | 37/101 [00:14<00:45,  1.41it/s]\u001b[A\u001b[A"
     ]
    },
    {
     "name": "stdout",
     "output_type": "stream",
     "text": [
      "742 ms ± 0 ns per loop (mean ± std. dev. of 1 run, 1 loop each)\n",
      "18.6 ms ± 0 ns per loop (mean ± std. dev. of 1 run, 1 loop each)\n"
     ]
    },
    {
     "name": "stderr",
     "output_type": "stream",
     "text": [
      "\n",
      "\n",
      " 38%|█████████████████████████████████████████████████████▊                                                                                         | 38/101 [00:14<00:46,  1.37it/s]\u001b[A\u001b[A"
     ]
    },
    {
     "name": "stdout",
     "output_type": "stream",
     "text": [
      "762 ms ± 0 ns per loop (mean ± std. dev. of 1 run, 1 loop each)\n",
      "19.1 ms ± 0 ns per loop (mean ± std. dev. of 1 run, 1 loop each)\n"
     ]
    },
    {
     "name": "stderr",
     "output_type": "stream",
     "text": [
      "\n",
      "\n",
      " 39%|███████████████████████████████████████████████████████▏                                                                                       | 39/101 [00:15<00:46,  1.32it/s]\u001b[A\u001b[A"
     ]
    },
    {
     "name": "stdout",
     "output_type": "stream",
     "text": [
      "786 ms ± 0 ns per loop (mean ± std. dev. of 1 run, 1 loop each)\n",
      "19.1 ms ± 0 ns per loop (mean ± std. dev. of 1 run, 1 loop each)\n"
     ]
    },
    {
     "name": "stderr",
     "output_type": "stream",
     "text": [
      "\n",
      "\n",
      " 40%|████████████████████████████████████████████████████████▋                                                                                      | 40/101 [00:16<00:47,  1.29it/s]\u001b[A\u001b[A"
     ]
    },
    {
     "name": "stdout",
     "output_type": "stream",
     "text": [
      "803 ms ± 0 ns per loop (mean ± std. dev. of 1 run, 1 loop each)\n",
      "19.8 ms ± 0 ns per loop (mean ± std. dev. of 1 run, 1 loop each)\n"
     ]
    },
    {
     "name": "stderr",
     "output_type": "stream",
     "text": [
      "\n",
      "\n",
      " 41%|██████████████████████████████████████████████████████████                                                                                     | 41/101 [00:17<00:47,  1.25it/s]\u001b[A\u001b[A"
     ]
    },
    {
     "name": "stdout",
     "output_type": "stream",
     "text": [
      "826 ms ± 0 ns per loop (mean ± std. dev. of 1 run, 1 loop each)\n",
      "20.5 ms ± 0 ns per loop (mean ± std. dev. of 1 run, 1 loop each)\n"
     ]
    },
    {
     "name": "stderr",
     "output_type": "stream",
     "text": [
      "\n",
      "\n",
      " 42%|███████████████████████████████████████████████████████████▍                                                                                   | 42/101 [00:18<00:48,  1.22it/s]\u001b[A\u001b[A"
     ]
    },
    {
     "name": "stdout",
     "output_type": "stream",
     "text": [
      "847 ms ± 0 ns per loop (mean ± std. dev. of 1 run, 1 loop each)\n",
      "20.5 ms ± 0 ns per loop (mean ± std. dev. of 1 run, 1 loop each)\n"
     ]
    },
    {
     "name": "stderr",
     "output_type": "stream",
     "text": [
      "\n",
      "\n",
      " 43%|████████████████████████████████████████████████████████████▉                                                                                  | 43/101 [00:19<00:48,  1.19it/s]\u001b[A\u001b[A"
     ]
    },
    {
     "name": "stdout",
     "output_type": "stream",
     "text": [
      "868 ms ± 0 ns per loop (mean ± std. dev. of 1 run, 1 loop each)\n",
      "21 ms ± 0 ns per loop (mean ± std. dev. of 1 run, 1 loop each)\n"
     ]
    },
    {
     "name": "stderr",
     "output_type": "stream",
     "text": [
      "\n",
      "\n",
      " 44%|██████████████████████████████████████████████████████████████▎                                                                                | 44/101 [00:20<00:49,  1.16it/s]\u001b[A\u001b[A"
     ]
    },
    {
     "name": "stdout",
     "output_type": "stream",
     "text": [
      "888 ms ± 0 ns per loop (mean ± std. dev. of 1 run, 1 loop each)\n",
      "21.3 ms ± 0 ns per loop (mean ± std. dev. of 1 run, 1 loop each)\n"
     ]
    },
    {
     "name": "stderr",
     "output_type": "stream",
     "text": [
      "\n",
      "\n",
      " 45%|███████████████████████████████████████████████████████████████▋                                                                               | 45/101 [00:21<00:49,  1.13it/s]\u001b[A\u001b[A"
     ]
    },
    {
     "name": "stdout",
     "output_type": "stream",
     "text": [
      "909 ms ± 0 ns per loop (mean ± std. dev. of 1 run, 1 loop each)\n",
      "22 ms ± 0 ns per loop (mean ± std. dev. of 1 run, 1 loop each)\n"
     ]
    },
    {
     "name": "stderr",
     "output_type": "stream",
     "text": [
      "\n",
      "\n",
      " 46%|█████████████████████████████████████████████████████████████████▏                                                                             | 46/101 [00:21<00:49,  1.11it/s]\u001b[A\u001b[A"
     ]
    },
    {
     "name": "stdout",
     "output_type": "stream",
     "text": [
      "922 ms ± 0 ns per loop (mean ± std. dev. of 1 run, 1 loop each)\n",
      "22.9 ms ± 0 ns per loop (mean ± std. dev. of 1 run, 1 loop each)\n"
     ]
    },
    {
     "name": "stderr",
     "output_type": "stream",
     "text": [
      "\n",
      "\n",
      " 47%|██████████████████████████████████████████████████████████████████▌                                                                            | 47/101 [00:22<00:49,  1.08it/s]\u001b[A\u001b[A"
     ]
    },
    {
     "name": "stdout",
     "output_type": "stream",
     "text": [
      "949 ms ± 0 ns per loop (mean ± std. dev. of 1 run, 1 loop each)\n",
      "23.4 ms ± 0 ns per loop (mean ± std. dev. of 1 run, 1 loop each)\n"
     ]
    },
    {
     "name": "stderr",
     "output_type": "stream",
     "text": [
      "\n",
      "\n",
      " 48%|███████████████████████████████████████████████████████████████████▉                                                                           | 48/101 [00:23<00:50,  1.06it/s]\u001b[A\u001b[A"
     ]
    },
    {
     "name": "stdout",
     "output_type": "stream",
     "text": [
      "966 ms ± 0 ns per loop (mean ± std. dev. of 1 run, 1 loop each)\n",
      "23.6 ms ± 0 ns per loop (mean ± std. dev. of 1 run, 1 loop each)\n"
     ]
    },
    {
     "name": "stderr",
     "output_type": "stream",
     "text": [
      "\n",
      "\n",
      " 49%|█████████████████████████████████████████████████████████████████████▍                                                                         | 49/101 [00:24<00:50,  1.03it/s]\u001b[A\u001b[A"
     ]
    },
    {
     "name": "stdout",
     "output_type": "stream",
     "text": [
      "997 ms ± 0 ns per loop (mean ± std. dev. of 1 run, 1 loop each)\n",
      "23.6 ms ± 0 ns per loop (mean ± std. dev. of 1 run, 1 loop each)\n"
     ]
    },
    {
     "name": "stderr",
     "output_type": "stream",
     "text": [
      "\n",
      "\n",
      " 50%|██████████████████████████████████████████████████████████████████████▊                                                                        | 50/101 [00:25<00:50,  1.01it/s]\u001b[A\u001b[A"
     ]
    },
    {
     "name": "stdout",
     "output_type": "stream",
     "text": [
      "1.01 s ± 0 ns per loop (mean ± std. dev. of 1 run, 1 loop each)\n",
      "24 ms ± 0 ns per loop (mean ± std. dev. of 1 run, 1 loop each)\n"
     ]
    },
    {
     "name": "stderr",
     "output_type": "stream",
     "text": [
      "\n",
      "\n",
      " 50%|████████████████████████████████████████████████████████████████████████▏                                                                      | 51/101 [00:27<00:50,  1.01s/it]\u001b[A\u001b[A"
     ]
    },
    {
     "name": "stdout",
     "output_type": "stream",
     "text": [
      "1.05 s ± 0 ns per loop (mean ± std. dev. of 1 run, 1 loop each)\n",
      "25.2 ms ± 0 ns per loop (mean ± std. dev. of 1 run, 1 loop each)\n"
     ]
    },
    {
     "name": "stderr",
     "output_type": "stream",
     "text": [
      "\n",
      "\n",
      " 51%|█████████████████████████████████████████████████████████████████████████▌                                                                     | 52/101 [00:28<00:50,  1.03s/it]\u001b[A\u001b[A"
     ]
    },
    {
     "name": "stdout",
     "output_type": "stream",
     "text": [
      "1.05 s ± 0 ns per loop (mean ± std. dev. of 1 run, 1 loop each)\n",
      "26 ms ± 0 ns per loop (mean ± std. dev. of 1 run, 1 loop each)\n"
     ]
    },
    {
     "name": "stderr",
     "output_type": "stream",
     "text": [
      "\n",
      "\n",
      " 52%|███████████████████████████████████████████████████████████████████████████                                                                    | 53/101 [00:29<00:50,  1.05s/it]\u001b[A\u001b[A"
     ]
    },
    {
     "name": "stdout",
     "output_type": "stream",
     "text": [
      "1.07 s ± 0 ns per loop (mean ± std. dev. of 1 run, 1 loop each)\n",
      "25.5 ms ± 0 ns per loop (mean ± std. dev. of 1 run, 1 loop each)\n"
     ]
    },
    {
     "name": "stderr",
     "output_type": "stream",
     "text": [
      "\n",
      "\n",
      " 53%|████████████████████████████████████████████████████████████████████████████▍                                                                  | 54/101 [00:30<00:50,  1.07s/it]\u001b[A\u001b[A"
     ]
    },
    {
     "name": "stdout",
     "output_type": "stream",
     "text": [
      "1.1 s ± 0 ns per loop (mean ± std. dev. of 1 run, 1 loop each)\n",
      "26.4 ms ± 0 ns per loop (mean ± std. dev. of 1 run, 1 loop each)\n"
     ]
    },
    {
     "name": "stderr",
     "output_type": "stream",
     "text": [
      "\n",
      "\n",
      " 54%|█████████████████████████████████████████████████████████████████████████████▊                                                                 | 55/101 [00:31<00:50,  1.09s/it]\u001b[A\u001b[A"
     ]
    },
    {
     "name": "stdout",
     "output_type": "stream",
     "text": [
      "1.11 s ± 0 ns per loop (mean ± std. dev. of 1 run, 1 loop each)\n",
      "26.7 ms ± 0 ns per loop (mean ± std. dev. of 1 run, 1 loop each)\n"
     ]
    },
    {
     "name": "stderr",
     "output_type": "stream",
     "text": [
      "\n",
      "\n",
      " 55%|███████████████████████████████████████████████████████████████████████████████▎                                                               | 56/101 [00:32<00:50,  1.11s/it]\u001b[A\u001b[A"
     ]
    },
    {
     "name": "stdout",
     "output_type": "stream",
     "text": [
      "1.13 s ± 0 ns per loop (mean ± std. dev. of 1 run, 1 loop each)\n",
      "27.3 ms ± 0 ns per loop (mean ± std. dev. of 1 run, 1 loop each)\n"
     ]
    },
    {
     "name": "stderr",
     "output_type": "stream",
     "text": [
      "\n",
      "\n",
      " 56%|████████████████████████████████████████████████████████████████████████████████▋                                                              | 57/101 [00:33<00:49,  1.13s/it]\u001b[A\u001b[A"
     ]
    },
    {
     "name": "stdout",
     "output_type": "stream",
     "text": [
      "1.15 s ± 0 ns per loop (mean ± std. dev. of 1 run, 1 loop each)\n",
      "28.3 ms ± 0 ns per loop (mean ± std. dev. of 1 run, 1 loop each)\n"
     ]
    },
    {
     "name": "stderr",
     "output_type": "stream",
     "text": [
      "\n",
      "\n",
      " 57%|██████████████████████████████████████████████████████████████████████████████████                                                             | 58/101 [00:35<00:49,  1.15s/it]\u001b[A\u001b[A"
     ]
    },
    {
     "name": "stdout",
     "output_type": "stream",
     "text": [
      "1.17 s ± 0 ns per loop (mean ± std. dev. of 1 run, 1 loop each)\n",
      "28.8 ms ± 0 ns per loop (mean ± std. dev. of 1 run, 1 loop each)\n"
     ]
    },
    {
     "name": "stderr",
     "output_type": "stream",
     "text": [
      "\n",
      "\n",
      " 58%|███████████████████████████████████████████████████████████████████████████████████▌                                                           | 59/101 [00:36<00:49,  1.18s/it]\u001b[A\u001b[A"
     ]
    },
    {
     "name": "stdout",
     "output_type": "stream",
     "text": [
      "1.2 s ± 0 ns per loop (mean ± std. dev. of 1 run, 1 loop each)\n",
      "29 ms ± 0 ns per loop (mean ± std. dev. of 1 run, 1 loop each)\n"
     ]
    },
    {
     "name": "stderr",
     "output_type": "stream",
     "text": [
      "\n",
      "\n",
      " 59%|████████████████████████████████████████████████████████████████████████████████████▉                                                          | 60/101 [00:37<00:49,  1.20s/it]\u001b[A\u001b[A"
     ]
    },
    {
     "name": "stdout",
     "output_type": "stream",
     "text": [
      "1.22 s ± 0 ns per loop (mean ± std. dev. of 1 run, 1 loop each)\n",
      "28.8 ms ± 0 ns per loop (mean ± std. dev. of 1 run, 1 loop each)\n"
     ]
    },
    {
     "name": "stderr",
     "output_type": "stream",
     "text": [
      "\n",
      "\n",
      " 60%|██████████████████████████████████████████████████████████████████████████████████████▎                                                        | 61/101 [00:38<00:48,  1.22s/it]\u001b[A\u001b[A"
     ]
    },
    {
     "name": "stdout",
     "output_type": "stream",
     "text": [
      "1.23 s ± 0 ns per loop (mean ± std. dev. of 1 run, 1 loop each)\n",
      "29.5 ms ± 0 ns per loop (mean ± std. dev. of 1 run, 1 loop each)\n"
     ]
    },
    {
     "name": "stderr",
     "output_type": "stream",
     "text": [
      "\n",
      "\n",
      " 61%|███████████████████████████████████████████████████████████████████████████████████████▊                                                       | 62/101 [00:40<00:48,  1.24s/it]\u001b[A\u001b[A"
     ]
    },
    {
     "name": "stdout",
     "output_type": "stream",
     "text": [
      "1.26 s ± 0 ns per loop (mean ± std. dev. of 1 run, 1 loop each)\n",
      "31.3 ms ± 0 ns per loop (mean ± std. dev. of 1 run, 1 loop each)\n"
     ]
    },
    {
     "name": "stderr",
     "output_type": "stream",
     "text": [
      "\n",
      "\n",
      " 62%|█████████████████████████████████████████████████████████████████████████████████████████▏                                                     | 63/101 [00:41<00:48,  1.27s/it]\u001b[A\u001b[A"
     ]
    },
    {
     "name": "stdout",
     "output_type": "stream",
     "text": [
      "1.29 s ± 0 ns per loop (mean ± std. dev. of 1 run, 1 loop each)\n",
      "31.2 ms ± 0 ns per loop (mean ± std. dev. of 1 run, 1 loop each)\n"
     ]
    },
    {
     "name": "stderr",
     "output_type": "stream",
     "text": [
      "\n",
      "\n",
      " 63%|██████████████████████████████████████████████████████████████████████████████████████████▌                                                    | 64/101 [00:42<00:47,  1.29s/it]\u001b[A\u001b[A"
     ]
    },
    {
     "name": "stdout",
     "output_type": "stream",
     "text": [
      "1.31 s ± 0 ns per loop (mean ± std. dev. of 1 run, 1 loop each)\n",
      "36.5 ms ± 0 ns per loop (mean ± std. dev. of 1 run, 1 loop each)\n"
     ]
    },
    {
     "name": "stderr",
     "output_type": "stream",
     "text": [
      "\n",
      "\n",
      " 64%|████████████████████████████████████████████████████████████████████████████████████████████                                                   | 65/101 [00:44<00:47,  1.31s/it]\u001b[A\u001b[A"
     ]
    },
    {
     "name": "stdout",
     "output_type": "stream",
     "text": [
      "1.33 s ± 0 ns per loop (mean ± std. dev. of 1 run, 1 loop each)\n",
      "36.9 ms ± 0 ns per loop (mean ± std. dev. of 1 run, 1 loop each)\n"
     ]
    },
    {
     "name": "stderr",
     "output_type": "stream",
     "text": [
      "\n",
      "\n",
      " 65%|█████████████████████████████████████████████████████████████████████████████████████████████▍                                                 | 66/101 [00:45<00:46,  1.33s/it]\u001b[A\u001b[A"
     ]
    },
    {
     "name": "stdout",
     "output_type": "stream",
     "text": [
      "1.34 s ± 0 ns per loop (mean ± std. dev. of 1 run, 1 loop each)\n",
      "31.6 ms ± 0 ns per loop (mean ± std. dev. of 1 run, 1 loop each)\n"
     ]
    },
    {
     "name": "stderr",
     "output_type": "stream",
     "text": [
      "\n",
      "\n",
      " 66%|██████████████████████████████████████████████████████████████████████████████████████████████▊                                                | 67/101 [00:46<00:46,  1.36s/it]\u001b[A\u001b[A"
     ]
    },
    {
     "name": "stdout",
     "output_type": "stream",
     "text": [
      "1.39 s ± 0 ns per loop (mean ± std. dev. of 1 run, 1 loop each)\n",
      "32.3 ms ± 0 ns per loop (mean ± std. dev. of 1 run, 1 loop each)\n"
     ]
    },
    {
     "name": "stderr",
     "output_type": "stream",
     "text": [
      "\n",
      "\n",
      " 67%|████████████████████████████████████████████████████████████████████████████████████████████████▎                                              | 68/101 [00:48<00:45,  1.37s/it]\u001b[A\u001b[A"
     ]
    },
    {
     "name": "stdout",
     "output_type": "stream",
     "text": [
      "1.36 s ± 0 ns per loop (mean ± std. dev. of 1 run, 1 loop each)\n",
      "32.5 ms ± 0 ns per loop (mean ± std. dev. of 1 run, 1 loop each)\n"
     ]
    },
    {
     "name": "stderr",
     "output_type": "stream",
     "text": [
      "\n",
      "\n",
      " 68%|█████████████████████████████████████████████████████████████████████████████████████████████████▋                                             | 69/101 [00:49<00:44,  1.39s/it]\u001b[A\u001b[A"
     ]
    },
    {
     "name": "stdout",
     "output_type": "stream",
     "text": [
      "1.39 s ± 0 ns per loop (mean ± std. dev. of 1 run, 1 loop each)\n",
      "33.1 ms ± 0 ns per loop (mean ± std. dev. of 1 run, 1 loop each)\n"
     ]
    },
    {
     "name": "stderr",
     "output_type": "stream",
     "text": [
      "\n",
      "\n",
      " 69%|███████████████████████████████████████████████████████████████████████████████████████████████████                                            | 70/101 [00:51<00:43,  1.41s/it]\u001b[A\u001b[A"
     ]
    },
    {
     "name": "stdout",
     "output_type": "stream",
     "text": [
      "1.42 s ± 0 ns per loop (mean ± std. dev. of 1 run, 1 loop each)\n",
      "33.4 ms ± 0 ns per loop (mean ± std. dev. of 1 run, 1 loop each)\n"
     ]
    },
    {
     "name": "stderr",
     "output_type": "stream",
     "text": [
      "\n",
      "\n",
      " 70%|████████████████████████████████████████████████████████████████████████████████████████████████████▌                                          | 71/101 [00:52<00:42,  1.43s/it]\u001b[A\u001b[A"
     ]
    },
    {
     "name": "stdout",
     "output_type": "stream",
     "text": [
      "1.45 s ± 0 ns per loop (mean ± std. dev. of 1 run, 1 loop each)\n",
      "41.7 ms ± 0 ns per loop (mean ± std. dev. of 1 run, 1 loop each)\n"
     ]
    },
    {
     "name": "stderr",
     "output_type": "stream",
     "text": [
      "\n",
      "\n",
      " 71%|█████████████████████████████████████████████████████████████████████████████████████████████████████▉                                         | 72/101 [00:54<00:42,  1.45s/it]\u001b[A\u001b[A"
     ]
    },
    {
     "name": "stdout",
     "output_type": "stream",
     "text": [
      "1.46 s ± 0 ns per loop (mean ± std. dev. of 1 run, 1 loop each)\n",
      "35.1 ms ± 0 ns per loop (mean ± std. dev. of 1 run, 1 loop each)\n"
     ]
    },
    {
     "name": "stderr",
     "output_type": "stream",
     "text": [
      "\n",
      "\n",
      " 72%|███████████████████████████████████████████████████████████████████████████████████████████████████████▎                                       | 73/101 [00:55<00:41,  1.47s/it]\u001b[A\u001b[A"
     ]
    },
    {
     "name": "stdout",
     "output_type": "stream",
     "text": [
      "1.49 s ± 0 ns per loop (mean ± std. dev. of 1 run, 1 loop each)\n",
      "40.6 ms ± 0 ns per loop (mean ± std. dev. of 1 run, 1 loop each)\n"
     ]
    },
    {
     "name": "stderr",
     "output_type": "stream",
     "text": [
      "\n",
      "\n",
      " 73%|████████████████████████████████████████████████████████████████████████████████████████████████████████▊                                      | 74/101 [00:57<00:40,  1.49s/it]\u001b[A\u001b[A"
     ]
    },
    {
     "name": "stdout",
     "output_type": "stream",
     "text": [
      "1.49 s ± 0 ns per loop (mean ± std. dev. of 1 run, 1 loop each)\n",
      "35.9 ms ± 0 ns per loop (mean ± std. dev. of 1 run, 1 loop each)\n"
     ]
    },
    {
     "name": "stderr",
     "output_type": "stream",
     "text": [
      "\n",
      "\n",
      " 74%|██████████████████████████████████████████████████████████████████████████████████████████████████████████▏                                    | 75/101 [00:58<00:39,  1.51s/it]\u001b[A\u001b[A"
     ]
    },
    {
     "name": "stdout",
     "output_type": "stream",
     "text": [
      "1.51 s ± 0 ns per loop (mean ± std. dev. of 1 run, 1 loop each)\n",
      "35.9 ms ± 0 ns per loop (mean ± std. dev. of 1 run, 1 loop each)\n"
     ]
    },
    {
     "name": "stderr",
     "output_type": "stream",
     "text": [
      "\n",
      "\n",
      " 75%|███████████████████████████████████████████████████████████████████████████████████████████████████████████▌                                   | 76/101 [01:00<00:38,  1.53s/it]\u001b[A\u001b[A"
     ]
    },
    {
     "name": "stdout",
     "output_type": "stream",
     "text": [
      "1.54 s ± 0 ns per loop (mean ± std. dev. of 1 run, 1 loop each)\n",
      "36.7 ms ± 0 ns per loop (mean ± std. dev. of 1 run, 1 loop each)\n"
     ]
    },
    {
     "name": "stderr",
     "output_type": "stream",
     "text": [
      "\n",
      "\n",
      " 76%|█████████████████████████████████████████████████████████████████████████████████████████████████████████████                                  | 77/101 [01:01<00:37,  1.56s/it]\u001b[A\u001b[A"
     ]
    },
    {
     "name": "stdout",
     "output_type": "stream",
     "text": [
      "1.57 s ± 0 ns per loop (mean ± std. dev. of 1 run, 1 loop each)\n",
      "38.8 ms ± 0 ns per loop (mean ± std. dev. of 1 run, 1 loop each)\n"
     ]
    },
    {
     "name": "stderr",
     "output_type": "stream",
     "text": [
      "\n",
      "\n",
      " 77%|██████████████████████████████████████████████████████████████████████████████████████████████████████████████▍                                | 78/101 [01:03<00:36,  1.58s/it]\u001b[A\u001b[A"
     ]
    },
    {
     "name": "stdout",
     "output_type": "stream",
     "text": [
      "1.6 s ± 0 ns per loop (mean ± std. dev. of 1 run, 1 loop each)\n",
      "43.8 ms ± 0 ns per loop (mean ± std. dev. of 1 run, 1 loop each)\n"
     ]
    },
    {
     "name": "stderr",
     "output_type": "stream",
     "text": [
      "\n",
      "\n",
      " 78%|███████████████████████████████████████████████████████████████████████████████████████████████████████████████▊                               | 79/101 [01:05<00:35,  1.61s/it]\u001b[A\u001b[A"
     ]
    },
    {
     "name": "stdout",
     "output_type": "stream",
     "text": [
      "1.63 s ± 0 ns per loop (mean ± std. dev. of 1 run, 1 loop each)\n",
      "38.4 ms ± 0 ns per loop (mean ± std. dev. of 1 run, 1 loop each)\n"
     ]
    },
    {
     "name": "stderr",
     "output_type": "stream",
     "text": [
      "\n",
      "\n",
      " 79%|█████████████████████████████████████████████████████████████████████████████████████████████████████████████████▎                             | 80/101 [01:06<00:34,  1.63s/it]\u001b[A\u001b[A"
     ]
    },
    {
     "name": "stdout",
     "output_type": "stream",
     "text": [
      "1.64 s ± 0 ns per loop (mean ± std. dev. of 1 run, 1 loop each)\n",
      "39.2 ms ± 0 ns per loop (mean ± std. dev. of 1 run, 1 loop each)\n"
     ]
    },
    {
     "name": "stderr",
     "output_type": "stream",
     "text": [
      "\n",
      "\n",
      " 80%|██████████████████████████████████████████████████████████████████████████████████████████████████████████████████▋                            | 81/101 [01:08<00:33,  1.66s/it]\u001b[A\u001b[A"
     ]
    },
    {
     "name": "stdout",
     "output_type": "stream",
     "text": [
      "1.69 s ± 0 ns per loop (mean ± std. dev. of 1 run, 1 loop each)\n",
      "40 ms ± 0 ns per loop (mean ± std. dev. of 1 run, 1 loop each)\n"
     ]
    },
    {
     "name": "stderr",
     "output_type": "stream",
     "text": [
      "\n",
      "\n",
      " 81%|████████████████████████████████████████████████████████████████████████████████████████████████████████████████████                           | 82/101 [01:10<00:32,  1.68s/it]\u001b[A\u001b[A"
     ]
    },
    {
     "name": "stdout",
     "output_type": "stream",
     "text": [
      "1.7 s ± 0 ns per loop (mean ± std. dev. of 1 run, 1 loop each)\n",
      "39.5 ms ± 0 ns per loop (mean ± std. dev. of 1 run, 1 loop each)\n"
     ]
    },
    {
     "name": "stderr",
     "output_type": "stream",
     "text": [
      "\n",
      "\n",
      " 82%|█████████████████████████████████████████████████████████████████████████████████████████████████████████████████████▌                         | 83/101 [01:12<00:30,  1.70s/it]\u001b[A\u001b[A"
     ]
    },
    {
     "name": "stdout",
     "output_type": "stream",
     "text": [
      "1.7 s ± 0 ns per loop (mean ± std. dev. of 1 run, 1 loop each)\n",
      "40.1 ms ± 0 ns per loop (mean ± std. dev. of 1 run, 1 loop each)\n"
     ]
    },
    {
     "name": "stderr",
     "output_type": "stream",
     "text": [
      "\n",
      "\n",
      " 83%|██████████████████████████████████████████████████████████████████████████████████████████████████████████████████████▉                        | 84/101 [01:13<00:29,  1.72s/it]\u001b[A\u001b[A"
     ]
    },
    {
     "name": "stdout",
     "output_type": "stream",
     "text": [
      "1.73 s ± 0 ns per loop (mean ± std. dev. of 1 run, 1 loop each)\n",
      "41 ms ± 0 ns per loop (mean ± std. dev. of 1 run, 1 loop each)\n"
     ]
    },
    {
     "name": "stderr",
     "output_type": "stream",
     "text": [
      "\n",
      "\n",
      " 84%|████████████████████████████████████████████████████████████████████████████████████████████████████████████████████████▎                      | 85/101 [01:15<00:27,  1.74s/it]\u001b[A\u001b[A"
     ]
    },
    {
     "name": "stdout",
     "output_type": "stream",
     "text": [
      "1.74 s ± 0 ns per loop (mean ± std. dev. of 1 run, 1 loop each)\n",
      "41.5 ms ± 0 ns per loop (mean ± std. dev. of 1 run, 1 loop each)\n"
     ]
    },
    {
     "name": "stderr",
     "output_type": "stream",
     "text": [
      "\n",
      "\n",
      " 85%|█████████████████████████████████████████████████████████████████████████████████████████████████████████████████████████▊                     | 86/101 [01:17<00:26,  1.76s/it]\u001b[A\u001b[A"
     ]
    },
    {
     "name": "stdout",
     "output_type": "stream",
     "text": [
      "1.75 s ± 0 ns per loop (mean ± std. dev. of 1 run, 1 loop each)\n",
      "42.1 ms ± 0 ns per loop (mean ± std. dev. of 1 run, 1 loop each)\n"
     ]
    },
    {
     "name": "stderr",
     "output_type": "stream",
     "text": [
      "\n",
      "\n",
      " 86%|███████████████████████████████████████████████████████████████████████████████████████████████████████████████████████████▏                   | 87/101 [01:19<00:24,  1.77s/it]\u001b[A\u001b[A"
     ]
    },
    {
     "name": "stdout",
     "output_type": "stream",
     "text": [
      "1.76 s ± 0 ns per loop (mean ± std. dev. of 1 run, 1 loop each)\n",
      "43.1 ms ± 0 ns per loop (mean ± std. dev. of 1 run, 1 loop each)\n"
     ]
    },
    {
     "name": "stderr",
     "output_type": "stream",
     "text": [
      "\n",
      "\n",
      " 87%|████████████████████████████████████████████████████████████████████████████████████████████████████████████████████████████▌                  | 88/101 [01:21<00:23,  1.79s/it]\u001b[A\u001b[A"
     ]
    },
    {
     "name": "stdout",
     "output_type": "stream",
     "text": [
      "1.79 s ± 0 ns per loop (mean ± std. dev. of 1 run, 1 loop each)\n",
      "41.6 ms ± 0 ns per loop (mean ± std. dev. of 1 run, 1 loop each)\n"
     ]
    },
    {
     "name": "stderr",
     "output_type": "stream",
     "text": [
      "\n",
      "\n",
      " 88%|██████████████████████████████████████████████████████████████████████████████████████████████████████████████████████████████                 | 89/101 [01:23<00:21,  1.81s/it]\u001b[A\u001b[A"
     ]
    },
    {
     "name": "stdout",
     "output_type": "stream",
     "text": [
      "1.81 s ± 0 ns per loop (mean ± std. dev. of 1 run, 1 loop each)\n",
      "42.7 ms ± 0 ns per loop (mean ± std. dev. of 1 run, 1 loop each)\n"
     ]
    },
    {
     "name": "stderr",
     "output_type": "stream",
     "text": [
      "\n",
      "\n",
      " 89%|███████████████████████████████████████████████████████████████████████████████████████████████████████████████████████████████▍               | 90/101 [01:24<00:20,  1.83s/it]\u001b[A\u001b[A"
     ]
    },
    {
     "name": "stdout",
     "output_type": "stream",
     "text": [
      "1.83 s ± 0 ns per loop (mean ± std. dev. of 1 run, 1 loop each)\n",
      "42.6 ms ± 0 ns per loop (mean ± std. dev. of 1 run, 1 loop each)\n"
     ]
    },
    {
     "name": "stderr",
     "output_type": "stream",
     "text": [
      "\n",
      "\n",
      " 90%|████████████████████████████████████████████████████████████████████████████████████████████████████████████████████████████████▊              | 91/101 [01:26<00:18,  1.85s/it]\u001b[A\u001b[A"
     ]
    },
    {
     "name": "stdout",
     "output_type": "stream",
     "text": [
      "1.85 s ± 0 ns per loop (mean ± std. dev. of 1 run, 1 loop each)\n",
      "43.1 ms ± 0 ns per loop (mean ± std. dev. of 1 run, 1 loop each)\n"
     ]
    },
    {
     "name": "stderr",
     "output_type": "stream",
     "text": [
      "\n",
      "\n",
      " 91%|██████████████████████████████████████████████████████████████████████████████████████████████████████████████████████████████████▎            | 92/101 [01:28<00:16,  1.86s/it]\u001b[A\u001b[A"
     ]
    },
    {
     "name": "stdout",
     "output_type": "stream",
     "text": [
      "1.86 s ± 0 ns per loop (mean ± std. dev. of 1 run, 1 loop each)\n",
      "45.1 ms ± 0 ns per loop (mean ± std. dev. of 1 run, 1 loop each)\n"
     ]
    },
    {
     "name": "stderr",
     "output_type": "stream",
     "text": [
      "\n",
      "\n",
      " 92%|███████████████████████████████████████████████████████████████████████████████████████████████████████████████████████████████████▋           | 93/101 [01:30<00:15,  1.88s/it]\u001b[A\u001b[A"
     ]
    },
    {
     "name": "stdout",
     "output_type": "stream",
     "text": [
      "1.87 s ± 0 ns per loop (mean ± std. dev. of 1 run, 1 loop each)\n",
      "44 ms ± 0 ns per loop (mean ± std. dev. of 1 run, 1 loop each)\n"
     ]
    },
    {
     "name": "stderr",
     "output_type": "stream",
     "text": [
      "\n",
      "\n",
      " 93%|█████████████████████████████████████████████████████████████████████████████████████████████████████████████████████████████████████          | 94/101 [01:32<00:13,  1.90s/it]\u001b[A\u001b[A"
     ]
    },
    {
     "name": "stdout",
     "output_type": "stream",
     "text": [
      "1.9 s ± 0 ns per loop (mean ± std. dev. of 1 run, 1 loop each)\n",
      "45 ms ± 0 ns per loop (mean ± std. dev. of 1 run, 1 loop each)\n"
     ]
    },
    {
     "name": "stderr",
     "output_type": "stream",
     "text": [
      "\n",
      "\n",
      " 94%|██████████████████████████████████████████████████████████████████████████████████████████████████████████████████████████████████████▌        | 95/101 [01:34<00:11,  1.92s/it]\u001b[A\u001b[A"
     ]
    },
    {
     "name": "stdout",
     "output_type": "stream",
     "text": [
      "1.92 s ± 0 ns per loop (mean ± std. dev. of 1 run, 1 loop each)\n",
      "47.7 ms ± 0 ns per loop (mean ± std. dev. of 1 run, 1 loop each)\n"
     ]
    },
    {
     "name": "stderr",
     "output_type": "stream",
     "text": [
      "\n",
      "\n",
      " 95%|███████████████████████████████████████████████████████████████████████████████████████████████████████████████████████████████████████▉       | 96/101 [01:36<00:09,  1.95s/it]\u001b[A\u001b[A"
     ]
    },
    {
     "name": "stdout",
     "output_type": "stream",
     "text": [
      "1.95 s ± 0 ns per loop (mean ± std. dev. of 1 run, 1 loop each)\n",
      "46.6 ms ± 0 ns per loop (mean ± std. dev. of 1 run, 1 loop each)\n"
     ]
    },
    {
     "name": "stderr",
     "output_type": "stream",
     "text": [
      "\n",
      "\n",
      " 96%|█████████████████████████████████████████████████████████████████████████████████████████████████████████████████████████████████████████▎     | 97/101 [01:38<00:07,  1.97s/it]\u001b[A\u001b[A"
     ]
    },
    {
     "name": "stdout",
     "output_type": "stream",
     "text": [
      "1.98 s ± 0 ns per loop (mean ± std. dev. of 1 run, 1 loop each)\n",
      "48.5 ms ± 0 ns per loop (mean ± std. dev. of 1 run, 1 loop each)\n"
     ]
    },
    {
     "name": "stderr",
     "output_type": "stream",
     "text": [
      "\n",
      "\n",
      " 97%|██████████████████████████████████████████████████████████████████████████████████████████████████████████████████████████████████████████▊    | 98/101 [01:40<00:05,  1.99s/it]\u001b[A\u001b[A"
     ]
    },
    {
     "name": "stdout",
     "output_type": "stream",
     "text": [
      "2 s ± 0 ns per loop (mean ± std. dev. of 1 run, 1 loop each)\n",
      "46.5 ms ± 0 ns per loop (mean ± std. dev. of 1 run, 1 loop each)\n"
     ]
    },
    {
     "name": "stderr",
     "output_type": "stream",
     "text": [
      "\n",
      "\n",
      " 98%|████████████████████████████████████████████████████████████████████████████████████████████████████████████████████████████████████████████▏  | 99/101 [01:42<00:04,  2.01s/it]\u001b[A\u001b[A"
     ]
    },
    {
     "name": "stdout",
     "output_type": "stream",
     "text": [
      "2.01 s ± 0 ns per loop (mean ± std. dev. of 1 run, 1 loop each)\n",
      "47.7 ms ± 0 ns per loop (mean ± std. dev. of 1 run, 1 loop each)\n"
     ]
    },
    {
     "name": "stderr",
     "output_type": "stream",
     "text": [
      "\n",
      "\n",
      " 99%|████████████████████████████████████████████████████████████████████████████████████████████████████████████████████████████████████████████▌ | 100/101 [01:44<00:02,  2.03s/it]\u001b[A\u001b[A"
     ]
    },
    {
     "name": "stdout",
     "output_type": "stream",
     "text": [
      "2.03 s ± 0 ns per loop (mean ± std. dev. of 1 run, 1 loop each)\n",
      "48.4 ms ± 0 ns per loop (mean ± std. dev. of 1 run, 1 loop each)\n"
     ]
    },
    {
     "name": "stderr",
     "output_type": "stream",
     "text": [
      "\n",
      "\n",
      "100%|██████████████████████████████████████████████████████████████████████████████████████████████████████████████████████████████████████████████| 101/101 [01:46<00:00,  2.07s/it]\u001b[A\u001b[A"
     ]
    },
    {
     "name": "stdout",
     "output_type": "stream",
     "text": [
      "2.09 s ± 0 ns per loop (mean ± std. dev. of 1 run, 1 loop each)\n"
     ]
    }
   ],
   "source": [
    "sql_times = []\n",
    "manual_times = []\n",
    "\n",
    "for i in tqdm(range(0, 1_000_001, 10_000)):\n",
    "    benchmark_sql = %timeit -n1 -r1 -o sum_sql(limit=i)\n",
    "    benchmark_manual = %timeit -n1 -r1 -o sum_manual(limit=i)\n",
    "    sql_times.append(benchmark_sql.average)\n",
    "    manual_times.append(benchmark_manual.average)"
   ]
  },
  {
   "cell_type": "code",
   "execution_count": 27,
   "metadata": {
    "scrolled": false
   },
   "outputs": [
    {
     "data": {
      "application/vnd.plotly.v1+json": {
       "config": {
        "plotlyServerURL": "https://plot.ly"
       },
       "data": [
        {
         "hovertemplate": "variable=manual<br>Registros=%{x}<br>Tempo (s)=%{y}<extra></extra>",
         "legendgroup": "manual",
         "line": {
          "color": "#636efa",
          "dash": "solid"
         },
         "marker": {
          "symbol": "circle"
         },
         "mode": "lines",
         "name": "manual",
         "orientation": "v",
         "showlegend": true,
         "type": "scatter",
         "x": [
          0,
          10000,
          20000,
          30000,
          40000,
          50000,
          60000,
          70000,
          80000,
          90000,
          100000,
          110000,
          120000,
          130000,
          140000,
          150000,
          160000,
          170000,
          180000,
          190000,
          200000,
          210000,
          220000,
          230000,
          240000,
          250000,
          260000,
          270000,
          280000,
          290000,
          300000,
          310000,
          320000,
          330000,
          340000,
          350000,
          360000,
          370000,
          380000,
          390000,
          400000,
          410000,
          420000,
          430000,
          440000,
          450000,
          460000,
          470000,
          480000,
          490000,
          500000,
          510000,
          520000,
          530000,
          540000,
          550000,
          560000,
          570000,
          580000,
          590000,
          600000,
          610000,
          620000,
          630000,
          640000,
          650000,
          660000,
          670000,
          680000,
          690000,
          700000,
          710000,
          720000,
          730000,
          740000,
          750000,
          760000,
          770000,
          780000,
          790000,
          800000,
          810000,
          820000,
          830000,
          840000,
          850000,
          860000,
          870000,
          880000,
          890000,
          900000,
          910000,
          920000,
          930000,
          940000,
          950000,
          960000,
          970000,
          980000,
          990000,
          1000000
         ],
         "xaxis": "x",
         "y": [
          0.0011446740245446563,
          0.023261455004103482,
          0.04417526989709586,
          0.06293883197940886,
          0.08411101391538978,
          0.10454227798618376,
          0.12544564704876393,
          0.1448378839995712,
          0.17071178008336574,
          0.18636171100661159,
          0.20751481596380472,
          0.227586998953484,
          0.2476126530673355,
          0.2694089930737391,
          0.2892277599312365,
          0.31002912600524724,
          0.3294056669110432,
          0.35060679994057864,
          0.3772959540365264,
          0.39157634996809065,
          0.41449855896644294,
          0.436679519014433,
          0.4529636870138347,
          0.4727491500088945,
          0.4924185280688107,
          0.5128864999860525,
          0.5345034450292587,
          0.5546927249524742,
          0.5751885790377855,
          0.601245790021494,
          0.6183334320085123,
          0.6394769999897107,
          0.6589573639212176,
          0.6761968299979344,
          0.698101763962768,
          0.7175586039666086,
          0.7417036209953949,
          0.761843721033074,
          0.7862873499980196,
          0.8028113949112594,
          0.8256828299490735,
          0.8465724220732227,
          0.8675733309937641,
          0.8880705899791792,
          0.9086752879666165,
          0.9221586609492078,
          0.949352590017952,
          0.96598792495206,
          0.9970105839893222,
          1.008542240015231,
          1.0452926179859787,
          1.047805103007704,
          1.0721316420240328,
          1.0968021540902555,
          1.1069154549622908,
          1.1338693839497864,
          1.1534388239961118,
          1.167676919954829,
          1.2042255169944838,
          1.2195651259971783,
          1.2301308539463207,
          1.2633231069194153,
          1.2908132900483906,
          1.3054023440927267,
          1.325302520999685,
          1.3352075830334798,
          1.386368999024853,
          1.363631044048816,
          1.3947860900079831,
          1.416596969938837,
          1.449929444002919,
          1.4602967200335115,
          1.4888659439748153,
          1.4906209219479933,
          1.514678384992294,
          1.539627602091059,
          1.5733267129398882,
          1.602903785998933,
          1.6307065238943323,
          1.6381604350171983,
          1.6916865989333019,
          1.6955763330915943,
          1.6996494319755584,
          1.7322062749881297,
          1.7433621960226446,
          1.7496354359900579,
          1.7599663030123338,
          1.7854563919827342,
          1.8076615879544988,
          1.832962931948714,
          1.8461135309189558,
          1.859546598047018,
          1.8712856119964272,
          1.8957894541090354,
          1.9205294970888644,
          1.9541653810301796,
          1.9781960850814357,
          2.0008300240151584,
          2.0114719339180738,
          2.029447849956341,
          2.0885201409691945
         ],
         "yaxis": "y"
        },
        {
         "hovertemplate": "variable=sql<br>Registros=%{x}<br>Tempo (s)=%{y}<extra></extra>",
         "legendgroup": "sql",
         "line": {
          "color": "#EF553B",
          "dash": "solid"
         },
         "marker": {
          "symbol": "circle"
         },
         "mode": "lines",
         "name": "sql",
         "orientation": "v",
         "showlegend": true,
         "type": "scatter",
         "x": [
          0,
          10000,
          20000,
          30000,
          40000,
          50000,
          60000,
          70000,
          80000,
          90000,
          100000,
          110000,
          120000,
          130000,
          140000,
          150000,
          160000,
          170000,
          180000,
          190000,
          200000,
          210000,
          220000,
          230000,
          240000,
          250000,
          260000,
          270000,
          280000,
          290000,
          300000,
          310000,
          320000,
          330000,
          340000,
          350000,
          360000,
          370000,
          380000,
          390000,
          400000,
          410000,
          420000,
          430000,
          440000,
          450000,
          460000,
          470000,
          480000,
          490000,
          500000,
          510000,
          520000,
          530000,
          540000,
          550000,
          560000,
          570000,
          580000,
          590000,
          600000,
          610000,
          620000,
          630000,
          640000,
          650000,
          660000,
          670000,
          680000,
          690000,
          700000,
          710000,
          720000,
          730000,
          740000,
          750000,
          760000,
          770000,
          780000,
          790000,
          800000,
          810000,
          820000,
          830000,
          840000,
          850000,
          860000,
          870000,
          880000,
          890000,
          900000,
          910000,
          920000,
          930000,
          940000,
          950000,
          960000,
          970000,
          980000,
          990000,
          1000000
         ],
         "xaxis": "x",
         "y": [
          0.0008487189188599586,
          0.0008914991049095988,
          0.0016043250216171145,
          0.0018838579999282956,
          0.0020960660185664892,
          0.0029698520665988326,
          0.0031722099520266056,
          0.004077316960319877,
          0.004401132930070162,
          0.004813393927179277,
          0.005497577018104494,
          0.006007430027239025,
          0.0066711739636957645,
          0.006943624000996351,
          0.007704580086283386,
          0.00804938399232924,
          0.008581110974773765,
          0.009020744008012116,
          0.00965033401735127,
          0.009687032084912062,
          0.01015606103464961,
          0.010340075008571148,
          0.010993318050168455,
          0.011660467949695885,
          0.011896189069375396,
          0.012434648000635207,
          0.013138465932570398,
          0.013511534896679223,
          0.01377584901638329,
          0.014223397942259908,
          0.014914993895217776,
          0.015288090915419161,
          0.01607356406748295,
          0.016519006923772395,
          0.016661725006997585,
          0.017286855028942227,
          0.017512978985905647,
          0.01856318605132401,
          0.019125337013974786,
          0.019070897018536925,
          0.019784571952186525,
          0.020466009969823062,
          0.02049965295009315,
          0.020998256048187613,
          0.021321110078133643,
          0.022022985038347542,
          0.022902432014234364,
          0.02343805495183915,
          0.023587864940054715,
          0.023575462051667273,
          0.023994646966457367,
          0.025161713012494147,
          0.02597084897570312,
          0.02554224501363933,
          0.02639512298628688,
          0.026712696999311447,
          0.027297995053231716,
          0.028316661017015576,
          0.02877026202622801,
          0.02901206398382783,
          0.02882976399268955,
          0.029476372990757227,
          0.03126106597483158,
          0.031164726009592414,
          0.03645866992883384,
          0.03692645602859557,
          0.03163827199023217,
          0.03231170296203345,
          0.032490648911334574,
          0.03306664701085538,
          0.03343367495108396,
          0.041701748967170715,
          0.03506284696049988,
          0.040576391969807446,
          0.03590757795609534,
          0.035925511037930846,
          0.03666835289914161,
          0.03879772103391588,
          0.04381986695807427,
          0.038447274011559784,
          0.039192692027427256,
          0.04003645200282335,
          0.03953898907639086,
          0.040080933016724885,
          0.041025022976100445,
          0.04152668209280819,
          0.04213778593111783,
          0.04305131593719125,
          0.041587617015466094,
          0.04274895996786654,
          0.04264374391641468,
          0.043089598999358714,
          0.04511962994001806,
          0.04396899603307247,
          0.04503199702594429,
          0.04766165104229003,
          0.04655764298513532,
          0.048478842014446855,
          0.04649866290856153,
          0.04770700598601252,
          0.04836346593219787
         ],
         "yaxis": "y"
        }
       ],
       "layout": {
        "legend": {
         "title": {
          "text": "variable"
         },
         "tracegroupgap": 0
        },
        "margin": {
         "t": 60
        },
        "template": {
         "data": {
          "bar": [
           {
            "error_x": {
             "color": "#2a3f5f"
            },
            "error_y": {
             "color": "#2a3f5f"
            },
            "marker": {
             "line": {
              "color": "#E5ECF6",
              "width": 0.5
             },
             "pattern": {
              "fillmode": "overlay",
              "size": 10,
              "solidity": 0.2
             }
            },
            "type": "bar"
           }
          ],
          "barpolar": [
           {
            "marker": {
             "line": {
              "color": "#E5ECF6",
              "width": 0.5
             },
             "pattern": {
              "fillmode": "overlay",
              "size": 10,
              "solidity": 0.2
             }
            },
            "type": "barpolar"
           }
          ],
          "carpet": [
           {
            "aaxis": {
             "endlinecolor": "#2a3f5f",
             "gridcolor": "white",
             "linecolor": "white",
             "minorgridcolor": "white",
             "startlinecolor": "#2a3f5f"
            },
            "baxis": {
             "endlinecolor": "#2a3f5f",
             "gridcolor": "white",
             "linecolor": "white",
             "minorgridcolor": "white",
             "startlinecolor": "#2a3f5f"
            },
            "type": "carpet"
           }
          ],
          "choropleth": [
           {
            "colorbar": {
             "outlinewidth": 0,
             "ticks": ""
            },
            "type": "choropleth"
           }
          ],
          "contour": [
           {
            "colorbar": {
             "outlinewidth": 0,
             "ticks": ""
            },
            "colorscale": [
             [
              0,
              "#0d0887"
             ],
             [
              0.1111111111111111,
              "#46039f"
             ],
             [
              0.2222222222222222,
              "#7201a8"
             ],
             [
              0.3333333333333333,
              "#9c179e"
             ],
             [
              0.4444444444444444,
              "#bd3786"
             ],
             [
              0.5555555555555556,
              "#d8576b"
             ],
             [
              0.6666666666666666,
              "#ed7953"
             ],
             [
              0.7777777777777778,
              "#fb9f3a"
             ],
             [
              0.8888888888888888,
              "#fdca26"
             ],
             [
              1,
              "#f0f921"
             ]
            ],
            "type": "contour"
           }
          ],
          "contourcarpet": [
           {
            "colorbar": {
             "outlinewidth": 0,
             "ticks": ""
            },
            "type": "contourcarpet"
           }
          ],
          "heatmap": [
           {
            "colorbar": {
             "outlinewidth": 0,
             "ticks": ""
            },
            "colorscale": [
             [
              0,
              "#0d0887"
             ],
             [
              0.1111111111111111,
              "#46039f"
             ],
             [
              0.2222222222222222,
              "#7201a8"
             ],
             [
              0.3333333333333333,
              "#9c179e"
             ],
             [
              0.4444444444444444,
              "#bd3786"
             ],
             [
              0.5555555555555556,
              "#d8576b"
             ],
             [
              0.6666666666666666,
              "#ed7953"
             ],
             [
              0.7777777777777778,
              "#fb9f3a"
             ],
             [
              0.8888888888888888,
              "#fdca26"
             ],
             [
              1,
              "#f0f921"
             ]
            ],
            "type": "heatmap"
           }
          ],
          "heatmapgl": [
           {
            "colorbar": {
             "outlinewidth": 0,
             "ticks": ""
            },
            "colorscale": [
             [
              0,
              "#0d0887"
             ],
             [
              0.1111111111111111,
              "#46039f"
             ],
             [
              0.2222222222222222,
              "#7201a8"
             ],
             [
              0.3333333333333333,
              "#9c179e"
             ],
             [
              0.4444444444444444,
              "#bd3786"
             ],
             [
              0.5555555555555556,
              "#d8576b"
             ],
             [
              0.6666666666666666,
              "#ed7953"
             ],
             [
              0.7777777777777778,
              "#fb9f3a"
             ],
             [
              0.8888888888888888,
              "#fdca26"
             ],
             [
              1,
              "#f0f921"
             ]
            ],
            "type": "heatmapgl"
           }
          ],
          "histogram": [
           {
            "marker": {
             "pattern": {
              "fillmode": "overlay",
              "size": 10,
              "solidity": 0.2
             }
            },
            "type": "histogram"
           }
          ],
          "histogram2d": [
           {
            "colorbar": {
             "outlinewidth": 0,
             "ticks": ""
            },
            "colorscale": [
             [
              0,
              "#0d0887"
             ],
             [
              0.1111111111111111,
              "#46039f"
             ],
             [
              0.2222222222222222,
              "#7201a8"
             ],
             [
              0.3333333333333333,
              "#9c179e"
             ],
             [
              0.4444444444444444,
              "#bd3786"
             ],
             [
              0.5555555555555556,
              "#d8576b"
             ],
             [
              0.6666666666666666,
              "#ed7953"
             ],
             [
              0.7777777777777778,
              "#fb9f3a"
             ],
             [
              0.8888888888888888,
              "#fdca26"
             ],
             [
              1,
              "#f0f921"
             ]
            ],
            "type": "histogram2d"
           }
          ],
          "histogram2dcontour": [
           {
            "colorbar": {
             "outlinewidth": 0,
             "ticks": ""
            },
            "colorscale": [
             [
              0,
              "#0d0887"
             ],
             [
              0.1111111111111111,
              "#46039f"
             ],
             [
              0.2222222222222222,
              "#7201a8"
             ],
             [
              0.3333333333333333,
              "#9c179e"
             ],
             [
              0.4444444444444444,
              "#bd3786"
             ],
             [
              0.5555555555555556,
              "#d8576b"
             ],
             [
              0.6666666666666666,
              "#ed7953"
             ],
             [
              0.7777777777777778,
              "#fb9f3a"
             ],
             [
              0.8888888888888888,
              "#fdca26"
             ],
             [
              1,
              "#f0f921"
             ]
            ],
            "type": "histogram2dcontour"
           }
          ],
          "mesh3d": [
           {
            "colorbar": {
             "outlinewidth": 0,
             "ticks": ""
            },
            "type": "mesh3d"
           }
          ],
          "parcoords": [
           {
            "line": {
             "colorbar": {
              "outlinewidth": 0,
              "ticks": ""
             }
            },
            "type": "parcoords"
           }
          ],
          "pie": [
           {
            "automargin": true,
            "type": "pie"
           }
          ],
          "scatter": [
           {
            "marker": {
             "colorbar": {
              "outlinewidth": 0,
              "ticks": ""
             }
            },
            "type": "scatter"
           }
          ],
          "scatter3d": [
           {
            "line": {
             "colorbar": {
              "outlinewidth": 0,
              "ticks": ""
             }
            },
            "marker": {
             "colorbar": {
              "outlinewidth": 0,
              "ticks": ""
             }
            },
            "type": "scatter3d"
           }
          ],
          "scattercarpet": [
           {
            "marker": {
             "colorbar": {
              "outlinewidth": 0,
              "ticks": ""
             }
            },
            "type": "scattercarpet"
           }
          ],
          "scattergeo": [
           {
            "marker": {
             "colorbar": {
              "outlinewidth": 0,
              "ticks": ""
             }
            },
            "type": "scattergeo"
           }
          ],
          "scattergl": [
           {
            "marker": {
             "colorbar": {
              "outlinewidth": 0,
              "ticks": ""
             }
            },
            "type": "scattergl"
           }
          ],
          "scattermapbox": [
           {
            "marker": {
             "colorbar": {
              "outlinewidth": 0,
              "ticks": ""
             }
            },
            "type": "scattermapbox"
           }
          ],
          "scatterpolar": [
           {
            "marker": {
             "colorbar": {
              "outlinewidth": 0,
              "ticks": ""
             }
            },
            "type": "scatterpolar"
           }
          ],
          "scatterpolargl": [
           {
            "marker": {
             "colorbar": {
              "outlinewidth": 0,
              "ticks": ""
             }
            },
            "type": "scatterpolargl"
           }
          ],
          "scatterternary": [
           {
            "marker": {
             "colorbar": {
              "outlinewidth": 0,
              "ticks": ""
             }
            },
            "type": "scatterternary"
           }
          ],
          "surface": [
           {
            "colorbar": {
             "outlinewidth": 0,
             "ticks": ""
            },
            "colorscale": [
             [
              0,
              "#0d0887"
             ],
             [
              0.1111111111111111,
              "#46039f"
             ],
             [
              0.2222222222222222,
              "#7201a8"
             ],
             [
              0.3333333333333333,
              "#9c179e"
             ],
             [
              0.4444444444444444,
              "#bd3786"
             ],
             [
              0.5555555555555556,
              "#d8576b"
             ],
             [
              0.6666666666666666,
              "#ed7953"
             ],
             [
              0.7777777777777778,
              "#fb9f3a"
             ],
             [
              0.8888888888888888,
              "#fdca26"
             ],
             [
              1,
              "#f0f921"
             ]
            ],
            "type": "surface"
           }
          ],
          "table": [
           {
            "cells": {
             "fill": {
              "color": "#EBF0F8"
             },
             "line": {
              "color": "white"
             }
            },
            "header": {
             "fill": {
              "color": "#C8D4E3"
             },
             "line": {
              "color": "white"
             }
            },
            "type": "table"
           }
          ]
         },
         "layout": {
          "annotationdefaults": {
           "arrowcolor": "#2a3f5f",
           "arrowhead": 0,
           "arrowwidth": 1
          },
          "autotypenumbers": "strict",
          "coloraxis": {
           "colorbar": {
            "outlinewidth": 0,
            "ticks": ""
           }
          },
          "colorscale": {
           "diverging": [
            [
             0,
             "#8e0152"
            ],
            [
             0.1,
             "#c51b7d"
            ],
            [
             0.2,
             "#de77ae"
            ],
            [
             0.3,
             "#f1b6da"
            ],
            [
             0.4,
             "#fde0ef"
            ],
            [
             0.5,
             "#f7f7f7"
            ],
            [
             0.6,
             "#e6f5d0"
            ],
            [
             0.7,
             "#b8e186"
            ],
            [
             0.8,
             "#7fbc41"
            ],
            [
             0.9,
             "#4d9221"
            ],
            [
             1,
             "#276419"
            ]
           ],
           "sequential": [
            [
             0,
             "#0d0887"
            ],
            [
             0.1111111111111111,
             "#46039f"
            ],
            [
             0.2222222222222222,
             "#7201a8"
            ],
            [
             0.3333333333333333,
             "#9c179e"
            ],
            [
             0.4444444444444444,
             "#bd3786"
            ],
            [
             0.5555555555555556,
             "#d8576b"
            ],
            [
             0.6666666666666666,
             "#ed7953"
            ],
            [
             0.7777777777777778,
             "#fb9f3a"
            ],
            [
             0.8888888888888888,
             "#fdca26"
            ],
            [
             1,
             "#f0f921"
            ]
           ],
           "sequentialminus": [
            [
             0,
             "#0d0887"
            ],
            [
             0.1111111111111111,
             "#46039f"
            ],
            [
             0.2222222222222222,
             "#7201a8"
            ],
            [
             0.3333333333333333,
             "#9c179e"
            ],
            [
             0.4444444444444444,
             "#bd3786"
            ],
            [
             0.5555555555555556,
             "#d8576b"
            ],
            [
             0.6666666666666666,
             "#ed7953"
            ],
            [
             0.7777777777777778,
             "#fb9f3a"
            ],
            [
             0.8888888888888888,
             "#fdca26"
            ],
            [
             1,
             "#f0f921"
            ]
           ]
          },
          "colorway": [
           "#636efa",
           "#EF553B",
           "#00cc96",
           "#ab63fa",
           "#FFA15A",
           "#19d3f3",
           "#FF6692",
           "#B6E880",
           "#FF97FF",
           "#FECB52"
          ],
          "font": {
           "color": "#2a3f5f"
          },
          "geo": {
           "bgcolor": "white",
           "lakecolor": "white",
           "landcolor": "#E5ECF6",
           "showlakes": true,
           "showland": true,
           "subunitcolor": "white"
          },
          "hoverlabel": {
           "align": "left"
          },
          "hovermode": "closest",
          "mapbox": {
           "style": "light"
          },
          "paper_bgcolor": "white",
          "plot_bgcolor": "#E5ECF6",
          "polar": {
           "angularaxis": {
            "gridcolor": "white",
            "linecolor": "white",
            "ticks": ""
           },
           "bgcolor": "#E5ECF6",
           "radialaxis": {
            "gridcolor": "white",
            "linecolor": "white",
            "ticks": ""
           }
          },
          "scene": {
           "xaxis": {
            "backgroundcolor": "#E5ECF6",
            "gridcolor": "white",
            "gridwidth": 2,
            "linecolor": "white",
            "showbackground": true,
            "ticks": "",
            "zerolinecolor": "white"
           },
           "yaxis": {
            "backgroundcolor": "#E5ECF6",
            "gridcolor": "white",
            "gridwidth": 2,
            "linecolor": "white",
            "showbackground": true,
            "ticks": "",
            "zerolinecolor": "white"
           },
           "zaxis": {
            "backgroundcolor": "#E5ECF6",
            "gridcolor": "white",
            "gridwidth": 2,
            "linecolor": "white",
            "showbackground": true,
            "ticks": "",
            "zerolinecolor": "white"
           }
          },
          "shapedefaults": {
           "line": {
            "color": "#2a3f5f"
           }
          },
          "ternary": {
           "aaxis": {
            "gridcolor": "white",
            "linecolor": "white",
            "ticks": ""
           },
           "baxis": {
            "gridcolor": "white",
            "linecolor": "white",
            "ticks": ""
           },
           "bgcolor": "#E5ECF6",
           "caxis": {
            "gridcolor": "white",
            "linecolor": "white",
            "ticks": ""
           }
          },
          "title": {
           "x": 0.05
          },
          "xaxis": {
           "automargin": true,
           "gridcolor": "white",
           "linecolor": "white",
           "ticks": "",
           "title": {
            "standoff": 15
           },
           "zerolinecolor": "white",
           "zerolinewidth": 2
          },
          "yaxis": {
           "automargin": true,
           "gridcolor": "white",
           "linecolor": "white",
           "ticks": "",
           "title": {
            "standoff": 15
           },
           "zerolinecolor": "white",
           "zerolinewidth": 2
          }
         }
        },
        "xaxis": {
         "anchor": "y",
         "domain": [
          0,
          1
         ],
         "title": {
          "text": "Registros"
         }
        },
        "yaxis": {
         "anchor": "x",
         "domain": [
          0,
          1
         ],
         "title": {
          "text": "Tempo (s)"
         }
        }
       }
      },
      "text/html": [
       "<div>                            <div id=\"3ac09da4-0bfb-4f11-8df0-8c24e9919fd1\" class=\"plotly-graph-div\" style=\"height:525px; width:100%;\"></div>            <script type=\"text/javascript\">                require([\"plotly\"], function(Plotly) {                    window.PLOTLYENV=window.PLOTLYENV || {};                                    if (document.getElementById(\"3ac09da4-0bfb-4f11-8df0-8c24e9919fd1\")) {                    Plotly.newPlot(                        \"3ac09da4-0bfb-4f11-8df0-8c24e9919fd1\",                        [{\"hovertemplate\":\"variable=manual<br>Registros=%{x}<br>Tempo (s)=%{y}<extra></extra>\",\"legendgroup\":\"manual\",\"line\":{\"color\":\"#636efa\",\"dash\":\"solid\"},\"marker\":{\"symbol\":\"circle\"},\"mode\":\"lines\",\"name\":\"manual\",\"orientation\":\"v\",\"showlegend\":true,\"x\":[0.0,10000.0,20000.0,30000.0,40000.0,50000.0,60000.0,70000.0,80000.0,90000.0,100000.0,110000.0,120000.0,130000.0,140000.0,150000.0,160000.0,170000.0,180000.0,190000.0,200000.0,210000.0,220000.0,230000.0,240000.0,250000.0,260000.0,270000.0,280000.0,290000.0,300000.0,310000.0,320000.0,330000.0,340000.0,350000.0,360000.0,370000.0,380000.0,390000.0,400000.0,410000.0,420000.0,430000.0,440000.0,450000.0,460000.0,470000.0,480000.0,490000.0,500000.0,510000.0,520000.0,530000.0,540000.0,550000.0,560000.0,570000.0,580000.0,590000.0,600000.0,610000.0,620000.0,630000.0,640000.0,650000.0,660000.0,670000.0,680000.0,690000.0,700000.0,710000.0,720000.0,730000.0,740000.0,750000.0,760000.0,770000.0,780000.0,790000.0,800000.0,810000.0,820000.0,830000.0,840000.0,850000.0,860000.0,870000.0,880000.0,890000.0,900000.0,910000.0,920000.0,930000.0,940000.0,950000.0,960000.0,970000.0,980000.0,990000.0,1000000.0],\"xaxis\":\"x\",\"y\":[0.0011446740245446563,0.023261455004103482,0.04417526989709586,0.06293883197940886,0.08411101391538978,0.10454227798618376,0.12544564704876393,0.1448378839995712,0.17071178008336574,0.18636171100661159,0.20751481596380472,0.227586998953484,0.2476126530673355,0.2694089930737391,0.2892277599312365,0.31002912600524724,0.3294056669110432,0.35060679994057864,0.3772959540365264,0.39157634996809065,0.41449855896644294,0.436679519014433,0.4529636870138347,0.4727491500088945,0.4924185280688107,0.5128864999860525,0.5345034450292587,0.5546927249524742,0.5751885790377855,0.601245790021494,0.6183334320085123,0.6394769999897107,0.6589573639212176,0.6761968299979344,0.698101763962768,0.7175586039666086,0.7417036209953949,0.761843721033074,0.7862873499980196,0.8028113949112594,0.8256828299490735,0.8465724220732227,0.8675733309937641,0.8880705899791792,0.9086752879666165,0.9221586609492078,0.949352590017952,0.96598792495206,0.9970105839893222,1.008542240015231,1.0452926179859787,1.047805103007704,1.0721316420240328,1.0968021540902555,1.1069154549622908,1.1338693839497864,1.1534388239961118,1.167676919954829,1.2042255169944838,1.2195651259971783,1.2301308539463207,1.2633231069194153,1.2908132900483906,1.3054023440927267,1.325302520999685,1.3352075830334798,1.386368999024853,1.363631044048816,1.3947860900079831,1.416596969938837,1.449929444002919,1.4602967200335115,1.4888659439748153,1.4906209219479933,1.514678384992294,1.539627602091059,1.5733267129398882,1.602903785998933,1.6307065238943323,1.6381604350171983,1.6916865989333019,1.6955763330915943,1.6996494319755584,1.7322062749881297,1.7433621960226446,1.7496354359900579,1.7599663030123338,1.7854563919827342,1.8076615879544988,1.832962931948714,1.8461135309189558,1.859546598047018,1.8712856119964272,1.8957894541090354,1.9205294970888644,1.9541653810301796,1.9781960850814357,2.0008300240151584,2.0114719339180738,2.029447849956341,2.0885201409691945],\"yaxis\":\"y\",\"type\":\"scatter\"},{\"hovertemplate\":\"variable=sql<br>Registros=%{x}<br>Tempo (s)=%{y}<extra></extra>\",\"legendgroup\":\"sql\",\"line\":{\"color\":\"#EF553B\",\"dash\":\"solid\"},\"marker\":{\"symbol\":\"circle\"},\"mode\":\"lines\",\"name\":\"sql\",\"orientation\":\"v\",\"showlegend\":true,\"x\":[0.0,10000.0,20000.0,30000.0,40000.0,50000.0,60000.0,70000.0,80000.0,90000.0,100000.0,110000.0,120000.0,130000.0,140000.0,150000.0,160000.0,170000.0,180000.0,190000.0,200000.0,210000.0,220000.0,230000.0,240000.0,250000.0,260000.0,270000.0,280000.0,290000.0,300000.0,310000.0,320000.0,330000.0,340000.0,350000.0,360000.0,370000.0,380000.0,390000.0,400000.0,410000.0,420000.0,430000.0,440000.0,450000.0,460000.0,470000.0,480000.0,490000.0,500000.0,510000.0,520000.0,530000.0,540000.0,550000.0,560000.0,570000.0,580000.0,590000.0,600000.0,610000.0,620000.0,630000.0,640000.0,650000.0,660000.0,670000.0,680000.0,690000.0,700000.0,710000.0,720000.0,730000.0,740000.0,750000.0,760000.0,770000.0,780000.0,790000.0,800000.0,810000.0,820000.0,830000.0,840000.0,850000.0,860000.0,870000.0,880000.0,890000.0,900000.0,910000.0,920000.0,930000.0,940000.0,950000.0,960000.0,970000.0,980000.0,990000.0,1000000.0],\"xaxis\":\"x\",\"y\":[0.0008487189188599586,0.0008914991049095988,0.0016043250216171145,0.0018838579999282956,0.0020960660185664892,0.0029698520665988326,0.0031722099520266056,0.004077316960319877,0.004401132930070162,0.004813393927179277,0.005497577018104494,0.006007430027239025,0.0066711739636957645,0.006943624000996351,0.007704580086283386,0.00804938399232924,0.008581110974773765,0.009020744008012116,0.00965033401735127,0.009687032084912062,0.01015606103464961,0.010340075008571148,0.010993318050168455,0.011660467949695885,0.011896189069375396,0.012434648000635207,0.013138465932570398,0.013511534896679223,0.01377584901638329,0.014223397942259908,0.014914993895217776,0.015288090915419161,0.01607356406748295,0.016519006923772395,0.016661725006997585,0.017286855028942227,0.017512978985905647,0.01856318605132401,0.019125337013974786,0.019070897018536925,0.019784571952186525,0.020466009969823062,0.02049965295009315,0.020998256048187613,0.021321110078133643,0.022022985038347542,0.022902432014234364,0.02343805495183915,0.023587864940054715,0.023575462051667273,0.023994646966457367,0.025161713012494147,0.02597084897570312,0.02554224501363933,0.02639512298628688,0.026712696999311447,0.027297995053231716,0.028316661017015576,0.02877026202622801,0.02901206398382783,0.02882976399268955,0.029476372990757227,0.03126106597483158,0.031164726009592414,0.03645866992883384,0.03692645602859557,0.03163827199023217,0.03231170296203345,0.032490648911334574,0.03306664701085538,0.03343367495108396,0.041701748967170715,0.03506284696049988,0.040576391969807446,0.03590757795609534,0.035925511037930846,0.03666835289914161,0.03879772103391588,0.04381986695807427,0.038447274011559784,0.039192692027427256,0.04003645200282335,0.03953898907639086,0.040080933016724885,0.041025022976100445,0.04152668209280819,0.04213778593111783,0.04305131593719125,0.041587617015466094,0.04274895996786654,0.04264374391641468,0.043089598999358714,0.04511962994001806,0.04396899603307247,0.04503199702594429,0.04766165104229003,0.04655764298513532,0.048478842014446855,0.04649866290856153,0.04770700598601252,0.04836346593219787],\"yaxis\":\"y\",\"type\":\"scatter\"}],                        {\"template\":{\"data\":{\"bar\":[{\"error_x\":{\"color\":\"#2a3f5f\"},\"error_y\":{\"color\":\"#2a3f5f\"},\"marker\":{\"line\":{\"color\":\"#E5ECF6\",\"width\":0.5},\"pattern\":{\"fillmode\":\"overlay\",\"size\":10,\"solidity\":0.2}},\"type\":\"bar\"}],\"barpolar\":[{\"marker\":{\"line\":{\"color\":\"#E5ECF6\",\"width\":0.5},\"pattern\":{\"fillmode\":\"overlay\",\"size\":10,\"solidity\":0.2}},\"type\":\"barpolar\"}],\"carpet\":[{\"aaxis\":{\"endlinecolor\":\"#2a3f5f\",\"gridcolor\":\"white\",\"linecolor\":\"white\",\"minorgridcolor\":\"white\",\"startlinecolor\":\"#2a3f5f\"},\"baxis\":{\"endlinecolor\":\"#2a3f5f\",\"gridcolor\":\"white\",\"linecolor\":\"white\",\"minorgridcolor\":\"white\",\"startlinecolor\":\"#2a3f5f\"},\"type\":\"carpet\"}],\"choropleth\":[{\"colorbar\":{\"outlinewidth\":0,\"ticks\":\"\"},\"type\":\"choropleth\"}],\"contour\":[{\"colorbar\":{\"outlinewidth\":0,\"ticks\":\"\"},\"colorscale\":[[0.0,\"#0d0887\"],[0.1111111111111111,\"#46039f\"],[0.2222222222222222,\"#7201a8\"],[0.3333333333333333,\"#9c179e\"],[0.4444444444444444,\"#bd3786\"],[0.5555555555555556,\"#d8576b\"],[0.6666666666666666,\"#ed7953\"],[0.7777777777777778,\"#fb9f3a\"],[0.8888888888888888,\"#fdca26\"],[1.0,\"#f0f921\"]],\"type\":\"contour\"}],\"contourcarpet\":[{\"colorbar\":{\"outlinewidth\":0,\"ticks\":\"\"},\"type\":\"contourcarpet\"}],\"heatmap\":[{\"colorbar\":{\"outlinewidth\":0,\"ticks\":\"\"},\"colorscale\":[[0.0,\"#0d0887\"],[0.1111111111111111,\"#46039f\"],[0.2222222222222222,\"#7201a8\"],[0.3333333333333333,\"#9c179e\"],[0.4444444444444444,\"#bd3786\"],[0.5555555555555556,\"#d8576b\"],[0.6666666666666666,\"#ed7953\"],[0.7777777777777778,\"#fb9f3a\"],[0.8888888888888888,\"#fdca26\"],[1.0,\"#f0f921\"]],\"type\":\"heatmap\"}],\"heatmapgl\":[{\"colorbar\":{\"outlinewidth\":0,\"ticks\":\"\"},\"colorscale\":[[0.0,\"#0d0887\"],[0.1111111111111111,\"#46039f\"],[0.2222222222222222,\"#7201a8\"],[0.3333333333333333,\"#9c179e\"],[0.4444444444444444,\"#bd3786\"],[0.5555555555555556,\"#d8576b\"],[0.6666666666666666,\"#ed7953\"],[0.7777777777777778,\"#fb9f3a\"],[0.8888888888888888,\"#fdca26\"],[1.0,\"#f0f921\"]],\"type\":\"heatmapgl\"}],\"histogram\":[{\"marker\":{\"pattern\":{\"fillmode\":\"overlay\",\"size\":10,\"solidity\":0.2}},\"type\":\"histogram\"}],\"histogram2d\":[{\"colorbar\":{\"outlinewidth\":0,\"ticks\":\"\"},\"colorscale\":[[0.0,\"#0d0887\"],[0.1111111111111111,\"#46039f\"],[0.2222222222222222,\"#7201a8\"],[0.3333333333333333,\"#9c179e\"],[0.4444444444444444,\"#bd3786\"],[0.5555555555555556,\"#d8576b\"],[0.6666666666666666,\"#ed7953\"],[0.7777777777777778,\"#fb9f3a\"],[0.8888888888888888,\"#fdca26\"],[1.0,\"#f0f921\"]],\"type\":\"histogram2d\"}],\"histogram2dcontour\":[{\"colorbar\":{\"outlinewidth\":0,\"ticks\":\"\"},\"colorscale\":[[0.0,\"#0d0887\"],[0.1111111111111111,\"#46039f\"],[0.2222222222222222,\"#7201a8\"],[0.3333333333333333,\"#9c179e\"],[0.4444444444444444,\"#bd3786\"],[0.5555555555555556,\"#d8576b\"],[0.6666666666666666,\"#ed7953\"],[0.7777777777777778,\"#fb9f3a\"],[0.8888888888888888,\"#fdca26\"],[1.0,\"#f0f921\"]],\"type\":\"histogram2dcontour\"}],\"mesh3d\":[{\"colorbar\":{\"outlinewidth\":0,\"ticks\":\"\"},\"type\":\"mesh3d\"}],\"parcoords\":[{\"line\":{\"colorbar\":{\"outlinewidth\":0,\"ticks\":\"\"}},\"type\":\"parcoords\"}],\"pie\":[{\"automargin\":true,\"type\":\"pie\"}],\"scatter\":[{\"marker\":{\"colorbar\":{\"outlinewidth\":0,\"ticks\":\"\"}},\"type\":\"scatter\"}],\"scatter3d\":[{\"line\":{\"colorbar\":{\"outlinewidth\":0,\"ticks\":\"\"}},\"marker\":{\"colorbar\":{\"outlinewidth\":0,\"ticks\":\"\"}},\"type\":\"scatter3d\"}],\"scattercarpet\":[{\"marker\":{\"colorbar\":{\"outlinewidth\":0,\"ticks\":\"\"}},\"type\":\"scattercarpet\"}],\"scattergeo\":[{\"marker\":{\"colorbar\":{\"outlinewidth\":0,\"ticks\":\"\"}},\"type\":\"scattergeo\"}],\"scattergl\":[{\"marker\":{\"colorbar\":{\"outlinewidth\":0,\"ticks\":\"\"}},\"type\":\"scattergl\"}],\"scattermapbox\":[{\"marker\":{\"colorbar\":{\"outlinewidth\":0,\"ticks\":\"\"}},\"type\":\"scattermapbox\"}],\"scatterpolar\":[{\"marker\":{\"colorbar\":{\"outlinewidth\":0,\"ticks\":\"\"}},\"type\":\"scatterpolar\"}],\"scatterpolargl\":[{\"marker\":{\"colorbar\":{\"outlinewidth\":0,\"ticks\":\"\"}},\"type\":\"scatterpolargl\"}],\"scatterternary\":[{\"marker\":{\"colorbar\":{\"outlinewidth\":0,\"ticks\":\"\"}},\"type\":\"scatterternary\"}],\"surface\":[{\"colorbar\":{\"outlinewidth\":0,\"ticks\":\"\"},\"colorscale\":[[0.0,\"#0d0887\"],[0.1111111111111111,\"#46039f\"],[0.2222222222222222,\"#7201a8\"],[0.3333333333333333,\"#9c179e\"],[0.4444444444444444,\"#bd3786\"],[0.5555555555555556,\"#d8576b\"],[0.6666666666666666,\"#ed7953\"],[0.7777777777777778,\"#fb9f3a\"],[0.8888888888888888,\"#fdca26\"],[1.0,\"#f0f921\"]],\"type\":\"surface\"}],\"table\":[{\"cells\":{\"fill\":{\"color\":\"#EBF0F8\"},\"line\":{\"color\":\"white\"}},\"header\":{\"fill\":{\"color\":\"#C8D4E3\"},\"line\":{\"color\":\"white\"}},\"type\":\"table\"}]},\"layout\":{\"annotationdefaults\":{\"arrowcolor\":\"#2a3f5f\",\"arrowhead\":0,\"arrowwidth\":1},\"autotypenumbers\":\"strict\",\"coloraxis\":{\"colorbar\":{\"outlinewidth\":0,\"ticks\":\"\"}},\"colorscale\":{\"diverging\":[[0,\"#8e0152\"],[0.1,\"#c51b7d\"],[0.2,\"#de77ae\"],[0.3,\"#f1b6da\"],[0.4,\"#fde0ef\"],[0.5,\"#f7f7f7\"],[0.6,\"#e6f5d0\"],[0.7,\"#b8e186\"],[0.8,\"#7fbc41\"],[0.9,\"#4d9221\"],[1,\"#276419\"]],\"sequential\":[[0.0,\"#0d0887\"],[0.1111111111111111,\"#46039f\"],[0.2222222222222222,\"#7201a8\"],[0.3333333333333333,\"#9c179e\"],[0.4444444444444444,\"#bd3786\"],[0.5555555555555556,\"#d8576b\"],[0.6666666666666666,\"#ed7953\"],[0.7777777777777778,\"#fb9f3a\"],[0.8888888888888888,\"#fdca26\"],[1.0,\"#f0f921\"]],\"sequentialminus\":[[0.0,\"#0d0887\"],[0.1111111111111111,\"#46039f\"],[0.2222222222222222,\"#7201a8\"],[0.3333333333333333,\"#9c179e\"],[0.4444444444444444,\"#bd3786\"],[0.5555555555555556,\"#d8576b\"],[0.6666666666666666,\"#ed7953\"],[0.7777777777777778,\"#fb9f3a\"],[0.8888888888888888,\"#fdca26\"],[1.0,\"#f0f921\"]]},\"colorway\":[\"#636efa\",\"#EF553B\",\"#00cc96\",\"#ab63fa\",\"#FFA15A\",\"#19d3f3\",\"#FF6692\",\"#B6E880\",\"#FF97FF\",\"#FECB52\"],\"font\":{\"color\":\"#2a3f5f\"},\"geo\":{\"bgcolor\":\"white\",\"lakecolor\":\"white\",\"landcolor\":\"#E5ECF6\",\"showlakes\":true,\"showland\":true,\"subunitcolor\":\"white\"},\"hoverlabel\":{\"align\":\"left\"},\"hovermode\":\"closest\",\"mapbox\":{\"style\":\"light\"},\"paper_bgcolor\":\"white\",\"plot_bgcolor\":\"#E5ECF6\",\"polar\":{\"angularaxis\":{\"gridcolor\":\"white\",\"linecolor\":\"white\",\"ticks\":\"\"},\"bgcolor\":\"#E5ECF6\",\"radialaxis\":{\"gridcolor\":\"white\",\"linecolor\":\"white\",\"ticks\":\"\"}},\"scene\":{\"xaxis\":{\"backgroundcolor\":\"#E5ECF6\",\"gridcolor\":\"white\",\"gridwidth\":2,\"linecolor\":\"white\",\"showbackground\":true,\"ticks\":\"\",\"zerolinecolor\":\"white\"},\"yaxis\":{\"backgroundcolor\":\"#E5ECF6\",\"gridcolor\":\"white\",\"gridwidth\":2,\"linecolor\":\"white\",\"showbackground\":true,\"ticks\":\"\",\"zerolinecolor\":\"white\"},\"zaxis\":{\"backgroundcolor\":\"#E5ECF6\",\"gridcolor\":\"white\",\"gridwidth\":2,\"linecolor\":\"white\",\"showbackground\":true,\"ticks\":\"\",\"zerolinecolor\":\"white\"}},\"shapedefaults\":{\"line\":{\"color\":\"#2a3f5f\"}},\"ternary\":{\"aaxis\":{\"gridcolor\":\"white\",\"linecolor\":\"white\",\"ticks\":\"\"},\"baxis\":{\"gridcolor\":\"white\",\"linecolor\":\"white\",\"ticks\":\"\"},\"bgcolor\":\"#E5ECF6\",\"caxis\":{\"gridcolor\":\"white\",\"linecolor\":\"white\",\"ticks\":\"\"}},\"title\":{\"x\":0.05},\"xaxis\":{\"automargin\":true,\"gridcolor\":\"white\",\"linecolor\":\"white\",\"ticks\":\"\",\"title\":{\"standoff\":15},\"zerolinecolor\":\"white\",\"zerolinewidth\":2},\"yaxis\":{\"automargin\":true,\"gridcolor\":\"white\",\"linecolor\":\"white\",\"ticks\":\"\",\"title\":{\"standoff\":15},\"zerolinecolor\":\"white\",\"zerolinewidth\":2}}},\"xaxis\":{\"anchor\":\"y\",\"domain\":[0.0,1.0],\"title\":{\"text\":\"Registros\"}},\"yaxis\":{\"anchor\":\"x\",\"domain\":[0.0,1.0],\"title\":{\"text\":\"Tempo (s)\"}},\"legend\":{\"title\":{\"text\":\"variable\"},\"tracegroupgap\":0},\"margin\":{\"t\":60}},                        {\"responsive\": true}                    ).then(function(){\n",
       "                            \n",
       "var gd = document.getElementById('3ac09da4-0bfb-4f11-8df0-8c24e9919fd1');\n",
       "var x = new MutationObserver(function (mutations, observer) {{\n",
       "        var display = window.getComputedStyle(gd).display;\n",
       "        if (!display || display === 'none') {{\n",
       "            console.log([gd, 'removed!']);\n",
       "            Plotly.purge(gd);\n",
       "            observer.disconnect();\n",
       "        }}\n",
       "}});\n",
       "\n",
       "// Listen for the removal of the full notebook cells\n",
       "var notebookContainer = gd.closest('#notebook-container');\n",
       "if (notebookContainer) {{\n",
       "    x.observe(notebookContainer, {childList: true});\n",
       "}}\n",
       "\n",
       "// Listen for the clearing of the current output cell\n",
       "var outputEl = gd.closest('.output');\n",
       "if (outputEl) {{\n",
       "    x.observe(outputEl, {childList: true});\n",
       "}}\n",
       "\n",
       "                        })                };                });            </script>        </div>"
      ]
     },
     "metadata": {},
     "output_type": "display_data"
    }
   ],
   "source": [
    "import plotly.express as px\n",
    "import pandas\n",
    "\n",
    "x = np.linspace(0, 1_000_000, len(manual_times))\n",
    "df = pandas.DataFrame({\"count\": x, \"manual\": manual_times, \"sql\": sql_times})\n",
    "\n",
    "fig = px.line(df, x=\"count\", y=[\"manual\", \"sql\"], labels={\"value\": \"Tempo (s)\", \"count\": \"Registros\"})\n",
    "\n",
    "fig.show()"
   ]
  },
  {
   "cell_type": "code",
   "execution_count": 29,
   "metadata": {},
   "outputs": [
    {
     "data": {
      "application/vnd.plotly.v1+json": {
       "config": {
        "plotlyServerURL": "https://plot.ly"
       },
       "data": [
        {
         "hovertemplate": "Registros=%{x}<br>Tempo (s)=%{y}<extra></extra>",
         "legendgroup": "",
         "line": {
          "color": "#636efa",
          "dash": "solid"
         },
         "marker": {
          "symbol": "circle"
         },
         "mode": "lines",
         "name": "",
         "orientation": "v",
         "showlegend": false,
         "type": "scatter",
         "x": [
          0,
          10000,
          20000,
          30000,
          40000,
          50000,
          60000,
          70000,
          80000,
          90000,
          100000,
          110000,
          120000,
          130000,
          140000,
          150000,
          160000,
          170000,
          180000,
          190000,
          200000,
          210000,
          220000,
          230000,
          240000,
          250000,
          260000,
          270000,
          280000,
          290000,
          300000,
          310000,
          320000,
          330000,
          340000,
          350000,
          360000,
          370000,
          380000,
          390000,
          400000,
          410000,
          420000,
          430000,
          440000,
          450000,
          460000,
          470000,
          480000,
          490000,
          500000,
          510000,
          520000,
          530000,
          540000,
          550000,
          560000,
          570000,
          580000,
          590000,
          600000,
          610000,
          620000,
          630000,
          640000,
          650000,
          660000,
          670000,
          680000,
          690000,
          700000,
          710000,
          720000,
          730000,
          740000,
          750000,
          760000,
          770000,
          780000,
          790000,
          800000,
          810000,
          820000,
          830000,
          840000,
          850000,
          860000,
          870000,
          880000,
          890000,
          900000,
          910000,
          920000,
          930000,
          940000,
          950000,
          960000,
          970000,
          980000,
          990000,
          1000000
         ],
         "xaxis": "x",
         "y": [
          0.0008487189188599586,
          0.0008914991049095988,
          0.0016043250216171145,
          0.0018838579999282956,
          0.0020960660185664892,
          0.0029698520665988326,
          0.0031722099520266056,
          0.004077316960319877,
          0.004401132930070162,
          0.004813393927179277,
          0.005497577018104494,
          0.006007430027239025,
          0.0066711739636957645,
          0.006943624000996351,
          0.007704580086283386,
          0.00804938399232924,
          0.008581110974773765,
          0.009020744008012116,
          0.00965033401735127,
          0.009687032084912062,
          0.01015606103464961,
          0.010340075008571148,
          0.010993318050168455,
          0.011660467949695885,
          0.011896189069375396,
          0.012434648000635207,
          0.013138465932570398,
          0.013511534896679223,
          0.01377584901638329,
          0.014223397942259908,
          0.014914993895217776,
          0.015288090915419161,
          0.01607356406748295,
          0.016519006923772395,
          0.016661725006997585,
          0.017286855028942227,
          0.017512978985905647,
          0.01856318605132401,
          0.019125337013974786,
          0.019070897018536925,
          0.019784571952186525,
          0.020466009969823062,
          0.02049965295009315,
          0.020998256048187613,
          0.021321110078133643,
          0.022022985038347542,
          0.022902432014234364,
          0.02343805495183915,
          0.023587864940054715,
          0.023575462051667273,
          0.023994646966457367,
          0.025161713012494147,
          0.02597084897570312,
          0.02554224501363933,
          0.02639512298628688,
          0.026712696999311447,
          0.027297995053231716,
          0.028316661017015576,
          0.02877026202622801,
          0.02901206398382783,
          0.02882976399268955,
          0.029476372990757227,
          0.03126106597483158,
          0.031164726009592414,
          0.03645866992883384,
          0.03692645602859557,
          0.03163827199023217,
          0.03231170296203345,
          0.032490648911334574,
          0.03306664701085538,
          0.03343367495108396,
          0.041701748967170715,
          0.03506284696049988,
          0.040576391969807446,
          0.03590757795609534,
          0.035925511037930846,
          0.03666835289914161,
          0.03879772103391588,
          0.04381986695807427,
          0.038447274011559784,
          0.039192692027427256,
          0.04003645200282335,
          0.03953898907639086,
          0.040080933016724885,
          0.041025022976100445,
          0.04152668209280819,
          0.04213778593111783,
          0.04305131593719125,
          0.041587617015466094,
          0.04274895996786654,
          0.04264374391641468,
          0.043089598999358714,
          0.04511962994001806,
          0.04396899603307247,
          0.04503199702594429,
          0.04766165104229003,
          0.04655764298513532,
          0.048478842014446855,
          0.04649866290856153,
          0.04770700598601252,
          0.04836346593219787
         ],
         "yaxis": "y"
        }
       ],
       "layout": {
        "legend": {
         "tracegroupgap": 0
        },
        "margin": {
         "t": 60
        },
        "template": {
         "data": {
          "bar": [
           {
            "error_x": {
             "color": "#2a3f5f"
            },
            "error_y": {
             "color": "#2a3f5f"
            },
            "marker": {
             "line": {
              "color": "#E5ECF6",
              "width": 0.5
             },
             "pattern": {
              "fillmode": "overlay",
              "size": 10,
              "solidity": 0.2
             }
            },
            "type": "bar"
           }
          ],
          "barpolar": [
           {
            "marker": {
             "line": {
              "color": "#E5ECF6",
              "width": 0.5
             },
             "pattern": {
              "fillmode": "overlay",
              "size": 10,
              "solidity": 0.2
             }
            },
            "type": "barpolar"
           }
          ],
          "carpet": [
           {
            "aaxis": {
             "endlinecolor": "#2a3f5f",
             "gridcolor": "white",
             "linecolor": "white",
             "minorgridcolor": "white",
             "startlinecolor": "#2a3f5f"
            },
            "baxis": {
             "endlinecolor": "#2a3f5f",
             "gridcolor": "white",
             "linecolor": "white",
             "minorgridcolor": "white",
             "startlinecolor": "#2a3f5f"
            },
            "type": "carpet"
           }
          ],
          "choropleth": [
           {
            "colorbar": {
             "outlinewidth": 0,
             "ticks": ""
            },
            "type": "choropleth"
           }
          ],
          "contour": [
           {
            "colorbar": {
             "outlinewidth": 0,
             "ticks": ""
            },
            "colorscale": [
             [
              0,
              "#0d0887"
             ],
             [
              0.1111111111111111,
              "#46039f"
             ],
             [
              0.2222222222222222,
              "#7201a8"
             ],
             [
              0.3333333333333333,
              "#9c179e"
             ],
             [
              0.4444444444444444,
              "#bd3786"
             ],
             [
              0.5555555555555556,
              "#d8576b"
             ],
             [
              0.6666666666666666,
              "#ed7953"
             ],
             [
              0.7777777777777778,
              "#fb9f3a"
             ],
             [
              0.8888888888888888,
              "#fdca26"
             ],
             [
              1,
              "#f0f921"
             ]
            ],
            "type": "contour"
           }
          ],
          "contourcarpet": [
           {
            "colorbar": {
             "outlinewidth": 0,
             "ticks": ""
            },
            "type": "contourcarpet"
           }
          ],
          "heatmap": [
           {
            "colorbar": {
             "outlinewidth": 0,
             "ticks": ""
            },
            "colorscale": [
             [
              0,
              "#0d0887"
             ],
             [
              0.1111111111111111,
              "#46039f"
             ],
             [
              0.2222222222222222,
              "#7201a8"
             ],
             [
              0.3333333333333333,
              "#9c179e"
             ],
             [
              0.4444444444444444,
              "#bd3786"
             ],
             [
              0.5555555555555556,
              "#d8576b"
             ],
             [
              0.6666666666666666,
              "#ed7953"
             ],
             [
              0.7777777777777778,
              "#fb9f3a"
             ],
             [
              0.8888888888888888,
              "#fdca26"
             ],
             [
              1,
              "#f0f921"
             ]
            ],
            "type": "heatmap"
           }
          ],
          "heatmapgl": [
           {
            "colorbar": {
             "outlinewidth": 0,
             "ticks": ""
            },
            "colorscale": [
             [
              0,
              "#0d0887"
             ],
             [
              0.1111111111111111,
              "#46039f"
             ],
             [
              0.2222222222222222,
              "#7201a8"
             ],
             [
              0.3333333333333333,
              "#9c179e"
             ],
             [
              0.4444444444444444,
              "#bd3786"
             ],
             [
              0.5555555555555556,
              "#d8576b"
             ],
             [
              0.6666666666666666,
              "#ed7953"
             ],
             [
              0.7777777777777778,
              "#fb9f3a"
             ],
             [
              0.8888888888888888,
              "#fdca26"
             ],
             [
              1,
              "#f0f921"
             ]
            ],
            "type": "heatmapgl"
           }
          ],
          "histogram": [
           {
            "marker": {
             "pattern": {
              "fillmode": "overlay",
              "size": 10,
              "solidity": 0.2
             }
            },
            "type": "histogram"
           }
          ],
          "histogram2d": [
           {
            "colorbar": {
             "outlinewidth": 0,
             "ticks": ""
            },
            "colorscale": [
             [
              0,
              "#0d0887"
             ],
             [
              0.1111111111111111,
              "#46039f"
             ],
             [
              0.2222222222222222,
              "#7201a8"
             ],
             [
              0.3333333333333333,
              "#9c179e"
             ],
             [
              0.4444444444444444,
              "#bd3786"
             ],
             [
              0.5555555555555556,
              "#d8576b"
             ],
             [
              0.6666666666666666,
              "#ed7953"
             ],
             [
              0.7777777777777778,
              "#fb9f3a"
             ],
             [
              0.8888888888888888,
              "#fdca26"
             ],
             [
              1,
              "#f0f921"
             ]
            ],
            "type": "histogram2d"
           }
          ],
          "histogram2dcontour": [
           {
            "colorbar": {
             "outlinewidth": 0,
             "ticks": ""
            },
            "colorscale": [
             [
              0,
              "#0d0887"
             ],
             [
              0.1111111111111111,
              "#46039f"
             ],
             [
              0.2222222222222222,
              "#7201a8"
             ],
             [
              0.3333333333333333,
              "#9c179e"
             ],
             [
              0.4444444444444444,
              "#bd3786"
             ],
             [
              0.5555555555555556,
              "#d8576b"
             ],
             [
              0.6666666666666666,
              "#ed7953"
             ],
             [
              0.7777777777777778,
              "#fb9f3a"
             ],
             [
              0.8888888888888888,
              "#fdca26"
             ],
             [
              1,
              "#f0f921"
             ]
            ],
            "type": "histogram2dcontour"
           }
          ],
          "mesh3d": [
           {
            "colorbar": {
             "outlinewidth": 0,
             "ticks": ""
            },
            "type": "mesh3d"
           }
          ],
          "parcoords": [
           {
            "line": {
             "colorbar": {
              "outlinewidth": 0,
              "ticks": ""
             }
            },
            "type": "parcoords"
           }
          ],
          "pie": [
           {
            "automargin": true,
            "type": "pie"
           }
          ],
          "scatter": [
           {
            "marker": {
             "colorbar": {
              "outlinewidth": 0,
              "ticks": ""
             }
            },
            "type": "scatter"
           }
          ],
          "scatter3d": [
           {
            "line": {
             "colorbar": {
              "outlinewidth": 0,
              "ticks": ""
             }
            },
            "marker": {
             "colorbar": {
              "outlinewidth": 0,
              "ticks": ""
             }
            },
            "type": "scatter3d"
           }
          ],
          "scattercarpet": [
           {
            "marker": {
             "colorbar": {
              "outlinewidth": 0,
              "ticks": ""
             }
            },
            "type": "scattercarpet"
           }
          ],
          "scattergeo": [
           {
            "marker": {
             "colorbar": {
              "outlinewidth": 0,
              "ticks": ""
             }
            },
            "type": "scattergeo"
           }
          ],
          "scattergl": [
           {
            "marker": {
             "colorbar": {
              "outlinewidth": 0,
              "ticks": ""
             }
            },
            "type": "scattergl"
           }
          ],
          "scattermapbox": [
           {
            "marker": {
             "colorbar": {
              "outlinewidth": 0,
              "ticks": ""
             }
            },
            "type": "scattermapbox"
           }
          ],
          "scatterpolar": [
           {
            "marker": {
             "colorbar": {
              "outlinewidth": 0,
              "ticks": ""
             }
            },
            "type": "scatterpolar"
           }
          ],
          "scatterpolargl": [
           {
            "marker": {
             "colorbar": {
              "outlinewidth": 0,
              "ticks": ""
             }
            },
            "type": "scatterpolargl"
           }
          ],
          "scatterternary": [
           {
            "marker": {
             "colorbar": {
              "outlinewidth": 0,
              "ticks": ""
             }
            },
            "type": "scatterternary"
           }
          ],
          "surface": [
           {
            "colorbar": {
             "outlinewidth": 0,
             "ticks": ""
            },
            "colorscale": [
             [
              0,
              "#0d0887"
             ],
             [
              0.1111111111111111,
              "#46039f"
             ],
             [
              0.2222222222222222,
              "#7201a8"
             ],
             [
              0.3333333333333333,
              "#9c179e"
             ],
             [
              0.4444444444444444,
              "#bd3786"
             ],
             [
              0.5555555555555556,
              "#d8576b"
             ],
             [
              0.6666666666666666,
              "#ed7953"
             ],
             [
              0.7777777777777778,
              "#fb9f3a"
             ],
             [
              0.8888888888888888,
              "#fdca26"
             ],
             [
              1,
              "#f0f921"
             ]
            ],
            "type": "surface"
           }
          ],
          "table": [
           {
            "cells": {
             "fill": {
              "color": "#EBF0F8"
             },
             "line": {
              "color": "white"
             }
            },
            "header": {
             "fill": {
              "color": "#C8D4E3"
             },
             "line": {
              "color": "white"
             }
            },
            "type": "table"
           }
          ]
         },
         "layout": {
          "annotationdefaults": {
           "arrowcolor": "#2a3f5f",
           "arrowhead": 0,
           "arrowwidth": 1
          },
          "autotypenumbers": "strict",
          "coloraxis": {
           "colorbar": {
            "outlinewidth": 0,
            "ticks": ""
           }
          },
          "colorscale": {
           "diverging": [
            [
             0,
             "#8e0152"
            ],
            [
             0.1,
             "#c51b7d"
            ],
            [
             0.2,
             "#de77ae"
            ],
            [
             0.3,
             "#f1b6da"
            ],
            [
             0.4,
             "#fde0ef"
            ],
            [
             0.5,
             "#f7f7f7"
            ],
            [
             0.6,
             "#e6f5d0"
            ],
            [
             0.7,
             "#b8e186"
            ],
            [
             0.8,
             "#7fbc41"
            ],
            [
             0.9,
             "#4d9221"
            ],
            [
             1,
             "#276419"
            ]
           ],
           "sequential": [
            [
             0,
             "#0d0887"
            ],
            [
             0.1111111111111111,
             "#46039f"
            ],
            [
             0.2222222222222222,
             "#7201a8"
            ],
            [
             0.3333333333333333,
             "#9c179e"
            ],
            [
             0.4444444444444444,
             "#bd3786"
            ],
            [
             0.5555555555555556,
             "#d8576b"
            ],
            [
             0.6666666666666666,
             "#ed7953"
            ],
            [
             0.7777777777777778,
             "#fb9f3a"
            ],
            [
             0.8888888888888888,
             "#fdca26"
            ],
            [
             1,
             "#f0f921"
            ]
           ],
           "sequentialminus": [
            [
             0,
             "#0d0887"
            ],
            [
             0.1111111111111111,
             "#46039f"
            ],
            [
             0.2222222222222222,
             "#7201a8"
            ],
            [
             0.3333333333333333,
             "#9c179e"
            ],
            [
             0.4444444444444444,
             "#bd3786"
            ],
            [
             0.5555555555555556,
             "#d8576b"
            ],
            [
             0.6666666666666666,
             "#ed7953"
            ],
            [
             0.7777777777777778,
             "#fb9f3a"
            ],
            [
             0.8888888888888888,
             "#fdca26"
            ],
            [
             1,
             "#f0f921"
            ]
           ]
          },
          "colorway": [
           "#636efa",
           "#EF553B",
           "#00cc96",
           "#ab63fa",
           "#FFA15A",
           "#19d3f3",
           "#FF6692",
           "#B6E880",
           "#FF97FF",
           "#FECB52"
          ],
          "font": {
           "color": "#2a3f5f"
          },
          "geo": {
           "bgcolor": "white",
           "lakecolor": "white",
           "landcolor": "#E5ECF6",
           "showlakes": true,
           "showland": true,
           "subunitcolor": "white"
          },
          "hoverlabel": {
           "align": "left"
          },
          "hovermode": "closest",
          "mapbox": {
           "style": "light"
          },
          "paper_bgcolor": "white",
          "plot_bgcolor": "#E5ECF6",
          "polar": {
           "angularaxis": {
            "gridcolor": "white",
            "linecolor": "white",
            "ticks": ""
           },
           "bgcolor": "#E5ECF6",
           "radialaxis": {
            "gridcolor": "white",
            "linecolor": "white",
            "ticks": ""
           }
          },
          "scene": {
           "xaxis": {
            "backgroundcolor": "#E5ECF6",
            "gridcolor": "white",
            "gridwidth": 2,
            "linecolor": "white",
            "showbackground": true,
            "ticks": "",
            "zerolinecolor": "white"
           },
           "yaxis": {
            "backgroundcolor": "#E5ECF6",
            "gridcolor": "white",
            "gridwidth": 2,
            "linecolor": "white",
            "showbackground": true,
            "ticks": "",
            "zerolinecolor": "white"
           },
           "zaxis": {
            "backgroundcolor": "#E5ECF6",
            "gridcolor": "white",
            "gridwidth": 2,
            "linecolor": "white",
            "showbackground": true,
            "ticks": "",
            "zerolinecolor": "white"
           }
          },
          "shapedefaults": {
           "line": {
            "color": "#2a3f5f"
           }
          },
          "ternary": {
           "aaxis": {
            "gridcolor": "white",
            "linecolor": "white",
            "ticks": ""
           },
           "baxis": {
            "gridcolor": "white",
            "linecolor": "white",
            "ticks": ""
           },
           "bgcolor": "#E5ECF6",
           "caxis": {
            "gridcolor": "white",
            "linecolor": "white",
            "ticks": ""
           }
          },
          "title": {
           "x": 0.05
          },
          "xaxis": {
           "automargin": true,
           "gridcolor": "white",
           "linecolor": "white",
           "ticks": "",
           "title": {
            "standoff": 15
           },
           "zerolinecolor": "white",
           "zerolinewidth": 2
          },
          "yaxis": {
           "automargin": true,
           "gridcolor": "white",
           "linecolor": "white",
           "ticks": "",
           "title": {
            "standoff": 15
           },
           "zerolinecolor": "white",
           "zerolinewidth": 2
          }
         }
        },
        "xaxis": {
         "anchor": "y",
         "domain": [
          0,
          1
         ],
         "title": {
          "text": "Registros"
         }
        },
        "yaxis": {
         "anchor": "x",
         "domain": [
          0,
          1
         ],
         "title": {
          "text": "Tempo (s)"
         }
        }
       }
      },
      "text/html": [
       "<div>                            <div id=\"69242881-2cac-4d04-bcc6-f34f80ee714a\" class=\"plotly-graph-div\" style=\"height:525px; width:100%;\"></div>            <script type=\"text/javascript\">                require([\"plotly\"], function(Plotly) {                    window.PLOTLYENV=window.PLOTLYENV || {};                                    if (document.getElementById(\"69242881-2cac-4d04-bcc6-f34f80ee714a\")) {                    Plotly.newPlot(                        \"69242881-2cac-4d04-bcc6-f34f80ee714a\",                        [{\"hovertemplate\":\"Registros=%{x}<br>Tempo (s)=%{y}<extra></extra>\",\"legendgroup\":\"\",\"line\":{\"color\":\"#636efa\",\"dash\":\"solid\"},\"marker\":{\"symbol\":\"circle\"},\"mode\":\"lines\",\"name\":\"\",\"orientation\":\"v\",\"showlegend\":false,\"x\":[0.0,10000.0,20000.0,30000.0,40000.0,50000.0,60000.0,70000.0,80000.0,90000.0,100000.0,110000.0,120000.0,130000.0,140000.0,150000.0,160000.0,170000.0,180000.0,190000.0,200000.0,210000.0,220000.0,230000.0,240000.0,250000.0,260000.0,270000.0,280000.0,290000.0,300000.0,310000.0,320000.0,330000.0,340000.0,350000.0,360000.0,370000.0,380000.0,390000.0,400000.0,410000.0,420000.0,430000.0,440000.0,450000.0,460000.0,470000.0,480000.0,490000.0,500000.0,510000.0,520000.0,530000.0,540000.0,550000.0,560000.0,570000.0,580000.0,590000.0,600000.0,610000.0,620000.0,630000.0,640000.0,650000.0,660000.0,670000.0,680000.0,690000.0,700000.0,710000.0,720000.0,730000.0,740000.0,750000.0,760000.0,770000.0,780000.0,790000.0,800000.0,810000.0,820000.0,830000.0,840000.0,850000.0,860000.0,870000.0,880000.0,890000.0,900000.0,910000.0,920000.0,930000.0,940000.0,950000.0,960000.0,970000.0,980000.0,990000.0,1000000.0],\"xaxis\":\"x\",\"y\":[0.0008487189188599586,0.0008914991049095988,0.0016043250216171145,0.0018838579999282956,0.0020960660185664892,0.0029698520665988326,0.0031722099520266056,0.004077316960319877,0.004401132930070162,0.004813393927179277,0.005497577018104494,0.006007430027239025,0.0066711739636957645,0.006943624000996351,0.007704580086283386,0.00804938399232924,0.008581110974773765,0.009020744008012116,0.00965033401735127,0.009687032084912062,0.01015606103464961,0.010340075008571148,0.010993318050168455,0.011660467949695885,0.011896189069375396,0.012434648000635207,0.013138465932570398,0.013511534896679223,0.01377584901638329,0.014223397942259908,0.014914993895217776,0.015288090915419161,0.01607356406748295,0.016519006923772395,0.016661725006997585,0.017286855028942227,0.017512978985905647,0.01856318605132401,0.019125337013974786,0.019070897018536925,0.019784571952186525,0.020466009969823062,0.02049965295009315,0.020998256048187613,0.021321110078133643,0.022022985038347542,0.022902432014234364,0.02343805495183915,0.023587864940054715,0.023575462051667273,0.023994646966457367,0.025161713012494147,0.02597084897570312,0.02554224501363933,0.02639512298628688,0.026712696999311447,0.027297995053231716,0.028316661017015576,0.02877026202622801,0.02901206398382783,0.02882976399268955,0.029476372990757227,0.03126106597483158,0.031164726009592414,0.03645866992883384,0.03692645602859557,0.03163827199023217,0.03231170296203345,0.032490648911334574,0.03306664701085538,0.03343367495108396,0.041701748967170715,0.03506284696049988,0.040576391969807446,0.03590757795609534,0.035925511037930846,0.03666835289914161,0.03879772103391588,0.04381986695807427,0.038447274011559784,0.039192692027427256,0.04003645200282335,0.03953898907639086,0.040080933016724885,0.041025022976100445,0.04152668209280819,0.04213778593111783,0.04305131593719125,0.041587617015466094,0.04274895996786654,0.04264374391641468,0.043089598999358714,0.04511962994001806,0.04396899603307247,0.04503199702594429,0.04766165104229003,0.04655764298513532,0.048478842014446855,0.04649866290856153,0.04770700598601252,0.04836346593219787],\"yaxis\":\"y\",\"type\":\"scatter\"}],                        {\"template\":{\"data\":{\"bar\":[{\"error_x\":{\"color\":\"#2a3f5f\"},\"error_y\":{\"color\":\"#2a3f5f\"},\"marker\":{\"line\":{\"color\":\"#E5ECF6\",\"width\":0.5},\"pattern\":{\"fillmode\":\"overlay\",\"size\":10,\"solidity\":0.2}},\"type\":\"bar\"}],\"barpolar\":[{\"marker\":{\"line\":{\"color\":\"#E5ECF6\",\"width\":0.5},\"pattern\":{\"fillmode\":\"overlay\",\"size\":10,\"solidity\":0.2}},\"type\":\"barpolar\"}],\"carpet\":[{\"aaxis\":{\"endlinecolor\":\"#2a3f5f\",\"gridcolor\":\"white\",\"linecolor\":\"white\",\"minorgridcolor\":\"white\",\"startlinecolor\":\"#2a3f5f\"},\"baxis\":{\"endlinecolor\":\"#2a3f5f\",\"gridcolor\":\"white\",\"linecolor\":\"white\",\"minorgridcolor\":\"white\",\"startlinecolor\":\"#2a3f5f\"},\"type\":\"carpet\"}],\"choropleth\":[{\"colorbar\":{\"outlinewidth\":0,\"ticks\":\"\"},\"type\":\"choropleth\"}],\"contour\":[{\"colorbar\":{\"outlinewidth\":0,\"ticks\":\"\"},\"colorscale\":[[0.0,\"#0d0887\"],[0.1111111111111111,\"#46039f\"],[0.2222222222222222,\"#7201a8\"],[0.3333333333333333,\"#9c179e\"],[0.4444444444444444,\"#bd3786\"],[0.5555555555555556,\"#d8576b\"],[0.6666666666666666,\"#ed7953\"],[0.7777777777777778,\"#fb9f3a\"],[0.8888888888888888,\"#fdca26\"],[1.0,\"#f0f921\"]],\"type\":\"contour\"}],\"contourcarpet\":[{\"colorbar\":{\"outlinewidth\":0,\"ticks\":\"\"},\"type\":\"contourcarpet\"}],\"heatmap\":[{\"colorbar\":{\"outlinewidth\":0,\"ticks\":\"\"},\"colorscale\":[[0.0,\"#0d0887\"],[0.1111111111111111,\"#46039f\"],[0.2222222222222222,\"#7201a8\"],[0.3333333333333333,\"#9c179e\"],[0.4444444444444444,\"#bd3786\"],[0.5555555555555556,\"#d8576b\"],[0.6666666666666666,\"#ed7953\"],[0.7777777777777778,\"#fb9f3a\"],[0.8888888888888888,\"#fdca26\"],[1.0,\"#f0f921\"]],\"type\":\"heatmap\"}],\"heatmapgl\":[{\"colorbar\":{\"outlinewidth\":0,\"ticks\":\"\"},\"colorscale\":[[0.0,\"#0d0887\"],[0.1111111111111111,\"#46039f\"],[0.2222222222222222,\"#7201a8\"],[0.3333333333333333,\"#9c179e\"],[0.4444444444444444,\"#bd3786\"],[0.5555555555555556,\"#d8576b\"],[0.6666666666666666,\"#ed7953\"],[0.7777777777777778,\"#fb9f3a\"],[0.8888888888888888,\"#fdca26\"],[1.0,\"#f0f921\"]],\"type\":\"heatmapgl\"}],\"histogram\":[{\"marker\":{\"pattern\":{\"fillmode\":\"overlay\",\"size\":10,\"solidity\":0.2}},\"type\":\"histogram\"}],\"histogram2d\":[{\"colorbar\":{\"outlinewidth\":0,\"ticks\":\"\"},\"colorscale\":[[0.0,\"#0d0887\"],[0.1111111111111111,\"#46039f\"],[0.2222222222222222,\"#7201a8\"],[0.3333333333333333,\"#9c179e\"],[0.4444444444444444,\"#bd3786\"],[0.5555555555555556,\"#d8576b\"],[0.6666666666666666,\"#ed7953\"],[0.7777777777777778,\"#fb9f3a\"],[0.8888888888888888,\"#fdca26\"],[1.0,\"#f0f921\"]],\"type\":\"histogram2d\"}],\"histogram2dcontour\":[{\"colorbar\":{\"outlinewidth\":0,\"ticks\":\"\"},\"colorscale\":[[0.0,\"#0d0887\"],[0.1111111111111111,\"#46039f\"],[0.2222222222222222,\"#7201a8\"],[0.3333333333333333,\"#9c179e\"],[0.4444444444444444,\"#bd3786\"],[0.5555555555555556,\"#d8576b\"],[0.6666666666666666,\"#ed7953\"],[0.7777777777777778,\"#fb9f3a\"],[0.8888888888888888,\"#fdca26\"],[1.0,\"#f0f921\"]],\"type\":\"histogram2dcontour\"}],\"mesh3d\":[{\"colorbar\":{\"outlinewidth\":0,\"ticks\":\"\"},\"type\":\"mesh3d\"}],\"parcoords\":[{\"line\":{\"colorbar\":{\"outlinewidth\":0,\"ticks\":\"\"}},\"type\":\"parcoords\"}],\"pie\":[{\"automargin\":true,\"type\":\"pie\"}],\"scatter\":[{\"marker\":{\"colorbar\":{\"outlinewidth\":0,\"ticks\":\"\"}},\"type\":\"scatter\"}],\"scatter3d\":[{\"line\":{\"colorbar\":{\"outlinewidth\":0,\"ticks\":\"\"}},\"marker\":{\"colorbar\":{\"outlinewidth\":0,\"ticks\":\"\"}},\"type\":\"scatter3d\"}],\"scattercarpet\":[{\"marker\":{\"colorbar\":{\"outlinewidth\":0,\"ticks\":\"\"}},\"type\":\"scattercarpet\"}],\"scattergeo\":[{\"marker\":{\"colorbar\":{\"outlinewidth\":0,\"ticks\":\"\"}},\"type\":\"scattergeo\"}],\"scattergl\":[{\"marker\":{\"colorbar\":{\"outlinewidth\":0,\"ticks\":\"\"}},\"type\":\"scattergl\"}],\"scattermapbox\":[{\"marker\":{\"colorbar\":{\"outlinewidth\":0,\"ticks\":\"\"}},\"type\":\"scattermapbox\"}],\"scatterpolar\":[{\"marker\":{\"colorbar\":{\"outlinewidth\":0,\"ticks\":\"\"}},\"type\":\"scatterpolar\"}],\"scatterpolargl\":[{\"marker\":{\"colorbar\":{\"outlinewidth\":0,\"ticks\":\"\"}},\"type\":\"scatterpolargl\"}],\"scatterternary\":[{\"marker\":{\"colorbar\":{\"outlinewidth\":0,\"ticks\":\"\"}},\"type\":\"scatterternary\"}],\"surface\":[{\"colorbar\":{\"outlinewidth\":0,\"ticks\":\"\"},\"colorscale\":[[0.0,\"#0d0887\"],[0.1111111111111111,\"#46039f\"],[0.2222222222222222,\"#7201a8\"],[0.3333333333333333,\"#9c179e\"],[0.4444444444444444,\"#bd3786\"],[0.5555555555555556,\"#d8576b\"],[0.6666666666666666,\"#ed7953\"],[0.7777777777777778,\"#fb9f3a\"],[0.8888888888888888,\"#fdca26\"],[1.0,\"#f0f921\"]],\"type\":\"surface\"}],\"table\":[{\"cells\":{\"fill\":{\"color\":\"#EBF0F8\"},\"line\":{\"color\":\"white\"}},\"header\":{\"fill\":{\"color\":\"#C8D4E3\"},\"line\":{\"color\":\"white\"}},\"type\":\"table\"}]},\"layout\":{\"annotationdefaults\":{\"arrowcolor\":\"#2a3f5f\",\"arrowhead\":0,\"arrowwidth\":1},\"autotypenumbers\":\"strict\",\"coloraxis\":{\"colorbar\":{\"outlinewidth\":0,\"ticks\":\"\"}},\"colorscale\":{\"diverging\":[[0,\"#8e0152\"],[0.1,\"#c51b7d\"],[0.2,\"#de77ae\"],[0.3,\"#f1b6da\"],[0.4,\"#fde0ef\"],[0.5,\"#f7f7f7\"],[0.6,\"#e6f5d0\"],[0.7,\"#b8e186\"],[0.8,\"#7fbc41\"],[0.9,\"#4d9221\"],[1,\"#276419\"]],\"sequential\":[[0.0,\"#0d0887\"],[0.1111111111111111,\"#46039f\"],[0.2222222222222222,\"#7201a8\"],[0.3333333333333333,\"#9c179e\"],[0.4444444444444444,\"#bd3786\"],[0.5555555555555556,\"#d8576b\"],[0.6666666666666666,\"#ed7953\"],[0.7777777777777778,\"#fb9f3a\"],[0.8888888888888888,\"#fdca26\"],[1.0,\"#f0f921\"]],\"sequentialminus\":[[0.0,\"#0d0887\"],[0.1111111111111111,\"#46039f\"],[0.2222222222222222,\"#7201a8\"],[0.3333333333333333,\"#9c179e\"],[0.4444444444444444,\"#bd3786\"],[0.5555555555555556,\"#d8576b\"],[0.6666666666666666,\"#ed7953\"],[0.7777777777777778,\"#fb9f3a\"],[0.8888888888888888,\"#fdca26\"],[1.0,\"#f0f921\"]]},\"colorway\":[\"#636efa\",\"#EF553B\",\"#00cc96\",\"#ab63fa\",\"#FFA15A\",\"#19d3f3\",\"#FF6692\",\"#B6E880\",\"#FF97FF\",\"#FECB52\"],\"font\":{\"color\":\"#2a3f5f\"},\"geo\":{\"bgcolor\":\"white\",\"lakecolor\":\"white\",\"landcolor\":\"#E5ECF6\",\"showlakes\":true,\"showland\":true,\"subunitcolor\":\"white\"},\"hoverlabel\":{\"align\":\"left\"},\"hovermode\":\"closest\",\"mapbox\":{\"style\":\"light\"},\"paper_bgcolor\":\"white\",\"plot_bgcolor\":\"#E5ECF6\",\"polar\":{\"angularaxis\":{\"gridcolor\":\"white\",\"linecolor\":\"white\",\"ticks\":\"\"},\"bgcolor\":\"#E5ECF6\",\"radialaxis\":{\"gridcolor\":\"white\",\"linecolor\":\"white\",\"ticks\":\"\"}},\"scene\":{\"xaxis\":{\"backgroundcolor\":\"#E5ECF6\",\"gridcolor\":\"white\",\"gridwidth\":2,\"linecolor\":\"white\",\"showbackground\":true,\"ticks\":\"\",\"zerolinecolor\":\"white\"},\"yaxis\":{\"backgroundcolor\":\"#E5ECF6\",\"gridcolor\":\"white\",\"gridwidth\":2,\"linecolor\":\"white\",\"showbackground\":true,\"ticks\":\"\",\"zerolinecolor\":\"white\"},\"zaxis\":{\"backgroundcolor\":\"#E5ECF6\",\"gridcolor\":\"white\",\"gridwidth\":2,\"linecolor\":\"white\",\"showbackground\":true,\"ticks\":\"\",\"zerolinecolor\":\"white\"}},\"shapedefaults\":{\"line\":{\"color\":\"#2a3f5f\"}},\"ternary\":{\"aaxis\":{\"gridcolor\":\"white\",\"linecolor\":\"white\",\"ticks\":\"\"},\"baxis\":{\"gridcolor\":\"white\",\"linecolor\":\"white\",\"ticks\":\"\"},\"bgcolor\":\"#E5ECF6\",\"caxis\":{\"gridcolor\":\"white\",\"linecolor\":\"white\",\"ticks\":\"\"}},\"title\":{\"x\":0.05},\"xaxis\":{\"automargin\":true,\"gridcolor\":\"white\",\"linecolor\":\"white\",\"ticks\":\"\",\"title\":{\"standoff\":15},\"zerolinecolor\":\"white\",\"zerolinewidth\":2},\"yaxis\":{\"automargin\":true,\"gridcolor\":\"white\",\"linecolor\":\"white\",\"ticks\":\"\",\"title\":{\"standoff\":15},\"zerolinecolor\":\"white\",\"zerolinewidth\":2}}},\"xaxis\":{\"anchor\":\"y\",\"domain\":[0.0,1.0],\"title\":{\"text\":\"Registros\"}},\"yaxis\":{\"anchor\":\"x\",\"domain\":[0.0,1.0],\"title\":{\"text\":\"Tempo (s)\"}},\"legend\":{\"tracegroupgap\":0},\"margin\":{\"t\":60}},                        {\"responsive\": true}                    ).then(function(){\n",
       "                            \n",
       "var gd = document.getElementById('69242881-2cac-4d04-bcc6-f34f80ee714a');\n",
       "var x = new MutationObserver(function (mutations, observer) {{\n",
       "        var display = window.getComputedStyle(gd).display;\n",
       "        if (!display || display === 'none') {{\n",
       "            console.log([gd, 'removed!']);\n",
       "            Plotly.purge(gd);\n",
       "            observer.disconnect();\n",
       "        }}\n",
       "}});\n",
       "\n",
       "// Listen for the removal of the full notebook cells\n",
       "var notebookContainer = gd.closest('#notebook-container');\n",
       "if (notebookContainer) {{\n",
       "    x.observe(notebookContainer, {childList: true});\n",
       "}}\n",
       "\n",
       "// Listen for the clearing of the current output cell\n",
       "var outputEl = gd.closest('.output');\n",
       "if (outputEl) {{\n",
       "    x.observe(outputEl, {childList: true});\n",
       "}}\n",
       "\n",
       "                        })                };                });            </script>        </div>"
      ]
     },
     "metadata": {},
     "output_type": "display_data"
    }
   ],
   "source": [
    "fig = px.line(df, x=\"count\", y=\"sql\", labels={\"sql\": \"Tempo (s)\", \"count\": \"Registros\"})\n",
    "\n",
    "fig.show()"
   ]
  },
  {
   "cell_type": "code",
   "execution_count": 3,
   "metadata": {},
   "outputs": [
    {
     "data": {
      "image/png": "[encoded data removed]",
      "text/plain": [
       "<Figure size 432x288 with 1 Axes>"
      ]
     },
     "metadata": {
      "needs_background": "light"
     },
     "output_type": "display_data"
    }
   ],
   "source": [
    "import matplotlib.pyplot as plt\n",
    "import numpy as np\n",
    "\n",
    "x = np.linspace(0, 1_000_000, len(manual_times))\n",
    "plt.plot(x, manual_times)\n",
    "plt.plot(x, sql_times)\n",
    "plt.show()\n"
   ]
  },
  {
   "cell_type": "code",
   "execution_count": 4,
   "metadata": {},
   "outputs": [
    {
     "data": {
      "image/png": "[encoded data removed]",
      "text/plain": [
       "<Figure size 432x288 with 1 Axes>"
      ]
     },
     "metadata": {
      "needs_background": "light"
     },
     "output_type": "display_data"
    }
   ],
   "source": [
    "x = np.linspace(0, 1_000_000, len(manual_times))\n",
    "plt.plot(x, sql_times)\n",
    "plt.show()"
   ]
  },
  {
   "cell_type": "code",
   "execution_count": 158,
   "metadata": {},
   "outputs": [
    {
     "data": {
      "text/plain": [
       "[0.0011446740245446563,\n",
       " 0.023261455004103482,\n",
       " 0.04417526989709586,\n",
       " 0.06293883197940886,\n",
       " 0.08411101391538978,\n",
       " 0.10454227798618376,\n",
       " 0.12544564704876393,\n",
       " 0.1448378839995712,\n",
       " 0.17071178008336574,\n",
       " 0.18636171100661159,\n",
       " 0.20751481596380472,\n",
       " 0.227586998953484,\n",
       " 0.2476126530673355,\n",
       " 0.2694089930737391,\n",
       " 0.2892277599312365,\n",
       " 0.31002912600524724,\n",
       " 0.3294056669110432,\n",
       " 0.35060679994057864,\n",
       " 0.3772959540365264,\n",
       " 0.39157634996809065,\n",
       " 0.41449855896644294,\n",
       " 0.436679519014433,\n",
       " 0.4529636870138347,\n",
       " 0.4727491500088945,\n",
       " 0.4924185280688107,\n",
       " 0.5128864999860525,\n",
       " 0.5345034450292587,\n",
       " 0.5546927249524742,\n",
       " 0.5751885790377855,\n",
       " 0.601245790021494,\n",
       " 0.6183334320085123,\n",
       " 0.6394769999897107,\n",
       " 0.6589573639212176,\n",
       " 0.6761968299979344,\n",
       " 0.698101763962768,\n",
       " 0.7175586039666086,\n",
       " 0.7417036209953949,\n",
       " 0.761843721033074,\n",
       " 0.7862873499980196,\n",
       " 0.8028113949112594,\n",
       " 0.8256828299490735,\n",
       " 0.8465724220732227,\n",
       " 0.8675733309937641,\n",
       " 0.8880705899791792,\n",
       " 0.9086752879666165,\n",
       " 0.9221586609492078,\n",
       " 0.949352590017952,\n",
       " 0.96598792495206,\n",
       " 0.9970105839893222,\n",
       " 1.008542240015231,\n",
       " 1.0452926179859787,\n",
       " 1.047805103007704,\n",
       " 1.0721316420240328,\n",
       " 1.0968021540902555,\n",
       " 1.1069154549622908,\n",
       " 1.1338693839497864,\n",
       " 1.1534388239961118,\n",
       " 1.167676919954829,\n",
       " 1.2042255169944838,\n",
       " 1.2195651259971783,\n",
       " 1.2301308539463207,\n",
       " 1.2633231069194153,\n",
       " 1.2908132900483906,\n",
       " 1.3054023440927267,\n",
       " 1.325302520999685,\n",
       " 1.3352075830334798,\n",
       " 1.386368999024853,\n",
       " 1.363631044048816,\n",
       " 1.3947860900079831,\n",
       " 1.416596969938837,\n",
       " 1.449929444002919,\n",
       " 1.4602967200335115,\n",
       " 1.4888659439748153,\n",
       " 1.4906209219479933,\n",
       " 1.514678384992294,\n",
       " 1.539627602091059,\n",
       " 1.5733267129398882,\n",
       " 1.602903785998933,\n",
       " 1.6307065238943323,\n",
       " 1.6381604350171983,\n",
       " 1.6916865989333019,\n",
       " 1.6955763330915943,\n",
       " 1.6996494319755584,\n",
       " 1.7322062749881297,\n",
       " 1.7433621960226446,\n",
       " 1.7496354359900579,\n",
       " 1.7599663030123338,\n",
       " 1.7854563919827342,\n",
       " 1.8076615879544988,\n",
       " 1.832962931948714,\n",
       " 1.8461135309189558,\n",
       " 1.859546598047018,\n",
       " 1.8712856119964272,\n",
       " 1.8957894541090354,\n",
       " 1.9205294970888644,\n",
       " 1.9541653810301796,\n",
       " 1.9781960850814357,\n",
       " 2.0008300240151584,\n",
       " 2.0114719339180738,\n",
       " 2.029447849956341,\n",
       " 2.0885201409691945]"
      ]
     },
     "execution_count": 158,
     "metadata": {},
     "output_type": "execute_result"
    }
   ],
   "source": [
    "manual_times"
   ]
  },
  {
   "cell_type": "code",
   "execution_count": 159,
   "metadata": {},
   "outputs": [
    {
     "data": {
      "text/plain": [
       "[0.0008487189188599586,\n",
       " 0.0008914991049095988,\n",
       " 0.0016043250216171145,\n",
       " 0.0018838579999282956,\n",
       " 0.0020960660185664892,\n",
       " 0.0029698520665988326,\n",
       " 0.0031722099520266056,\n",
       " 0.004077316960319877,\n",
       " 0.004401132930070162,\n",
       " 0.004813393927179277,\n",
       " 0.005497577018104494,\n",
       " 0.006007430027239025,\n",
       " 0.0066711739636957645,\n",
       " 0.006943624000996351,\n",
       " 0.007704580086283386,\n",
       " 0.00804938399232924,\n",
       " 0.008581110974773765,\n",
       " 0.009020744008012116,\n",
       " 0.00965033401735127,\n",
       " 0.009687032084912062,\n",
       " 0.01015606103464961,\n",
       " 0.010340075008571148,\n",
       " 0.010993318050168455,\n",
       " 0.011660467949695885,\n",
       " 0.011896189069375396,\n",
       " 0.012434648000635207,\n",
       " 0.013138465932570398,\n",
       " 0.013511534896679223,\n",
       " 0.01377584901638329,\n",
       " 0.014223397942259908,\n",
       " 0.014914993895217776,\n",
       " 0.015288090915419161,\n",
       " 0.01607356406748295,\n",
       " 0.016519006923772395,\n",
       " 0.016661725006997585,\n",
       " 0.017286855028942227,\n",
       " 0.017512978985905647,\n",
       " 0.01856318605132401,\n",
       " 0.019125337013974786,\n",
       " 0.019070897018536925,\n",
       " 0.019784571952186525,\n",
       " 0.020466009969823062,\n",
       " 0.02049965295009315,\n",
       " 0.020998256048187613,\n",
       " 0.021321110078133643,\n",
       " 0.022022985038347542,\n",
       " 0.022902432014234364,\n",
       " 0.02343805495183915,\n",
       " 0.023587864940054715,\n",
       " 0.023575462051667273,\n",
       " 0.023994646966457367,\n",
       " 0.025161713012494147,\n",
       " 0.02597084897570312,\n",
       " 0.02554224501363933,\n",
       " 0.02639512298628688,\n",
       " 0.026712696999311447,\n",
       " 0.027297995053231716,\n",
       " 0.028316661017015576,\n",
       " 0.02877026202622801,\n",
       " 0.02901206398382783,\n",
       " 0.02882976399268955,\n",
       " 0.029476372990757227,\n",
       " 0.03126106597483158,\n",
       " 0.031164726009592414,\n",
       " 0.03645866992883384,\n",
       " 0.03692645602859557,\n",
       " 0.03163827199023217,\n",
       " 0.03231170296203345,\n",
       " 0.032490648911334574,\n",
       " 0.03306664701085538,\n",
       " 0.03343367495108396,\n",
       " 0.041701748967170715,\n",
       " 0.03506284696049988,\n",
       " 0.040576391969807446,\n",
       " 0.03590757795609534,\n",
       " 0.035925511037930846,\n",
       " 0.03666835289914161,\n",
       " 0.03879772103391588,\n",
       " 0.04381986695807427,\n",
       " 0.038447274011559784,\n",
       " 0.039192692027427256,\n",
       " 0.04003645200282335,\n",
       " 0.03953898907639086,\n",
       " 0.040080933016724885,\n",
       " 0.041025022976100445,\n",
       " 0.04152668209280819,\n",
       " 0.04213778593111783,\n",
       " 0.04305131593719125,\n",
       " 0.041587617015466094,\n",
       " 0.04274895996786654,\n",
       " 0.04264374391641468,\n",
       " 0.043089598999358714,\n",
       " 0.04511962994001806,\n",
       " 0.04396899603307247,\n",
       " 0.04503199702594429,\n",
       " 0.04766165104229003,\n",
       " 0.04655764298513532,\n",
       " 0.048478842014446855,\n",
       " 0.04649866290856153,\n",
       " 0.04770700598601252,\n",
       " 0.04836346593219787]"
      ]
     },
     "execution_count": 159,
     "metadata": {},
     "output_type": "execute_result"
    }
   ],
   "source": [
    "sql_times"
   ]
  },
  {
   "cell_type": "code",
   "execution_count": 154,
   "metadata": {},
   "outputs": [
    {
     "data": {
      "text/plain": [
       "0.00026510430533172827"
      ]
     },
     "execution_count": 154,
     "metadata": {},
     "output_type": "execute_result"
    }
   ],
   "source": [
    "res.average"
   ]
  },
  {
   "cell_type": "code",
   "execution_count": null,
   "metadata": {},
   "outputs": [],
   "source": []
  }
 ],
 "metadata": {
  "kernelspec": {
   "display_name": "Python 3",
   "language": "python",
   "name": "python3"
  },
  "language_info": {
   "codemirror_mode": {
    "name": "ipython",
    "version": 3
   },
   "file_extension": ".py",
   "mimetype": "text/x-python",
   "name": "python",
   "nbconvert_exporter": "python",
   "pygments_lexer": "ipython3",
   "version": "3.8.12"
  }
 },
 "nbformat": 4,
 "nbformat_minor": 4
}

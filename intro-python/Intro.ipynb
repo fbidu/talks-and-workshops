{
 "cells": [
  {
   "cell_type": "markdown",
   "metadata": {},
   "source": [
    "Um overview:"
   ]
  },
  {
   "cell_type": "code",
   "execution_count": 7,
   "metadata": {
    "scrolled": true
   },
   "outputs": [
    {
     "name": "stdout",
     "output_type": "stream",
     "text": [
      "TUPÃ\n",
      "Olá, Tupã\n",
      "CAMPINAS\n"
     ]
    }
   ],
   "source": [
    "nomes = [\"Tupã\", \"Campinas\"]\n",
    "\n",
    "for nome in nomes:\n",
    "    print(nome.upper())\n",
    "\n",
    "    if nome == \"Tupã\":\n",
    "        print(f\"Olá, {nome}\")"
   ]
  },
  {
   "cell_type": "markdown",
   "metadata": {},
   "source": [
    "## Algumas Estruturas"
   ]
  },
  {
   "cell_type": "markdown",
   "metadata": {},
   "source": [
    "Em Python, além dos tipos básicos comuns como inteiros e strings, podemos usar por padrão estruturas mais complexas como listas e dicionários:"
   ]
  },
  {
   "cell_type": "code",
   "execution_count": 1,
   "metadata": {},
   "outputs": [],
   "source": [
    "anos = [2012, 2013, 2014, 2015, 2016]"
   ]
  },
  {
   "cell_type": "code",
   "execution_count": 2,
   "metadata": {},
   "outputs": [
    {
     "name": "stdout",
     "output_type": "stream",
     "text": [
      "[2012, 2013, 2014, 2015, 2016]\n"
     ]
    }
   ],
   "source": [
    "print(anos)"
   ]
  },
  {
   "cell_type": "markdown",
   "metadata": {},
   "source": [
    "Usando uma sintaxe própria conhecida como _list comprehension_, podemos facilmente criar uma lista com base em outra"
   ]
  },
  {
   "cell_type": "code",
   "execution_count": 3,
   "metadata": {},
   "outputs": [],
   "source": [
    "anos_dobrados = []"
   ]
  },
  {
   "cell_type": "markdown",
   "metadata": {},
   "source": [
    "E filtrar uma lista:"
   ]
  },
  {
   "cell_type": "code",
   "execution_count": 4,
   "metadata": {},
   "outputs": [],
   "source": [
    "anos_pares = []"
   ]
  },
  {
   "cell_type": "markdown",
   "metadata": {},
   "source": [
    "Dicionários, diferente de listas, nos permitem armazenar chaves associadas à valores. Em outras linguagens eles podem ser conhecidos como \"maps\" ou \"hash maps\":"
   ]
  },
  {
   "cell_type": "code",
   "execution_count": 6,
   "metadata": {},
   "outputs": [],
   "source": [
    "info = {\n",
    "    \"nome\": \"bidu\",\n",
    "    \"idade\": 28,\n",
    "    \"cidade\": \"campinas\",\n",
    "    \"usa_android\": True,\n",
    "    \"livros_na_mesa\": [\"Refatoração\", \"Leaving Las Vegas\", \"Python Fluente\"]\n",
    "}"
   ]
  },
  {
   "cell_type": "markdown",
   "metadata": {},
   "source": [
    "Assim como no primeiro exemplo, podemos fazer uma iteração sobre um dicionário:"
   ]
  },
  {
   "cell_type": "code",
   "execution_count": 8,
   "metadata": {},
   "outputs": [
    {
     "name": "stdout",
     "output_type": "stream",
     "text": [
      "nome\n",
      "idade\n",
      "cidade\n",
      "usa_android\n",
      "livros_na_mesa\n"
     ]
    }
   ],
   "source": [
    "for key in info:\n",
    "    print(key)"
   ]
  },
  {
   "cell_type": "markdown",
   "metadata": {},
   "source": [
    "Além da iteração padrão, por chaves, podemos fazer uma iteração por chaves e valores:"
   ]
  },
  {
   "cell_type": "code",
   "execution_count": 9,
   "metadata": {},
   "outputs": [
    {
     "name": "stdout",
     "output_type": "stream",
     "text": [
      "nome bidu\n",
      "idade 28\n",
      "cidade campinas\n",
      "usa_android True\n",
      "livros_na_mesa ['Refatoração', 'Leaving Las Vegas', 'Python Fluente']\n"
     ]
    }
   ],
   "source": [
    "for key, value in info.items():\n",
    "    print(key, value)"
   ]
  },
  {
   "cell_type": "markdown",
   "metadata": {},
   "source": [
    "## Classes "
   ]
  }
 ],
 "metadata": {
  "kernelspec": {
   "display_name": "Python 3",
   "language": "python",
   "name": "python3"
  },
  "language_info": {
   "codemirror_mode": {
    "name": "ipython",
    "version": 3
   },
   "file_extension": ".py",
   "mimetype": "text/x-python",
   "name": "python",
   "nbconvert_exporter": "python",
   "pygments_lexer": "ipython3",
   "version": "3.8.5"
  }
 },
 "nbformat": 4,
 "nbformat_minor": 4
}

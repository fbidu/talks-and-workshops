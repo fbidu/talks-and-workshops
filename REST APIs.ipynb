{
 "cells": [
  {
   "cell_type": "markdown",
   "metadata": {},
   "source": [
    "## Web APIs"
   ]
  },
  {
   "cell_type": "markdown",
   "metadata": {},
   "source": [
    "Utilizando uma API web para ler dados de um CEP"
   ]
  },
  {
   "cell_type": "code",
   "execution_count": 1,
   "metadata": {
    "collapsed": false,
    "scrolled": true
   },
   "outputs": [
    {
     "name": "stdout",
     "output_type": "stream",
     "text": [
      "{\n",
      "  \"cep\": \"88050-001\",\n",
      "  \"logradouro\": \"Rodovia José Carlos Daux\",\n",
      "  \"complemento\": \"de 9000/9001 a 11999/12000\",\n",
      "  \"bairro\": \"Santo Antônio de Lisboa\",\n",
      "  \"localidade\": \"Florianópolis\",\n",
      "  \"uf\": \"SC\",\n",
      "  \"unidade\": \"\",\n",
      "  \"ibge\": \"4205407\",\n",
      "  \"gia\": \"\"\n",
      "}\n"
     ]
    }
   ],
   "source": [
    "import requests\n",
    "cep = '88050001'\n",
    "url = 'https://viacep.com.br/ws/{cep}/json/'\n",
    "url = url.format(cep=cep)\n",
    "r = requests.get(url)\n",
    "print(r.text)"
   ]
  },
  {
   "cell_type": "markdown",
   "metadata": {},
   "source": [
    "## HTTP"
   ]
  },
  {
   "cell_type": "markdown",
   "metadata": {},
   "source": [
    "Podemos brincar um pouco com o protocolo HTTP usando o site [httpbin](http://httpbin.org/) "
   ]
  },
  {
   "cell_type": "markdown",
   "metadata": {},
   "source": [
    "### Fazendo um GET e inspecionando os cabeçalhos de resposta básicos"
   ]
  },
  {
   "cell_type": "code",
   "execution_count": 2,
   "metadata": {
    "collapsed": false
   },
   "outputs": [
    {
     "data": {
      "text/plain": [
       "200"
      ]
     },
     "execution_count": 2,
     "metadata": {},
     "output_type": "execute_result"
    }
   ],
   "source": [
    "# Fazendo um GET no site\n",
    "resposta = requests.get('http://httpbin.org/')\n",
    "\n",
    "# Verificando o código HTTP da resposta\n",
    "resposta.status_code"
   ]
  },
  {
   "cell_type": "code",
   "execution_count": 3,
   "metadata": {
    "collapsed": false
   },
   "outputs": [
    {
     "name": "stdout",
     "output_type": "stream",
     "text": [
      "{'Connection': 'keep-alive', 'Date': 'Mon, 10 Oct 2016 20:33:08 GMT', 'Access-Control-Allow-Credentials': 'true', 'Access-Control-Allow-Origin': '*', 'Server': 'nginx', 'Content-Length': '12150', 'Content-Type': 'text/html; charset=utf-8'}\n"
     ]
    }
   ],
   "source": [
    "# Imprimindo os cabeçalhos da resposta\n",
    "print(resposta.headers)"
   ]
  },
  {
   "cell_type": "code",
   "execution_count": null,
   "metadata": {
    "collapsed": false
   },
   "outputs": [],
   "source": [
    "# Qual o tipo do conteúdo da resposta?\n",
    "print(resposta.headers['Content-Type'])"
   ]
  },
  {
   "cell_type": "code",
   "execution_count": null,
   "metadata": {
    "collapsed": false
   },
   "outputs": [],
   "source": [
    "# Qual o tamanho da resposta?\n",
    "print(resposta.headers['Content-Length'])"
   ]
  },
  {
   "cell_type": "code",
   "execution_count": null,
   "metadata": {
    "collapsed": false
   },
   "outputs": [],
   "source": [
    "# Fazendo um GET em https://api.ipify.org/\n",
    "meu_ip = requests.get('https://api.ipify.org/')\n",
    "\n",
    "# Imprimindo o conteúdo da resposta\n",
    "print(meu_ip.text)"
   ]
  },
  {
   "cell_type": "markdown",
   "metadata": {},
   "source": [
    "### Negociando o tipo do conteúdo usando cabeçalhos de pedido"
   ]
  },
  {
   "cell_type": "code",
   "execution_count": null,
   "metadata": {
    "collapsed": false
   },
   "outputs": [],
   "source": [
    "# Pedindo por uma imagem, sem especificar nada\n",
    "imagem = requests.get('http://httpbin.org/image')\n",
    "\n",
    "# Qual o tipo da imagem retornado?\n",
    "print(imagem.headers['Content-Type'])"
   ]
  },
  {
   "cell_type": "code",
   "execution_count": null,
   "metadata": {
    "collapsed": false
   },
   "outputs": [],
   "source": [
    "# application/json não é um tipo de imagem! O que aconteceu?\n",
    "print(imagem.text)"
   ]
  },
  {
   "cell_type": "code",
   "execution_count": null,
   "metadata": {
    "collapsed": false
   },
   "outputs": [],
   "source": [
    "# Qual foi o código de resposta?\n",
    "print(imagem.status_code)"
   ]
  },
  {
   "cell_type": "code",
   "execution_count": null,
   "metadata": {
    "collapsed": false
   },
   "outputs": [],
   "source": [
    "# Precisamos inserir um cabeçalho, especificando que queremos uma imagem\n",
    "cabeçalho = {'accept': 'image/webp'}  # Cabeçalho que pede pelo tipo PNG\n",
    "imagem = requests.get('http://httpbin.org/image', headers=cabeçalho)\n",
    "\n",
    "# Qual o tipo agora?\n",
    "print(imagem.headers['Content-Type'])"
   ]
  },
  {
   "cell_type": "code",
   "execution_count": null,
   "metadata": {
    "collapsed": false
   },
   "outputs": [],
   "source": [
    "# Qual o código da resposta?\n",
    "print(imagem.status_code)"
   ]
  },
  {
   "cell_type": "code",
   "execution_count": null,
   "metadata": {
    "collapsed": false
   },
   "outputs": [],
   "source": [
    "# Qual o tamanho da resposta?\n",
    "print(imagem.headers['Content-Length'])"
   ]
  },
  {
   "cell_type": "code",
   "execution_count": null,
   "metadata": {
    "collapsed": false
   },
   "outputs": [],
   "source": [
    "# Exibindo a imagem!\n",
    "from IPython.display import Image\n",
    "Image(imagem.content)"
   ]
  },
  {
   "cell_type": "markdown",
   "metadata": {},
   "source": [
    "### Outros códigos de resposta"
   ]
  },
  {
   "cell_type": "code",
   "execution_count": null,
   "metadata": {
    "collapsed": false
   },
   "outputs": [],
   "source": [
    "# Tentando acessar uma página proibida!\n",
    "página_proibida = requests.get('http://httpbin.org/status/403')\n",
    "\n",
    "print(página_proibida.status_code)"
   ]
  },
  {
   "cell_type": "code",
   "execution_count": null,
   "metadata": {
    "collapsed": false
   },
   "outputs": [],
   "source": [
    "# E uma página que não existe?\n",
    "página_inexistente = requests.get('http://httpbin.org/blablabla')\n",
    "print(página_inexistente.status_code)"
   ]
  },
  {
   "cell_type": "code",
   "execution_count": null,
   "metadata": {
    "collapsed": false
   },
   "outputs": [],
   "source": [
    "# Tentando acessar uma página que me redireciona para outra.\n",
    "# Utilizei a flag `allow_redirects=False` para que a biblioteca `requests` não me redirecione automaticamente\n",
    "# Experimente fazer o pedido alterando a flag para True!\n",
    "redirecionamento = requests.get('http://httpbin.org/redirect-to?url=http://2016.pythonbrasil.org.br/',\n",
    "                                allow_redirects=False)\n",
    "\n",
    "# Qual foi o código de resposta?\n",
    "print(redirecionamento.status_code)"
   ]
  },
  {
   "cell_type": "code",
   "execution_count": null,
   "metadata": {
    "collapsed": false
   },
   "outputs": [],
   "source": [
    "# Quais os cabeçalhos da resposta?\n",
    "print(redirecionamento.headers)"
   ]
  },
  {
   "cell_type": "code",
   "execution_count": null,
   "metadata": {
    "collapsed": false,
    "scrolled": true
   },
   "outputs": [],
   "source": [
    "# Observe o cabeçalho `Location`!\n",
    "print(redirecionamento.headers['Location'])"
   ]
  },
  {
   "cell_type": "markdown",
   "metadata": {},
   "source": [
    "### Enviando parâmetros e dados via HTTP"
   ]
  },
  {
   "cell_type": "code",
   "execution_count": null,
   "metadata": {
    "collapsed": false
   },
   "outputs": [],
   "source": [
    "# Nós podemos especificar parâmetros ao fazer um pedido do tipo GET\n",
    "parâmetros = {\n",
    "    'data': '22/10/2012',\n",
    "    'local': 'Brasil'\n",
    "}\n",
    "\n",
    "r = requests.get('http://httpbin.org/get', params=parâmetros)\n",
    "\n",
    "# O HTTP Bin nos retorna no corpo da resposta os parâmetros que a gente enviou\n",
    "print(r.text)"
   ]
  },
  {
   "cell_type": "code",
   "execution_count": null,
   "metadata": {
    "collapsed": false
   },
   "outputs": [],
   "source": [
    "# Utilizando o verbo POST, podemos enviar dados para serem processados pela aplicação\n",
    "dados = {\n",
    "    'nome': 'João',\n",
    "    'idade': 20\n",
    "}\n",
    "r = requests.post('http://httpbin.org/post', data=dados)\n",
    "\n",
    "# Assim como no caso do GET, o HTTP Bin retorna os dados que enviamos no POST\n",
    "print(r.text)"
   ]
  },
  {
   "cell_type": "markdown",
   "metadata": {},
   "source": [
    "## JSON"
   ]
  },
  {
   "cell_type": "markdown",
   "metadata": {},
   "source": [
    "### Serialização e Desserialização"
   ]
  },
  {
   "cell_type": "code",
   "execution_count": null,
   "metadata": {
    "collapsed": false
   },
   "outputs": [],
   "source": [
    "from collections import namedtuple\n",
    "\n",
    "# Criando uma classe simples para armazenar dados de uma pessoa\n",
    "Pessoa = namedtuple('Pessoa', ['nome', 'idade', 'altura', 'bandas_favoritas', 'contatos'])"
   ]
  },
  {
   "cell_type": "code",
   "execution_count": null,
   "metadata": {
    "collapsed": true
   },
   "outputs": [],
   "source": [
    "# Criando uma nova instância para armazenar os dados de José\n",
    "josé = Pessoa(nome='José', idade=30, altura=1.76,\n",
    "              bandas_favoritas=['U2', 'Creedence'],\n",
    "              contatos={'email': 'jose@jose.com'})"
   ]
  },
  {
   "cell_type": "code",
   "execution_count": null,
   "metadata": {
    "collapsed": false
   },
   "outputs": [],
   "source": [
    "# `josé` é do tipo Pessoa!\n",
    "type(josé)"
   ]
  },
  {
   "cell_type": "code",
   "execution_count": null,
   "metadata": {
    "collapsed": false
   },
   "outputs": [],
   "source": [
    "# Inspecionando o que temos em `josé`\n",
    "print(josé)"
   ]
  },
  {
   "cell_type": "code",
   "execution_count": null,
   "metadata": {
    "collapsed": false
   },
   "outputs": [],
   "source": [
    "# Convertendo `josé` para JSON\n",
    "import json\n",
    "j = json.dumps(josé._asdict())\n",
    "print(j)"
   ]
  },
  {
   "cell_type": "code",
   "execution_count": null,
   "metadata": {
    "collapsed": false
   },
   "outputs": [],
   "source": [
    "# `j` agora é uma string!\n",
    "type(j)"
   ]
  },
  {
   "cell_type": "markdown",
   "metadata": {},
   "source": [
    "Por ser uma string, podemos transmiti-la, armazená-la, etc\n",
    "\n",
    "Esse processo de converter uma classe em uma entidade transmitível como uma string é chamado de **serialização**"
   ]
  },
  {
   "cell_type": "code",
   "execution_count": null,
   "metadata": {
    "collapsed": false
   },
   "outputs": [],
   "source": [
    "# Restaurando um objeto com base em `j`\n",
    "dados_novo_josé = json.loads(j)\n",
    "\n",
    "# `novo_josé` é um dicionário contendo os dados de `josé`\n",
    "print(dados_novo_josé)"
   ]
  },
  {
   "cell_type": "code",
   "execution_count": null,
   "metadata": {
    "collapsed": false
   },
   "outputs": [],
   "source": [
    "type(dados_novo_josé)"
   ]
  },
  {
   "cell_type": "code",
   "execution_count": null,
   "metadata": {
    "collapsed": false
   },
   "outputs": [],
   "source": [
    "novo_josé = Pessoa(**dados_novo_josé)"
   ]
  },
  {
   "cell_type": "code",
   "execution_count": null,
   "metadata": {
    "collapsed": false
   },
   "outputs": [],
   "source": [
    "type(novo_josé)"
   ]
  },
  {
   "cell_type": "code",
   "execution_count": null,
   "metadata": {
    "collapsed": false
   },
   "outputs": [],
   "source": [
    "print(novo_josé)"
   ]
  },
  {
   "cell_type": "code",
   "execution_count": null,
   "metadata": {
    "collapsed": false
   },
   "outputs": [],
   "source": [
    "# Os dois josés são iguais?\n",
    "novo_josé == josé"
   ]
  },
  {
   "cell_type": "markdown",
   "metadata": {},
   "source": [
    "Esse processo de converter o valor armazenado de volta em um objeto é chamado de **desserialização**"
   ]
  },
  {
   "cell_type": "markdown",
   "metadata": {},
   "source": [
    "### Manipulando JSON que vem da web"
   ]
  },
  {
   "cell_type": "code",
   "execution_count": null,
   "metadata": {
    "collapsed": false
   },
   "outputs": [],
   "source": [
    "# Fazendo o mesmo request de CEP do começo\n",
    "import requests\n",
    "cep = '88050001'\n",
    "url = 'https://viacep.com.br/ws/{cep}/json/'\n",
    "url = url.format(cep=cep)\n",
    "r = requests.get(url)\n",
    "print(r.text)"
   ]
  },
  {
   "cell_type": "code",
   "execution_count": null,
   "metadata": {
    "collapsed": true
   },
   "outputs": [],
   "source": [
    "# Lendo os dados como JSON para um dicionário!\n",
    "dados = json.loads(r.text)"
   ]
  },
  {
   "cell_type": "code",
   "execution_count": null,
   "metadata": {
    "collapsed": false
   },
   "outputs": [],
   "source": [
    "# Qual o tipo de dados que temos agora?\n",
    "type(dados)"
   ]
  },
  {
   "cell_type": "code",
   "execution_count": null,
   "metadata": {
    "collapsed": false
   },
   "outputs": [],
   "source": [
    "# Imprimindo nossos dados\n",
    "print(dados)"
   ]
  },
  {
   "cell_type": "code",
   "execution_count": null,
   "metadata": {
    "collapsed": false
   },
   "outputs": [],
   "source": [
    "# Como agora temos um dicionário, podemos acessar suas chaves\n",
    "print(dados['localidade'])"
   ]
  },
  {
   "cell_type": "code",
   "execution_count": null,
   "metadata": {
    "collapsed": false
   },
   "outputs": [],
   "source": [
    "print(dados['bairro'])"
   ]
  },
  {
   "cell_type": "code",
   "execution_count": 1,
   "metadata": {
    "collapsed": false
   },
   "outputs": [
    {
     "ename": "NameError",
     "evalue": "name 'dados' is not defined",
     "output_type": "error",
     "traceback": [
      "\u001b[0;31m---------------------------------------------------------------------------\u001b[0m",
      "\u001b[0;31mNameError\u001b[0m                                 Traceback (most recent call last)",
      "\u001b[0;32m<ipython-input-1-2debec316866>\u001b[0m in \u001b[0;36m<module>\u001b[0;34m()\u001b[0m\n\u001b[0;32m----> 1\u001b[0;31m \u001b[0mprint\u001b[0m\u001b[0;34m(\u001b[0m\u001b[0;34m'Você está na cidade de {cidade}-{estado}!'\u001b[0m\u001b[0;34m.\u001b[0m\u001b[0mformat\u001b[0m\u001b[0;34m(\u001b[0m\u001b[0mcidade\u001b[0m\u001b[0;34m=\u001b[0m\u001b[0mdados\u001b[0m\u001b[0;34m[\u001b[0m\u001b[0;34m'localidade'\u001b[0m\u001b[0;34m]\u001b[0m\u001b[0;34m,\u001b[0m \u001b[0mestado\u001b[0m\u001b[0;34m=\u001b[0m\u001b[0mdados\u001b[0m\u001b[0;34m[\u001b[0m\u001b[0;34m'uf'\u001b[0m\u001b[0;34m]\u001b[0m\u001b[0;34m)\u001b[0m\u001b[0;34m)\u001b[0m\u001b[0;34m\u001b[0m\u001b[0m\n\u001b[0m",
      "\u001b[0;31mNameError\u001b[0m: name 'dados' is not defined"
     ]
    }
   ],
   "source": [
    "print('Você está na cidade de {cidade}-{estado}!'.format(cidade=dados['localidade'], estado=dados['uf']))"
   ]
  },
  {
   "cell_type": "markdown",
   "metadata": {},
   "source": [
    "### OAUTH2"
   ]
  },
  {
   "cell_type": "code",
   "execution_count": null,
   "metadata": {
    "collapsed": true
   },
   "outputs": [],
   "source": [
    "import requests\n",
    "cabeçalho = {\n",
    "    'Authorization': \"OAuth oauth_consumer_key='{key}', oauth_nonce='{nonce}', oauth_signature='{sig}', oauth_signature_method='HMAC-SHA1', oauth_timestamp='{timestamp}',oauth_version='1.0''\"\n",
    "}\n",
    "\n",
    "key = 'qinsVbPWmJkRbwB5rJ6Aus8vk'\n",
    "nonce = '517d921228dd9277b0468af3c4838c9c'\n",
    "sig = 'H3OsYv9h8bQ0XUKcE%2FJbFl8AC%2B8%3D'\n",
    "timestamp = '1476326207'\n",
    "\n",
    "cabeçalho['Autorization'] = cabeçalho['Authorization'].format(key=key, nonce=nonce, sig=sig, timestamp=timestamp)\n",
    "tweets = requests.get('https://api.twitter.com/1.1/search/tweets.json?q=pythonbrasil',\n",
    "                     headers=cabeçalho)"
   ]
  }
 ],
 "metadata": {
  "kernelspec": {
   "display_name": "Python 3",
   "language": "python",
   "name": "python3"
  },
  "language_info": {
   "codemirror_mode": {
    "name": "ipython",
    "version": 3
   },
   "file_extension": ".py",
   "mimetype": "text/x-python",
   "name": "python",
   "nbconvert_exporter": "python",
   "pygments_lexer": "ipython3",
   "version": "3.5.2"
  }
 },
 "nbformat": 4,
 "nbformat_minor": 1
}

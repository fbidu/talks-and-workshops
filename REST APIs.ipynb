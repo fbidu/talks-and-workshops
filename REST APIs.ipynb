{
 "cells": [
  {
   "cell_type": "markdown",
   "metadata": {},
   "source": [
    "## Web APIs"
   ]
  },
  {
   "cell_type": "markdown",
   "metadata": {},
   "source": [
    "Utilizando uma API web para ler dados de um CEP"
   ]
  },
  {
   "cell_type": "code",
   "execution_count": null,
   "metadata": {
    "collapsed": false,
    "scrolled": true
   },
   "outputs": [],
   "source": [
    "import requests\n",
    "cep = '13083886'\n",
    "url = 'https://viacep.com.br/ws/{cep}/json/'\n",
    "url = url.format(cep=cep)\n",
    "r = requests.get(url)\n",
    "print(r.text)"
   ]
  },
  {
   "cell_type": "markdown",
   "metadata": {},
   "source": [
    "## HTTP"
   ]
  },
  {
   "cell_type": "markdown",
   "metadata": {},
   "source": [
    "Podemos brincar um pouco com o protocolo HTTP usando o site [httpbin](http://httpbin.org/) "
   ]
  },
  {
   "cell_type": "markdown",
   "metadata": {},
   "source": [
    "### Fazendo um GET e inspecionando os cabeçalhos de resposta básicos"
   ]
  },
  {
   "cell_type": "code",
   "execution_count": null,
   "metadata": {
    "collapsed": false
   },
   "outputs": [],
   "source": [
    "# Fazendo um GET no site\n",
    "resposta = requests.get('http://httpbin.org/')\n",
    "\n",
    "# Verificando o código HTTP da resposta\n",
    "resposta.status_code"
   ]
  },
  {
   "cell_type": "code",
   "execution_count": null,
   "metadata": {
    "collapsed": false
   },
   "outputs": [],
   "source": [
    "# Imprimindo os cabeçalhos da resposta\n",
    "print(resposta.headers)"
   ]
  },
  {
   "cell_type": "code",
   "execution_count": null,
   "metadata": {
    "collapsed": false
   },
   "outputs": [],
   "source": [
    "# Qual o tipo do conteúdo da resposta?\n",
    "print(resposta.headers['Content-Type'])"
   ]
  },
  {
   "cell_type": "code",
   "execution_count": null,
   "metadata": {
    "collapsed": false
   },
   "outputs": [],
   "source": [
    "# Qual o tamanho da resposta?\n",
    "print(resposta.headers['Content-Length'])"
   ]
  },
  {
   "cell_type": "code",
   "execution_count": null,
   "metadata": {
    "collapsed": false
   },
   "outputs": [],
   "source": [
    "# Fazendo um GET em https://api.ipify.org/\n",
    "meu_ip = requests.get('https://api.ipify.org/')\n",
    "\n",
    "# Imprimindo o conteúdo da resposta\n",
    "print(meu_ip.text)"
   ]
  },
  {
   "cell_type": "markdown",
   "metadata": {},
   "source": [
    "### Negociando o tipo do conteúdo usando cabeçalhos de pedido"
   ]
  },
  {
   "cell_type": "code",
   "execution_count": null,
   "metadata": {
    "collapsed": false
   },
   "outputs": [],
   "source": [
    "# Pedindo por uma imagem, sem especificar nada\n",
    "imagem = requests.get('http://httpbin.org/image')\n",
    "\n",
    "# Qual o tipo da imagem retornado?\n",
    "print(imagem.headers['Content-Type'])"
   ]
  },
  {
   "cell_type": "code",
   "execution_count": null,
   "metadata": {
    "collapsed": false
   },
   "outputs": [],
   "source": [
    "# application/json não é um tipo de imagem! O que aconteceu?\n",
    "print(imagem.text)"
   ]
  },
  {
   "cell_type": "code",
   "execution_count": null,
   "metadata": {
    "collapsed": false
   },
   "outputs": [],
   "source": [
    "# Qual foi o código de resposta?\n",
    "print(imagem.status_code)"
   ]
  },
  {
   "cell_type": "code",
   "execution_count": null,
   "metadata": {
    "collapsed": false
   },
   "outputs": [],
   "source": [
    "# Precisamos inserir um cabeçalho, especificando que queremos uma imagem\n",
    "cabeçalho = {'accept': 'image/*'}  # Cabeçalho que pede pelo tipo PNG\n",
    "imagem = requests.get('http://httpbin.org/image', headers=cabeçalho)\n",
    "\n",
    "# Qual o tipo agora?\n",
    "print(imagem.headers['Content-Type'])"
   ]
  },
  {
   "cell_type": "code",
   "execution_count": null,
   "metadata": {
    "collapsed": false
   },
   "outputs": [],
   "source": [
    "# Qual o código da resposta?\n",
    "print(imagem.status_code)"
   ]
  },
  {
   "cell_type": "code",
   "execution_count": null,
   "metadata": {
    "collapsed": false
   },
   "outputs": [],
   "source": [
    "# Qual o tamanho da resposta?\n",
    "print(imagem.headers['Content-Length'])"
   ]
  },
  {
   "cell_type": "code",
   "execution_count": null,
   "metadata": {
    "collapsed": false
   },
   "outputs": [],
   "source": [
    "# Exibindo a imagem!\n",
    "from IPython.display import Image\n",
    "Image(imagem.content)"
   ]
  },
  {
   "cell_type": "markdown",
   "metadata": {},
   "source": [
    "### Outros códigos de resposta"
   ]
  },
  {
   "cell_type": "code",
   "execution_count": null,
   "metadata": {
    "collapsed": false
   },
   "outputs": [],
   "source": [
    "# Tentando acessar uma página proibida!\n",
    "página_proibida = requests.get('http://httpbin.org/status/403')\n",
    "\n",
    "print(página_proibida.status_code)"
   ]
  },
  {
   "cell_type": "code",
   "execution_count": null,
   "metadata": {
    "collapsed": false
   },
   "outputs": [],
   "source": [
    "# E uma página que não existe?\n",
    "página_inexistente = requests.get('http://httpbin.org/blablabla')\n",
    "print(página_inexistente.status_code)"
   ]
  },
  {
   "cell_type": "code",
   "execution_count": null,
   "metadata": {
    "collapsed": false
   },
   "outputs": [],
   "source": [
    "# Tentando acessar uma página que me redireciona para outra.\n",
    "# Utilizei a flag `allow_redirects=False` para que a biblioteca `requests` não me redirecione automaticamente\n",
    "# Experimente fazer o pedido alterando a flag para True!\n",
    "redirecionamento = requests.get('http://httpbin.org/redirect-to?url=http://2016.pythonbrasil.org.br/',\n",
    "                                allow_redirects=False)\n",
    "\n",
    "# Qual foi o código de resposta?\n",
    "print(redirecionamento.status_code)"
   ]
  },
  {
   "cell_type": "code",
   "execution_count": null,
   "metadata": {
    "collapsed": false
   },
   "outputs": [],
   "source": [
    "# Quais os cabeçalhos da resposta?\n",
    "print(redirecionamento.headers)"
   ]
  },
  {
   "cell_type": "code",
   "execution_count": null,
   "metadata": {
    "collapsed": false
   },
   "outputs": [],
   "source": [
    "# Observe o cabeçalho `Location`!\n",
    "print(redirecionamento.headers['Location'])"
   ]
  }
 ],
 "metadata": {
  "kernelspec": {
   "display_name": "Python 3",
   "language": "python",
   "name": "python3"
  },
  "language_info": {
   "codemirror_mode": {
    "name": "ipython",
    "version": 3
   },
   "file_extension": ".py",
   "mimetype": "text/x-python",
   "name": "python",
   "nbconvert_exporter": "python",
   "pygments_lexer": "ipython3",
   "version": "3.4.3"
  }
 },
 "nbformat": 4,
 "nbformat_minor": 1
}

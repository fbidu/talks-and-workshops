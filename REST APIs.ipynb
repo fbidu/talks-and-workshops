{
 "cells": [
  {
   "cell_type": "markdown",
   "metadata": {},
   "source": [
    "## Web APIs"
   ]
  },
  {
   "cell_type": "markdown",
   "metadata": {},
   "source": [
    "Utilizando uma API web para ler dados de um CEP"
   ]
  },
  {
   "cell_type": "code",
   "execution_count": 59,
   "metadata": {
    "collapsed": false,
    "scrolled": true
   },
   "outputs": [
    {
     "name": "stdout",
     "output_type": "stream",
     "text": [
      "{\n",
      "  \"cep\": \"13083-886\",\n",
      "  \"logradouro\": \"Avenida André Tosello\",\n",
      "  \"complemento\": \"\",\n",
      "  \"bairro\": \"Cidade Universitária\",\n",
      "  \"localidade\": \"Campinas\",\n",
      "  \"uf\": \"SP\",\n",
      "  \"unidade\": \"\",\n",
      "  \"ibge\": \"3509502\",\n",
      "  \"gia\": \"2446\"\n",
      "}\n"
     ]
    }
   ],
   "source": [
    "import requests\n",
    "cep = '13083886'\n",
    "url = 'https://viacep.com.br/ws/{cep}/json/'\n",
    "url = url.format(cep=cep)\n",
    "r = requests.get(url)\n",
    "print(r.text)"
   ]
  },
  {
   "cell_type": "markdown",
   "metadata": {},
   "source": [
    "## HTTP"
   ]
  },
  {
   "cell_type": "markdown",
   "metadata": {},
   "source": [
    "Podemos brincar um pouco com o protocolo HTTP usando o site [httpbin](http://httpbin.org/) "
   ]
  },
  {
   "cell_type": "markdown",
   "metadata": {},
   "source": [
    "### Fazendo um GET e inspecionando os cabeçalhos de resposta básicos"
   ]
  },
  {
   "cell_type": "code",
   "execution_count": 60,
   "metadata": {
    "collapsed": false
   },
   "outputs": [
    {
     "data": {
      "text/plain": [
       "200"
      ]
     },
     "execution_count": 60,
     "metadata": {},
     "output_type": "execute_result"
    }
   ],
   "source": [
    "# Fazendo um GET no site\n",
    "resposta = requests.get('http://httpbin.org/')\n",
    "\n",
    "# Verificando o código HTTP da resposta\n",
    "resposta.status_code"
   ]
  },
  {
   "cell_type": "code",
   "execution_count": 61,
   "metadata": {
    "collapsed": false
   },
   "outputs": [
    {
     "name": "stdout",
     "output_type": "stream",
     "text": [
      "{'Content-Type': 'text/html; charset=utf-8', 'Date': 'Mon, 10 Oct 2016 12:31:47 GMT', 'Access-Control-Allow-Origin': '*', 'Access-Control-Allow-Credentials': 'true', 'Server': 'nginx', 'Connection': 'keep-alive', 'Content-Length': '12150'}\n"
     ]
    }
   ],
   "source": [
    "# Imprimindo os cabeçalhos da resposta\n",
    "print(resposta.headers)"
   ]
  },
  {
   "cell_type": "code",
   "execution_count": 29,
   "metadata": {
    "collapsed": false
   },
   "outputs": [
    {
     "name": "stdout",
     "output_type": "stream",
     "text": [
      "text/html; charset=utf-8\n"
     ]
    }
   ],
   "source": [
    "# Qual o tipo do conteúdo da resposta?\n",
    "print(resposta.headers['Content-Type'])"
   ]
  },
  {
   "cell_type": "code",
   "execution_count": 107,
   "metadata": {
    "collapsed": false
   },
   "outputs": [
    {
     "name": "stdout",
     "output_type": "stream",
     "text": [
      "12150\n"
     ]
    }
   ],
   "source": [
    "# Qual o tamanho da resposta?\n",
    "print(resposta.headers['Content-Length'])"
   ]
  },
  {
   "cell_type": "code",
   "execution_count": 109,
   "metadata": {
    "collapsed": false
   },
   "outputs": [
    {
     "name": "stdout",
     "output_type": "stream",
     "text": [
      "177.8.106.72\n"
     ]
    }
   ],
   "source": [
    "# Fazendo um GET em https://api.ipify.org/\n",
    "meu_ip = requests.get('https://api.ipify.org/')\n",
    "\n",
    "# Imprimindo o conteúdo da resposta\n",
    "print(meu_ip.text)"
   ]
  },
  {
   "cell_type": "markdown",
   "metadata": {},
   "source": [
    "### Negociando o tipo do conteúdo usando cabeçalhos de pedido"
   ]
  },
  {
   "cell_type": "code",
   "execution_count": 62,
   "metadata": {
    "collapsed": false
   },
   "outputs": [
    {
     "name": "stdout",
     "output_type": "stream",
     "text": [
      "application/json\n"
     ]
    }
   ],
   "source": [
    "# Pedindo por uma imagem, sem especificar nada\n",
    "imagem = requests.get('http://httpbin.org/image')\n",
    "\n",
    "# Qual o tipo da imagem retornado?\n",
    "print(imagem.headers['Content-Type'])"
   ]
  },
  {
   "cell_type": "code",
   "execution_count": 63,
   "metadata": {
    "collapsed": false
   },
   "outputs": [
    {
     "name": "stdout",
     "output_type": "stream",
     "text": [
      "{\"message\": \"Client did not request a supported media type.\", \"accept\": [\"image/webp\", \"image/svg+xml\", \"image/jpeg\", \"image/png\", \"image/*\"]}\n"
     ]
    }
   ],
   "source": [
    "# application/json não é um tipo de imagem! O que aconteceu?\n",
    "print(imagem.text)"
   ]
  },
  {
   "cell_type": "code",
   "execution_count": 64,
   "metadata": {
    "collapsed": false
   },
   "outputs": [
    {
     "name": "stdout",
     "output_type": "stream",
     "text": [
      "406\n"
     ]
    }
   ],
   "source": [
    "# Qual foi o código de resposta?\n",
    "print(imagem.status_code)"
   ]
  },
  {
   "cell_type": "code",
   "execution_count": 91,
   "metadata": {
    "collapsed": false
   },
   "outputs": [
    {
     "name": "stdout",
     "output_type": "stream",
     "text": [
      "image/png\n"
     ]
    }
   ],
   "source": [
    "# Precisamos inserir um cabeçalho, especificando que queremos uma imagem\n",
    "cabeçalho = {'accept': 'image/*'}  # Cabeçalho que pede pelo tipo PNG\n",
    "imagem = requests.get('http://httpbin.org/image', headers=cabeçalho)\n",
    "\n",
    "# Qual o tipo agora?\n",
    "print(imagem.headers['Content-Type'])"
   ]
  },
  {
   "cell_type": "code",
   "execution_count": 92,
   "metadata": {
    "collapsed": false
   },
   "outputs": [
    {
     "name": "stdout",
     "output_type": "stream",
     "text": [
      "200\n"
     ]
    }
   ],
   "source": [
    "# Qual o código da resposta?\n",
    "print(imagem.status_code)"
   ]
  },
  {
   "cell_type": "code",
   "execution_count": 94,
   "metadata": {
    "collapsed": false
   },
   "outputs": [
    {
     "name": "stdout",
     "output_type": "stream",
     "text": [
      "8090\n"
     ]
    }
   ],
   "source": [
    "# Qual o tamanho da resposta?\n",
    "print(imagem.headers['Content-Length'])"
   ]
  },
  {
   "cell_type": "code",
   "execution_count": 95,
   "metadata": {
    "collapsed": false
   },
   "outputs": [
    {
     "data": {
      "image/png": "[encoded data removed]",
      "text/plain": [
       "<IPython.core.display.Image object>"
      ]
     },
     "execution_count": 95,
     "metadata": {},
     "output_type": "execute_result"
    }
   ],
   "source": [
    "# Exibindo a imagem!\n",
    "from IPython.display import Image\n",
    "Image(imagem.content)"
   ]
  },
  {
   "cell_type": "markdown",
   "metadata": {},
   "source": [
    "### Outros códigos de resposta"
   ]
  },
  {
   "cell_type": "code",
   "execution_count": 123,
   "metadata": {
    "collapsed": false
   },
   "outputs": [
    {
     "name": "stdout",
     "output_type": "stream",
     "text": [
      "403\n"
     ]
    }
   ],
   "source": [
    "# Tentando acessar uma página proibida!\n",
    "página_proibida = requests.get('http://httpbin.org/status/403')\n",
    "\n",
    "print(página_proibida.status_code)"
   ]
  },
  {
   "cell_type": "code",
   "execution_count": 124,
   "metadata": {
    "collapsed": false
   },
   "outputs": [
    {
     "name": "stdout",
     "output_type": "stream",
     "text": [
      "404\n"
     ]
    }
   ],
   "source": [
    "# E uma página que não existe?\n",
    "página_inexistente = requests.get('http://httpbin.org/blablabla')\n",
    "print(página_inexistente.status_code)"
   ]
  },
  {
   "cell_type": "code",
   "execution_count": 125,
   "metadata": {
    "collapsed": false
   },
   "outputs": [
    {
     "name": "stdout",
     "output_type": "stream",
     "text": [
      "200\n"
     ]
    }
   ],
   "source": [
    "# Tentando acessar uma página que me redireciona para outra.\n",
    "# Utilizei a flag `allow_redirects=False` para que a biblioteca `requests` não me redirecione automaticamente\n",
    "# Experimente fazer o pedido alterando a flag para True!\n",
    "redirecionamento = requests.get('http://httpbin.org/redirect-to?url=http://2016.pythonbrasil.org.br/',\n",
    "                                allow_redirects=True)\n",
    "\n",
    "# Qual foi o código de resposta?\n",
    "print(redirecionamento.status_code)"
   ]
  },
  {
   "cell_type": "code",
   "execution_count": 126,
   "metadata": {
    "collapsed": false
   },
   "outputs": [
    {
     "name": "stdout",
     "output_type": "stream",
     "text": [
      "{'Expires': 'Mon, 10 Oct 2016 10:34:02 GMT', 'Content-Type': 'text/html; charset=utf-8', 'Date': 'Mon, 10 Oct 2016 13:08:02 GMT', 'Last-Modified': 'Fri, 07 Oct 2016 00:55:36 GMT', 'Accept-Ranges': 'bytes', 'Vary': 'Accept-Encoding', 'Cache-Control': 'max-age=600', 'Age': '0', 'Via': '1.1 varnish', 'Content-Encoding': 'gzip', 'Content-Length': '14927', 'Connection': 'keep-alive', 'Access-Control-Allow-Origin': '*', 'X-Served-By': 'cache-atl6231-ATL', 'X-Fastly-Request-ID': '17eb746ef63544a8f3cd6a6b4fb7584430db7df6', 'Server': 'GitHub.com', 'X-GitHub-Request-Id': '17EB272B:07C1:1DC5CC39:57FB6C40', 'X-Cache': 'HIT', 'X-Cache-Hits': '1'}\n"
     ]
    }
   ],
   "source": [
    "# Quais os cabeçalhos da resposta?\n",
    "print(redirecionamento.headers)"
   ]
  },
  {
   "cell_type": "code",
   "execution_count": 127,
   "metadata": {
    "collapsed": false
   },
   "outputs": [
    {
     "ename": "KeyError",
     "evalue": "'location'",
     "output_type": "error",
     "traceback": [
      "\u001b[0;31m---------------------------------------------------------------------------\u001b[0m",
      "\u001b[0;31mKeyError\u001b[0m                                  Traceback (most recent call last)",
      "\u001b[0;32m<ipython-input-127-f8832f1af37a>\u001b[0m in \u001b[0;36m<module>\u001b[0;34m()\u001b[0m\n\u001b[1;32m      1\u001b[0m \u001b[0;31m# Observe o cabeçalho `Location`!\u001b[0m\u001b[0;34m\u001b[0m\u001b[0;34m\u001b[0m\u001b[0m\n\u001b[0;32m----> 2\u001b[0;31m \u001b[0mprint\u001b[0m\u001b[0;34m(\u001b[0m\u001b[0mredirecionamento\u001b[0m\u001b[0;34m.\u001b[0m\u001b[0mheaders\u001b[0m\u001b[0;34m[\u001b[0m\u001b[0;34m'Location'\u001b[0m\u001b[0;34m]\u001b[0m\u001b[0;34m)\u001b[0m\u001b[0;34m\u001b[0m\u001b[0m\n\u001b[0m",
      "\u001b[0;32m/home/fbidu/talks-and-workshops/venv/lib/python3.4/site-packages/requests/structures.py\u001b[0m in \u001b[0;36m__getitem__\u001b[0;34m(self, key)\u001b[0m\n\u001b[1;32m     52\u001b[0m \u001b[0;34m\u001b[0m\u001b[0m\n\u001b[1;32m     53\u001b[0m     \u001b[0;32mdef\u001b[0m \u001b[0m__getitem__\u001b[0m\u001b[0;34m(\u001b[0m\u001b[0mself\u001b[0m\u001b[0;34m,\u001b[0m \u001b[0mkey\u001b[0m\u001b[0;34m)\u001b[0m\u001b[0;34m:\u001b[0m\u001b[0;34m\u001b[0m\u001b[0m\n\u001b[0;32m---> 54\u001b[0;31m         \u001b[0;32mreturn\u001b[0m \u001b[0mself\u001b[0m\u001b[0;34m.\u001b[0m\u001b[0m_store\u001b[0m\u001b[0;34m[\u001b[0m\u001b[0mkey\u001b[0m\u001b[0;34m.\u001b[0m\u001b[0mlower\u001b[0m\u001b[0;34m(\u001b[0m\u001b[0;34m)\u001b[0m\u001b[0;34m]\u001b[0m\u001b[0;34m[\u001b[0m\u001b[0;36m1\u001b[0m\u001b[0;34m]\u001b[0m\u001b[0;34m\u001b[0m\u001b[0m\n\u001b[0m\u001b[1;32m     55\u001b[0m \u001b[0;34m\u001b[0m\u001b[0m\n\u001b[1;32m     56\u001b[0m     \u001b[0;32mdef\u001b[0m \u001b[0m__delitem__\u001b[0m\u001b[0;34m(\u001b[0m\u001b[0mself\u001b[0m\u001b[0;34m,\u001b[0m \u001b[0mkey\u001b[0m\u001b[0;34m)\u001b[0m\u001b[0;34m:\u001b[0m\u001b[0;34m\u001b[0m\u001b[0m\n",
      "\u001b[0;31mKeyError\u001b[0m: 'location'"
     ]
    }
   ],
   "source": [
    "# Observe o cabeçalho `Location`!\n",
    "print(redirecionamento.headers['Location'])"
   ]
  }
 ],
 "metadata": {
  "kernelspec": {
   "display_name": "Python 3",
   "language": "python",
   "name": "python3"
  },
  "language_info": {
   "codemirror_mode": {
    "name": "ipython",
    "version": 3
   },
   "file_extension": ".py",
   "mimetype": "text/x-python",
   "name": "python",
   "nbconvert_exporter": "python",
   "pygments_lexer": "ipython3",
   "version": "3.4.3"
  }
 },
 "nbformat": 4,
 "nbformat_minor": 1
}

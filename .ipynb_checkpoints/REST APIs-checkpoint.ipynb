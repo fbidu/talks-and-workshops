{
 "cells": [
  {
   "cell_type": "markdown",
   "metadata": {},
   "source": [
    "## Web APIs"
   ]
  },
  {
   "cell_type": "markdown",
   "metadata": {},
   "source": [
    "Utilizando uma API web para ler dados de um CEP"
   ]
  },
  {
   "cell_type": "code",
   "execution_count": 72,
   "metadata": {
    "collapsed": false,
    "scrolled": true
   },
   "outputs": [
    {
     "name": "stdout",
     "output_type": "stream",
     "text": [
      "{\n",
      "  \"cep\": \"88050-001\",\n",
      "  \"logradouro\": \"Rodovia José Carlos Daux\",\n",
      "  \"complemento\": \"de 9000/9001 a 11999/12000\",\n",
      "  \"bairro\": \"Santo Antônio de Lisboa\",\n",
      "  \"localidade\": \"Florianópolis\",\n",
      "  \"uf\": \"SC\",\n",
      "  \"unidade\": \"\",\n",
      "  \"ibge\": \"4205407\",\n",
      "  \"gia\": \"\"\n",
      "}\n"
     ]
    }
   ],
   "source": [
    "import requests\n",
    "cep = '88050001'\n",
    "url = 'https://viacep.com.br/ws/{cep}/json/'\n",
    "url = url.format(cep=cep)\n",
    "r = requests.get(url)\n",
    "print(r.text)"
   ]
  },
  {
   "cell_type": "markdown",
   "metadata": {},
   "source": [
    "## HTTP"
   ]
  },
  {
   "cell_type": "markdown",
   "metadata": {},
   "source": [
    "Podemos brincar um pouco com o protocolo HTTP usando o site [httpbin](http://httpbin.org/) "
   ]
  },
  {
   "cell_type": "markdown",
   "metadata": {},
   "source": [
    "### Fazendo um GET e inspecionando os cabeçalhos de resposta básicos"
   ]
  },
  {
   "cell_type": "code",
   "execution_count": 38,
   "metadata": {
    "collapsed": false
   },
   "outputs": [
    {
     "data": {
      "text/plain": [
       "200"
      ]
     },
     "execution_count": 38,
     "metadata": {},
     "output_type": "execute_result"
    }
   ],
   "source": [
    "# Fazendo um GET no site\n",
    "resposta = requests.get('http://httpbin.org/')\n",
    "\n",
    "# Verificando o código HTTP da resposta\n",
    "resposta.status_code"
   ]
  },
  {
   "cell_type": "code",
   "execution_count": 39,
   "metadata": {
    "collapsed": false
   },
   "outputs": [
    {
     "name": "stdout",
     "output_type": "stream",
     "text": [
      "{'Server': 'nginx', 'Access-Control-Allow-Credentials': 'true', 'Connection': 'keep-alive', 'Content-Length': '12150', 'Content-Type': 'text/html; charset=utf-8', 'Access-Control-Allow-Origin': '*', 'Date': 'Mon, 10 Oct 2016 20:11:46 GMT'}\n"
     ]
    }
   ],
   "source": [
    "# Imprimindo os cabeçalhos da resposta\n",
    "print(resposta.headers)"
   ]
  },
  {
   "cell_type": "code",
   "execution_count": 40,
   "metadata": {
    "collapsed": false
   },
   "outputs": [
    {
     "name": "stdout",
     "output_type": "stream",
     "text": [
      "text/html; charset=utf-8\n"
     ]
    }
   ],
   "source": [
    "# Qual o tipo do conteúdo da resposta?\n",
    "print(resposta.headers['Content-Type'])"
   ]
  },
  {
   "cell_type": "code",
   "execution_count": 41,
   "metadata": {
    "collapsed": false
   },
   "outputs": [
    {
     "name": "stdout",
     "output_type": "stream",
     "text": [
      "12150\n"
     ]
    }
   ],
   "source": [
    "# Qual o tamanho da resposta?\n",
    "print(resposta.headers['Content-Length'])"
   ]
  },
  {
   "cell_type": "code",
   "execution_count": 42,
   "metadata": {
    "collapsed": false
   },
   "outputs": [
    {
     "name": "stdout",
     "output_type": "stream",
     "text": [
      "200.161.157.23\n"
     ]
    }
   ],
   "source": [
    "# Fazendo um GET em https://api.ipify.org/\n",
    "meu_ip = requests.get('https://api.ipify.org/')\n",
    "\n",
    "# Imprimindo o conteúdo da resposta\n",
    "print(meu_ip.text)"
   ]
  },
  {
   "cell_type": "markdown",
   "metadata": {},
   "source": [
    "### Negociando o tipo do conteúdo usando cabeçalhos de pedido"
   ]
  },
  {
   "cell_type": "code",
   "execution_count": 43,
   "metadata": {
    "collapsed": false
   },
   "outputs": [
    {
     "name": "stdout",
     "output_type": "stream",
     "text": [
      "application/json\n"
     ]
    }
   ],
   "source": [
    "# Pedindo por uma imagem, sem especificar nada\n",
    "imagem = requests.get('http://httpbin.org/image')\n",
    "\n",
    "# Qual o tipo da imagem retornado?\n",
    "print(imagem.headers['Content-Type'])"
   ]
  },
  {
   "cell_type": "code",
   "execution_count": 44,
   "metadata": {
    "collapsed": false
   },
   "outputs": [
    {
     "name": "stdout",
     "output_type": "stream",
     "text": [
      "{\"message\": \"Client did not request a supported media type.\", \"accept\": [\"image/webp\", \"image/svg+xml\", \"image/jpeg\", \"image/png\", \"image/*\"]}\n"
     ]
    }
   ],
   "source": [
    "# application/json não é um tipo de imagem! O que aconteceu?\n",
    "print(imagem.text)"
   ]
  },
  {
   "cell_type": "code",
   "execution_count": 5,
   "metadata": {
    "collapsed": false
   },
   "outputs": [
    {
     "name": "stdout",
     "output_type": "stream",
     "text": [
      "406\n"
     ]
    }
   ],
   "source": [
    "# Qual foi o código de resposta?\n",
    "print(imagem.status_code)"
   ]
  },
  {
   "cell_type": "code",
   "execution_count": 49,
   "metadata": {
    "collapsed": false
   },
   "outputs": [
    {
     "name": "stdout",
     "output_type": "stream",
     "text": [
      "image/webp\n"
     ]
    }
   ],
   "source": [
    "# Precisamos inserir um cabeçalho, especificando que queremos uma imagem\n",
    "cabeçalho = {'accept': 'image/webp'}  # Cabeçalho que pede pelo tipo PNG\n",
    "imagem = requests.get('http://httpbin.org/image', headers=cabeçalho)\n",
    "\n",
    "# Qual o tipo agora?\n",
    "print(imagem.headers['Content-Type'])"
   ]
  },
  {
   "cell_type": "code",
   "execution_count": 46,
   "metadata": {
    "collapsed": false
   },
   "outputs": [
    {
     "name": "stdout",
     "output_type": "stream",
     "text": [
      "200\n"
     ]
    }
   ],
   "source": [
    "# Qual o código da resposta?\n",
    "print(imagem.status_code)"
   ]
  },
  {
   "cell_type": "code",
   "execution_count": 50,
   "metadata": {
    "collapsed": false
   },
   "outputs": [
    {
     "name": "stdout",
     "output_type": "stream",
     "text": [
      "10568\n"
     ]
    }
   ],
   "source": [
    "# Qual o tamanho da resposta?\n",
    "print(imagem.headers['Content-Length'])"
   ]
  },
  {
   "cell_type": "code",
   "execution_count": 51,
   "metadata": {
    "collapsed": false
   },
   "outputs": [
    {
     "data": {
      "image/png": "[encoded data removed]",
      "text/plain": [
       "<IPython.core.display.Image object>"
      ]
     },
     "execution_count": 51,
     "metadata": {},
     "output_type": "execute_result"
    }
   ],
   "source": [
    "# Exibindo a imagem!\n",
    "from IPython.display import Image\n",
    "Image(imagem.content)"
   ]
  },
  {
   "cell_type": "markdown",
   "metadata": {},
   "source": [
    "### Outros códigos de resposta"
   ]
  },
  {
   "cell_type": "code",
   "execution_count": 52,
   "metadata": {
    "collapsed": false
   },
   "outputs": [
    {
     "name": "stdout",
     "output_type": "stream",
     "text": [
      "403\n"
     ]
    }
   ],
   "source": [
    "# Tentando acessar uma página proibida!\n",
    "página_proibida = requests.get('http://httpbin.org/status/403')\n",
    "\n",
    "print(página_proibida.status_code)"
   ]
  },
  {
   "cell_type": "code",
   "execution_count": 53,
   "metadata": {
    "collapsed": false
   },
   "outputs": [
    {
     "name": "stdout",
     "output_type": "stream",
     "text": [
      "404\n"
     ]
    }
   ],
   "source": [
    "# E uma página que não existe?\n",
    "página_inexistente = requests.get('http://httpbin.org/blablabla')\n",
    "print(página_inexistente.status_code)"
   ]
  },
  {
   "cell_type": "code",
   "execution_count": 54,
   "metadata": {
    "collapsed": false
   },
   "outputs": [
    {
     "name": "stdout",
     "output_type": "stream",
     "text": [
      "302\n"
     ]
    }
   ],
   "source": [
    "# Tentando acessar uma página que me redireciona para outra.\n",
    "# Utilizei a flag `allow_redirects=False` para que a biblioteca `requests` não me redirecione automaticamente\n",
    "# Experimente fazer o pedido alterando a flag para True!\n",
    "redirecionamento = requests.get('http://httpbin.org/redirect-to?url=http://2016.pythonbrasil.org.br/',\n",
    "                                allow_redirects=False)\n",
    "\n",
    "# Qual foi o código de resposta?\n",
    "print(redirecionamento.status_code)"
   ]
  },
  {
   "cell_type": "code",
   "execution_count": 55,
   "metadata": {
    "collapsed": false
   },
   "outputs": [
    {
     "name": "stdout",
     "output_type": "stream",
     "text": [
      "{'Server': 'nginx', 'Access-Control-Allow-Credentials': 'true', 'Connection': 'keep-alive', 'Content-Length': '0', 'Content-Type': 'text/html; charset=utf-8', 'Access-Control-Allow-Origin': '*', 'Location': 'http://2016.pythonbrasil.org.br/', 'Date': 'Mon, 10 Oct 2016 20:13:07 GMT'}\n"
     ]
    }
   ],
   "source": [
    "# Quais os cabeçalhos da resposta?\n",
    "print(redirecionamento.headers)"
   ]
  },
  {
   "cell_type": "code",
   "execution_count": 56,
   "metadata": {
    "collapsed": false,
    "scrolled": true
   },
   "outputs": [
    {
     "name": "stdout",
     "output_type": "stream",
     "text": [
      "http://2016.pythonbrasil.org.br/\n"
     ]
    }
   ],
   "source": [
    "# Observe o cabeçalho `Location`!\n",
    "print(redirecionamento.headers['Location'])"
   ]
  },
  {
   "cell_type": "markdown",
   "metadata": {},
   "source": [
    "### Enviando parâmetros e dados via HTTP"
   ]
  },
  {
   "cell_type": "code",
   "execution_count": 57,
   "metadata": {
    "collapsed": false
   },
   "outputs": [
    {
     "name": "stdout",
     "output_type": "stream",
     "text": [
      "{\n",
      "  \"args\": {\n",
      "    \"data\": \"22/10/2012\", \n",
      "    \"local\": \"Brasil\"\n",
      "  }, \n",
      "  \"headers\": {\n",
      "    \"Accept\": \"*/*\", \n",
      "    \"Accept-Encoding\": \"gzip, deflate\", \n",
      "    \"Host\": \"httpbin.org\", \n",
      "    \"User-Agent\": \"python-requests/2.11.1\"\n",
      "  }, \n",
      "  \"origin\": \"200.161.157.23\", \n",
      "  \"url\": \"http://httpbin.org/get?data=22%2F10%2F2012&local=Brasil\"\n",
      "}\n",
      "\n"
     ]
    }
   ],
   "source": [
    "# Nós podemos especificar parâmetros ao fazer um pedido do tipo GET\n",
    "parâmetros = {\n",
    "    'data': '22/10/2012',\n",
    "    'local': 'Brasil'\n",
    "}\n",
    "\n",
    "r = requests.get('http://httpbin.org/get', params=parâmetros)\n",
    "\n",
    "# O HTTP Bin nos retorna no corpo da resposta os parâmetros que a gente enviou\n",
    "print(r.text)"
   ]
  },
  {
   "cell_type": "code",
   "execution_count": 58,
   "metadata": {
    "collapsed": false
   },
   "outputs": [
    {
     "name": "stdout",
     "output_type": "stream",
     "text": [
      "{\n",
      "  \"args\": {}, \n",
      "  \"data\": \"\", \n",
      "  \"files\": {}, \n",
      "  \"form\": {\n",
      "    \"idade\": \"20\", \n",
      "    \"nome\": \"Jo\\u00e3o\"\n",
      "  }, \n",
      "  \"headers\": {\n",
      "    \"Accept\": \"*/*\", \n",
      "    \"Accept-Encoding\": \"gzip, deflate\", \n",
      "    \"Content-Length\": \"23\", \n",
      "    \"Content-Type\": \"application/x-www-form-urlencoded\", \n",
      "    \"Host\": \"httpbin.org\", \n",
      "    \"User-Agent\": \"python-requests/2.11.1\"\n",
      "  }, \n",
      "  \"json\": null, \n",
      "  \"origin\": \"200.161.157.23\", \n",
      "  \"url\": \"http://httpbin.org/post\"\n",
      "}\n",
      "\n"
     ]
    }
   ],
   "source": [
    "# Utilizando o verbo POST, podemos enviar dados para serem processados pela aplicação\n",
    "dados = {\n",
    "    'nome': 'João',\n",
    "    'idade': 20\n",
    "}\n",
    "r = requests.post('http://httpbin.org/post', data=dados)\n",
    "\n",
    "# Assim como no caso do GET, o HTTP Bin retorna os dados que enviamos no POST\n",
    "print(r.text)"
   ]
  },
  {
   "cell_type": "markdown",
   "metadata": {},
   "source": [
    "## JSON"
   ]
  },
  {
   "cell_type": "markdown",
   "metadata": {},
   "source": [
    "### Serialização e Desserialização"
   ]
  },
  {
   "cell_type": "code",
   "execution_count": 59,
   "metadata": {
    "collapsed": false
   },
   "outputs": [],
   "source": [
    "from collections import namedtuple\n",
    "\n",
    "# Criando uma classe simples para armazenar dados de uma pessoa\n",
    "Pessoa = namedtuple('Pessoa', ['nome', 'idade', 'altura', 'bandas_favoritas', 'contatos'])"
   ]
  },
  {
   "cell_type": "code",
   "execution_count": 60,
   "metadata": {
    "collapsed": true
   },
   "outputs": [],
   "source": [
    "# Criando uma nova instância para armazenar os dados de José\n",
    "josé = Pessoa(nome='José', idade=30, altura=1.76,\n",
    "              bandas_favoritas=['U2', 'Creedence'],\n",
    "              contatos={'email': 'jose@jose.com'})"
   ]
  },
  {
   "cell_type": "code",
   "execution_count": 61,
   "metadata": {
    "collapsed": false
   },
   "outputs": [
    {
     "data": {
      "text/plain": [
       "__main__.Pessoa"
      ]
     },
     "execution_count": 61,
     "metadata": {},
     "output_type": "execute_result"
    }
   ],
   "source": [
    "# `josé` é do tipo Pessoa!\n",
    "type(josé)"
   ]
  },
  {
   "cell_type": "code",
   "execution_count": 62,
   "metadata": {
    "collapsed": false
   },
   "outputs": [
    {
     "name": "stdout",
     "output_type": "stream",
     "text": [
      "Pessoa(nome='José', idade=30, altura=1.76, bandas_favoritas=['U2', 'Creedence'], contatos={'email': 'jose@jose.com'})\n"
     ]
    }
   ],
   "source": [
    "# Inspecionando o que temos em `josé`\n",
    "print(josé)"
   ]
  },
  {
   "cell_type": "code",
   "execution_count": 63,
   "metadata": {
    "collapsed": false
   },
   "outputs": [
    {
     "name": "stdout",
     "output_type": "stream",
     "text": [
      "{\"nome\": \"Jos\\u00e9\", \"idade\": 30, \"altura\": 1.76, \"bandas_favoritas\": [\"U2\", \"Creedence\"], \"contatos\": {\"email\": \"jose@jose.com\"}}\n"
     ]
    }
   ],
   "source": [
    "# Convertendo `josé` para JSON\n",
    "import json\n",
    "j = json.dumps(josé._asdict())\n",
    "print(j)"
   ]
  },
  {
   "cell_type": "code",
   "execution_count": 64,
   "metadata": {
    "collapsed": false
   },
   "outputs": [
    {
     "data": {
      "text/plain": [
       "str"
      ]
     },
     "execution_count": 64,
     "metadata": {},
     "output_type": "execute_result"
    }
   ],
   "source": [
    "# `j` agora é uma string!\n",
    "type(j)"
   ]
  },
  {
   "cell_type": "markdown",
   "metadata": {},
   "source": [
    "Por ser uma string, podemos transmiti-la, armazená-la, etc\n",
    "\n",
    "Esse processo de converter uma classe em uma entidade transmitível como uma string é chamado de **serialização**"
   ]
  },
  {
   "cell_type": "code",
   "execution_count": 65,
   "metadata": {
    "collapsed": false
   },
   "outputs": [
    {
     "name": "stdout",
     "output_type": "stream",
     "text": [
      "{'bandas_favoritas': ['U2', 'Creedence'], 'altura': 1.76, 'idade': 30, 'contatos': {'email': 'jose@jose.com'}, 'nome': 'José'}\n"
     ]
    }
   ],
   "source": [
    "# Restaurando um objeto com base em `j`\n",
    "dados_novo_josé = json.loads(j)\n",
    "\n",
    "# `novo_josé` é um dicionário contendo os dados de `josé`\n",
    "print(dados_novo_josé)"
   ]
  },
  {
   "cell_type": "code",
   "execution_count": 66,
   "metadata": {
    "collapsed": false
   },
   "outputs": [
    {
     "data": {
      "text/plain": [
       "dict"
      ]
     },
     "execution_count": 66,
     "metadata": {},
     "output_type": "execute_result"
    }
   ],
   "source": [
    "type(dados_novo_josé)"
   ]
  },
  {
   "cell_type": "code",
   "execution_count": 67,
   "metadata": {
    "collapsed": false
   },
   "outputs": [],
   "source": [
    "novo_josé = Pessoa(**dados_novo_josé)"
   ]
  },
  {
   "cell_type": "code",
   "execution_count": 68,
   "metadata": {
    "collapsed": false
   },
   "outputs": [
    {
     "data": {
      "text/plain": [
       "__main__.Pessoa"
      ]
     },
     "execution_count": 68,
     "metadata": {},
     "output_type": "execute_result"
    }
   ],
   "source": [
    "type(novo_josé)"
   ]
  },
  {
   "cell_type": "code",
   "execution_count": 69,
   "metadata": {
    "collapsed": false
   },
   "outputs": [
    {
     "name": "stdout",
     "output_type": "stream",
     "text": [
      "Pessoa(nome='José', idade=30, altura=1.76, bandas_favoritas=['U2', 'Creedence'], contatos={'email': 'jose@jose.com'})\n"
     ]
    }
   ],
   "source": [
    "print(novo_josé)"
   ]
  },
  {
   "cell_type": "code",
   "execution_count": 70,
   "metadata": {
    "collapsed": false
   },
   "outputs": [
    {
     "data": {
      "text/plain": [
       "True"
      ]
     },
     "execution_count": 70,
     "metadata": {},
     "output_type": "execute_result"
    }
   ],
   "source": [
    "# Os dois josés são iguais?\n",
    "novo_josé == josé"
   ]
  },
  {
   "cell_type": "markdown",
   "metadata": {},
   "source": [
    "Esse processo de converter o valor armazenado de volta em um objeto é chamado de **desserialização**"
   ]
  },
  {
   "cell_type": "markdown",
   "metadata": {},
   "source": [
    "### Manipulando JSON que vem da web"
   ]
  },
  {
   "cell_type": "code",
   "execution_count": 74,
   "metadata": {
    "collapsed": false
   },
   "outputs": [
    {
     "name": "stdout",
     "output_type": "stream",
     "text": [
      "{\n",
      "  \"cep\": \"88050-001\",\n",
      "  \"logradouro\": \"Rodovia José Carlos Daux\",\n",
      "  \"complemento\": \"de 9000/9001 a 11999/12000\",\n",
      "  \"bairro\": \"Santo Antônio de Lisboa\",\n",
      "  \"localidade\": \"Florianópolis\",\n",
      "  \"uf\": \"SC\",\n",
      "  \"unidade\": \"\",\n",
      "  \"ibge\": \"4205407\",\n",
      "  \"gia\": \"\"\n",
      "}\n"
     ]
    }
   ],
   "source": [
    "# Fazendo o mesmo request de CEP do começo\n",
    "import requests\n",
    "cep = '88050001'\n",
    "url = 'https://viacep.com.br/ws/{cep}/json/'\n",
    "url = url.format(cep=cep)\n",
    "r = requests.get(url)\n",
    "print(r.text)"
   ]
  },
  {
   "cell_type": "code",
   "execution_count": 76,
   "metadata": {
    "collapsed": true
   },
   "outputs": [],
   "source": [
    "# Lendo os dados como JSON para um dicionário!\n",
    "dados = json.loads(r.text)"
   ]
  },
  {
   "cell_type": "code",
   "execution_count": 78,
   "metadata": {
    "collapsed": false
   },
   "outputs": [
    {
     "data": {
      "text/plain": [
       "dict"
      ]
     },
     "execution_count": 78,
     "metadata": {},
     "output_type": "execute_result"
    }
   ],
   "source": [
    "# Qual o tipo de dados que temos agora?\n",
    "type(dados)"
   ]
  },
  {
   "cell_type": "code",
   "execution_count": 80,
   "metadata": {
    "collapsed": false
   },
   "outputs": [
    {
     "name": "stdout",
     "output_type": "stream",
     "text": [
      "{'bairro': 'Santo Antônio de Lisboa', 'unidade': '', 'localidade': 'Florianópolis', 'logradouro': 'Rodovia José Carlos Daux', 'ibge': '4205407', 'complemento': 'de 9000/9001 a 11999/12000', 'gia': '', 'uf': 'SC', 'cep': '88050-001'}\n"
     ]
    }
   ],
   "source": [
    "# Imprimindo nossos dados\n",
    "print(dados)"
   ]
  },
  {
   "cell_type": "code",
   "execution_count": 83,
   "metadata": {
    "collapsed": false
   },
   "outputs": [
    {
     "name": "stdout",
     "output_type": "stream",
     "text": [
      "Florianópolis\n"
     ]
    }
   ],
   "source": [
    "# Como agora temos um dicionário, podemos acessar suas chaves\n",
    "print(dados['localidade'])"
   ]
  },
  {
   "cell_type": "code",
   "execution_count": 86,
   "metadata": {
    "collapsed": false
   },
   "outputs": [
    {
     "name": "stdout",
     "output_type": "stream",
     "text": [
      "Santo Antônio de Lisboa\n"
     ]
    }
   ],
   "source": [
    "print(dados['bairro'])"
   ]
  },
  {
   "cell_type": "code",
   "execution_count": 87,
   "metadata": {
    "collapsed": false
   },
   "outputs": [
    {
     "name": "stdout",
     "output_type": "stream",
     "text": [
      "Você está na cidade de Florianópolis-SC!\n"
     ]
    }
   ],
   "source": [
    "print('Você está na cidade de {cidade}-{estado}!'.format(cidade=dados['localidade'], estado=dados['uf']))"
   ]
  }
 ],
 "metadata": {
  "kernelspec": {
   "display_name": "Python 3",
   "language": "python",
   "name": "python3"
  },
  "language_info": {
   "codemirror_mode": {
    "name": "ipython",
    "version": 3
   },
   "file_extension": ".py",
   "mimetype": "text/x-python",
   "name": "python",
   "nbconvert_exporter": "python",
   "pygments_lexer": "ipython3",
   "version": "3.5.2"
  }
 },
 "nbformat": 4,
 "nbformat_minor": 1
}

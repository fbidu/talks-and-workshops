{
 "cells": [
  {
   "cell_type": "markdown",
   "metadata": {},
   "source": [
    "## Web APIs"
   ]
  },
  {
   "cell_type": "markdown",
   "metadata": {},
   "source": [
    "Utilizando uma API web para ler dados de um CEP"
   ]
  },
  {
   "cell_type": "code",
   "execution_count": 2,
   "metadata": {
    "collapsed": false,
    "scrolled": true
   },
   "outputs": [
    {
     "name": "stdout",
     "output_type": "stream",
     "text": [
      "{\n",
      "  \"cep\": \"13083-886\",\n",
      "  \"logradouro\": \"Avenida André Tosello\",\n",
      "  \"complemento\": \"\",\n",
      "  \"bairro\": \"Cidade Universitária\",\n",
      "  \"localidade\": \"Campinas\",\n",
      "  \"uf\": \"SP\",\n",
      "  \"unidade\": \"\",\n",
      "  \"ibge\": \"3509502\",\n",
      "  \"gia\": \"2446\"\n",
      "}\n"
     ]
    }
   ],
   "source": [
    "import requests\n",
    "cep = '13083886'\n",
    "url = 'https://viacep.com.br/ws/{cep}/json/'\n",
    "url = url.format(cep=cep)\n",
    "r = requests.get(url)\n",
    "print(r.text)"
   ]
  },
  {
   "cell_type": "markdown",
   "metadata": {},
   "source": [
    "## HTTP"
   ]
  },
  {
   "cell_type": "markdown",
   "metadata": {},
   "source": [
    "Podemos brincar um pouco com o protocolo HTTP usando o site [httpbin](http://httpbin.org/) "
   ]
  },
  {
   "cell_type": "markdown",
   "metadata": {},
   "source": [
    "### Fazendo um GET e inspecionando os cabeçalhos de resposta básicos"
   ]
  },
  {
   "cell_type": "code",
   "execution_count": null,
   "metadata": {
    "collapsed": false
   },
   "outputs": [],
   "source": [
    "# Fazendo um GET no site\n",
    "resposta = requests.get('http://httpbin.org/')\n",
    "\n",
    "# Verificando o código HTTP da resposta\n",
    "resposta.status_code"
   ]
  },
  {
   "cell_type": "code",
   "execution_count": null,
   "metadata": {
    "collapsed": false
   },
   "outputs": [],
   "source": [
    "# Imprimindo os cabeçalhos da resposta\n",
    "print(resposta.headers)"
   ]
  },
  {
   "cell_type": "code",
   "execution_count": null,
   "metadata": {
    "collapsed": false
   },
   "outputs": [],
   "source": [
    "# Qual o tipo do conteúdo da resposta?\n",
    "print(resposta.headers['Content-Type'])"
   ]
  },
  {
   "cell_type": "code",
   "execution_count": null,
   "metadata": {
    "collapsed": false
   },
   "outputs": [],
   "source": [
    "# Qual o tamanho da resposta?\n",
    "print(resposta.headers['Content-Length'])"
   ]
  },
  {
   "cell_type": "code",
   "execution_count": null,
   "metadata": {
    "collapsed": false
   },
   "outputs": [],
   "source": [
    "# Fazendo um GET em https://api.ipify.org/\n",
    "meu_ip = requests.get('https://api.ipify.org/')\n",
    "\n",
    "# Imprimindo o conteúdo da resposta\n",
    "print(meu_ip.text)"
   ]
  },
  {
   "cell_type": "markdown",
   "metadata": {},
   "source": [
    "### Negociando o tipo do conteúdo usando cabeçalhos de pedido"
   ]
  },
  {
   "cell_type": "code",
   "execution_count": null,
   "metadata": {
    "collapsed": false
   },
   "outputs": [],
   "source": [
    "# Pedindo por uma imagem, sem especificar nada\n",
    "imagem = requests.get('http://httpbin.org/image')\n",
    "\n",
    "# Qual o tipo da imagem retornado?\n",
    "print(imagem.headers['Content-Type'])"
   ]
  },
  {
   "cell_type": "code",
   "execution_count": null,
   "metadata": {
    "collapsed": false
   },
   "outputs": [],
   "source": [
    "# application/json não é um tipo de imagem! O que aconteceu?\n",
    "print(imagem.text)"
   ]
  },
  {
   "cell_type": "code",
   "execution_count": null,
   "metadata": {
    "collapsed": false
   },
   "outputs": [],
   "source": [
    "# Qual foi o código de resposta?\n",
    "print(imagem.status_code)"
   ]
  },
  {
   "cell_type": "code",
   "execution_count": null,
   "metadata": {
    "collapsed": false
   },
   "outputs": [],
   "source": [
    "# Precisamos inserir um cabeçalho, especificando que queremos uma imagem\n",
    "cabeçalho = {'accept': 'image/*'}  # Cabeçalho que pede pelo tipo PNG\n",
    "imagem = requests.get('http://httpbin.org/image', headers=cabeçalho)\n",
    "\n",
    "# Qual o tipo agora?\n",
    "print(imagem.headers['Content-Type'])"
   ]
  },
  {
   "cell_type": "code",
   "execution_count": null,
   "metadata": {
    "collapsed": false
   },
   "outputs": [],
   "source": [
    "# Qual o código da resposta?\n",
    "print(imagem.status_code)"
   ]
  },
  {
   "cell_type": "code",
   "execution_count": null,
   "metadata": {
    "collapsed": false
   },
   "outputs": [],
   "source": [
    "# Qual o tamanho da resposta?\n",
    "print(imagem.headers['Content-Length'])"
   ]
  },
  {
   "cell_type": "code",
   "execution_count": null,
   "metadata": {
    "collapsed": false
   },
   "outputs": [],
   "source": [
    "# Exibindo a imagem!\n",
    "from IPython.display import Image\n",
    "Image(imagem.content)"
   ]
  },
  {
   "cell_type": "markdown",
   "metadata": {},
   "source": [
    "### Outros códigos de resposta"
   ]
  },
  {
   "cell_type": "code",
   "execution_count": null,
   "metadata": {
    "collapsed": false
   },
   "outputs": [],
   "source": [
    "# Tentando acessar uma página proibida!\n",
    "página_proibida = requests.get('http://httpbin.org/status/403')\n",
    "\n",
    "print(página_proibida.status_code)"
   ]
  },
  {
   "cell_type": "code",
   "execution_count": null,
   "metadata": {
    "collapsed": false
   },
   "outputs": [],
   "source": [
    "# E uma página que não existe?\n",
    "página_inexistente = requests.get('http://httpbin.org/blablabla')\n",
    "print(página_inexistente.status_code)"
   ]
  },
  {
   "cell_type": "code",
   "execution_count": null,
   "metadata": {
    "collapsed": false
   },
   "outputs": [],
   "source": [
    "# Tentando acessar uma página que me redireciona para outra.\n",
    "# Utilizei a flag `allow_redirects=False` para que a biblioteca `requests` não me redirecione automaticamente\n",
    "# Experimente fazer o pedido alterando a flag para True!\n",
    "redirecionamento = requests.get('http://httpbin.org/redirect-to?url=http://2016.pythonbrasil.org.br/',\n",
    "                                allow_redirects=False)\n",
    "\n",
    "# Qual foi o código de resposta?\n",
    "print(redirecionamento.status_code)"
   ]
  },
  {
   "cell_type": "code",
   "execution_count": null,
   "metadata": {
    "collapsed": false
   },
   "outputs": [],
   "source": [
    "# Quais os cabeçalhos da resposta?\n",
    "print(redirecionamento.headers)"
   ]
  },
  {
   "cell_type": "code",
   "execution_count": null,
   "metadata": {
    "collapsed": false,
    "scrolled": true
   },
   "outputs": [],
   "source": [
    "# Observe o cabeçalho `Location`!\n",
    "print(redirecionamento.headers['Location'])"
   ]
  },
  {
   "cell_type": "markdown",
   "metadata": {},
   "source": [
    "### Enviando parâmetros e dados via HTTP"
   ]
  },
  {
   "cell_type": "code",
   "execution_count": null,
   "metadata": {
    "collapsed": false
   },
   "outputs": [],
   "source": [
    "# Nós podemos especificar parâmetros ao fazer um pedido do tipo GET\n",
    "parâmetros = {\n",
    "    'data': '22/10/2012',\n",
    "    'local': 'Brasil'\n",
    "}\n",
    "\n",
    "r = requests.get('http://httpbin.org/get', params=parâmetros)\n",
    "\n",
    "# O HTTP Bin nos retorna no corpo da resposta os parâmetros que a gente enviou\n",
    "print(r.text)"
   ]
  },
  {
   "cell_type": "code",
   "execution_count": 3,
   "metadata": {
    "collapsed": false
   },
   "outputs": [
    {
     "name": "stdout",
     "output_type": "stream",
     "text": [
      "{\n",
      "  \"args\": {}, \n",
      "  \"data\": \"\", \n",
      "  \"files\": {}, \n",
      "  \"form\": {\n",
      "    \"idade\": \"20\", \n",
      "    \"nome\": \"Jo\\u00e3o\"\n",
      "  }, \n",
      "  \"headers\": {\n",
      "    \"Accept\": \"*/*\", \n",
      "    \"Accept-Encoding\": \"gzip, deflate\", \n",
      "    \"Content-Length\": \"23\", \n",
      "    \"Content-Type\": \"application/x-www-form-urlencoded\", \n",
      "    \"Host\": \"httpbin.org\", \n",
      "    \"User-Agent\": \"python-requests/2.11.1\"\n",
      "  }, \n",
      "  \"json\": null, \n",
      "  \"origin\": \"177.8.106.72\", \n",
      "  \"url\": \"http://httpbin.org/post\"\n",
      "}\n",
      "\n"
     ]
    }
   ],
   "source": [
    "# Utilizando o verbo POST, podemos enviar dados para serem processados pela aplicação\n",
    "dados = {\n",
    "    'nome': 'João',\n",
    "    'idade': 20\n",
    "}\n",
    "\n",
    "r = requests.post('http://httpbin.org/post', data=dados)\n",
    "\n",
    "# Assim como no caso do GET, o HTTP Bin retorna os dados que enviamos no POST\n",
    "print(r.text)"
   ]
  }
 ],
 "metadata": {
  "kernelspec": {
   "display_name": "Python 3",
   "language": "python",
   "name": "python3"
  },
  "language_info": {
   "codemirror_mode": {
    "name": "ipython",
    "version": 3
   },
   "file_extension": ".py",
   "mimetype": "text/x-python",
   "name": "python",
   "nbconvert_exporter": "python",
   "pygments_lexer": "ipython3",
   "version": "3.4.3"
  }
 },
 "nbformat": 4,
 "nbformat_minor": 1
}
